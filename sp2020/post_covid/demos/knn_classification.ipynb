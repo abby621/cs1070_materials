{
  "nbformat": 4,
  "nbformat_minor": 0,
  "metadata": {
    "colab": {
      "name": "Untitled3.ipynb",
      "provenance": [],
      "collapsed_sections": []
    },
    "kernelspec": {
      "name": "python3",
      "display_name": "Python 3"
    }
  },
  "cells": [
    {
      "cell_type": "code",
      "metadata": {
        "id": "h3rbwK6HZdkM",
        "colab_type": "code",
        "colab": {
          "base_uri": "https://localhost:8080/",
          "height": 105
        },
        "outputId": "3101dcf1-b04f-40ea-8769-032c697ec418"
      },
      "source": [
        "from datascience import *\n",
        "import numpy as np\n",
        "\n",
        "%matplotlib inline\n",
        "import matplotlib.pyplot as plt\n",
        "plt.style.use('fivethirtyeight')"
      ],
      "execution_count": 1,
      "outputs": [
        {
          "output_type": "stream",
          "text": [
            "/usr/local/lib/python3.6/dist-packages/datascience/tables.py:17: MatplotlibDeprecationWarning: The 'warn' parameter of use() is deprecated since Matplotlib 3.1 and will be removed in 3.3.  If any parameter follows 'warn', they should be pass as keyword, not positionally.\n",
            "  matplotlib.use('agg', warn=False)\n",
            "/usr/local/lib/python3.6/dist-packages/datascience/util.py:10: MatplotlibDeprecationWarning: The 'warn' parameter of use() is deprecated since Matplotlib 3.1 and will be removed in 3.3.  If any parameter follows 'warn', they should be pass as keyword, not positionally.\n",
            "  matplotlib.use('agg', warn=False)\n"
          ],
          "name": "stderr"
        }
      ]
    },
    {
      "cell_type": "code",
      "metadata": {
        "id": "JJ4wO_-AZeNJ",
        "colab_type": "code",
        "colab": {}
      },
      "source": [
        "patients = Table.read_table('https://raw.githubusercontent.com/abby621/cs1070_materials/master/fl2019/demos/breast-cancer.csv')"
      ],
      "execution_count": 0,
      "outputs": []
    },
    {
      "cell_type": "markdown",
      "metadata": {
        "id": "j7fGi9uiZlPK",
        "colab_type": "text"
      },
      "source": [
        "# Using sklearn to implement k-Nearest Neighbors\n",
        "https://scikit-learn.org/stable/modules/generated/sklearn.neighbors.KNeighborsClassifier.html"
      ]
    },
    {
      "cell_type": "code",
      "metadata": {
        "id": "Tslf0EIraIWu",
        "colab_type": "code",
        "colab": {
          "base_uri": "https://localhost:8080/",
          "height": 391
        },
        "outputId": "d364a1c1-5427-439c-de1d-52d5f5d06733"
      },
      "source": [
        "# first we need to create our training/testing split\n",
        "def split_dataset(table,class_column,irrelevant_columns=[], split=.5):\n",
        "  # shuffle the original dataset\n",
        "  shuffled = table.sample(with_replacement=False)\n",
        "\n",
        "  # make the first split*num_rows training data and the second testing data\n",
        "  trainrows = shuffled.take(range(int(split*table.num_rows)))\n",
        "  testrows = shuffled.take(range(int(split*table.num_rows), table.num_rows))\n",
        "\n",
        "  # get the labels for both the training and testing datasets\n",
        "  train_labels = trainrows[class_column]\n",
        "  test_labels = testrows[class_column]\n",
        "\n",
        "  # create empty arrays that only contain the relevant features for the classifier\n",
        "  # (e.g., not the class column, or any other columns you pass in as being irrelevant -- like an ID column)\n",
        "  train_set = np.zeros((trainrows.num_rows, trainrows.num_columns - 1 - len(irrelevant_columns)))\n",
        "  test_set = np.zeros((testrows.num_rows, testrows.num_columns - 1 - len(irrelevant_columns)))\n",
        "\n",
        "  # loop over every column and check if it's the class column or in irrelevant columns\n",
        "  for column_idx in range(trainrows.num_columns):\n",
        "    column_name = trainrows.column_labels[column_idx]\n",
        "    if column_name != class_column and column_name not in irrelevant_columns:\n",
        "      # if the column should be included, loop over all rows in both trainrows \n",
        "      # and testrows and update the values in the output datasets\n",
        "      for row_idx in range(trainrows.num_rows):\n",
        "        train_set[row_idx,column_idx] = trainrows[column_name][row_idx]\n",
        "      for row_idx in range(testrows.num_rows):\n",
        "        test_set[row_idx,column_idx] = testrows.column(column_name).item(row_idx)\n",
        "\n",
        "  # send back the training set, training labels, testing set and testing labels\n",
        "  return train_set, train_labels, test_set, test_labels\n",
        "\n",
        "train_set, train_labels, test_set, test_labels = split_dataset(patients,'Class')\n",
        "print('train labels: ', train_labels)\n",
        "print('test labels: ', test_labels)"
      ],
      "execution_count": 49,
      "outputs": [
        {
          "output_type": "stream",
          "text": [
            "train labels:  [1 1 0 1 0 1 1 0 1 1 0 0 1 1 0 0 0 0 1 0 0 0 1 0 1 0 0 0 0 0 0 0 0 0 0 1 0\n",
            " 1 0 0 1 0 0 0 0 1 0 0 0 0 1 1 0 1 0 1 0 0 1 0 0 1 1 1 0 1 0 0 1 0 1 0 0 0\n",
            " 0 0 1 1 0 0 1 1 0 0 0 1 1 0 1 1 0 0 0 0 1 0 1 1 1 0 0 0 0 0 1 0 0 1 1 0 0\n",
            " 0 0 1 1 1 1 1 1 0 1 0 0 0 0 0 0 1 1 0 0 0 1 0 0 0 0 0 0 0 0 0 1 0 0 0 0 0\n",
            " 0 0 0 0 0 0 0 0 0 0 1 0 0 1 0 0 1 0 0 1 1 0 0 0 1 0 1 0 1 0 0 1 0 1 1 1 0\n",
            " 0 1 1 0 1 0 1 0 1 0 0 1 1 0 1 0 0 0 1 1 0 1 1 1 1 1 0 1 0 0 1 1 0 0 0 0 0\n",
            " 0 1 1 1 0 0 1 0 0 0 0 0 0 0 0 0 1 0 0 1 1 0 0 0 0 0 0 1 0 0 0 1 0 0 1 1 0\n",
            " 0 1 0 0 1 0 0 0 1 1 0 0 0 0 0 0 1 1 0 1 1 0 1 0 0 0 1 1 1 1 0 0 1 0 1 0 0\n",
            " 1 0 0 1 0 1 1 0 1 0 0 0 1 0 0 0 1 0 0 0 0 1 1 1 0 0 0 1 0 0 1 0 0 0 0 0 1\n",
            " 0 1 0 1 0 0 0 0]\n",
            "test labels:  [0 0 0 1 1 0 0 1 0 0 1 0 0 0 0 1 1 1 0 1 0 0 1 1 0 1 0 1 1 1 1 0 0 0 0 1 0\n",
            " 0 1 0 0 0 0 1 1 0 0 0 0 1 0 0 1 0 1 0 0 1 0 1 0 0 0 1 0 0 1 1 0 1 1 1 1 0\n",
            " 0 0 0 0 1 0 0 0 0 0 0 0 0 0 0 1 0 1 0 1 0 0 0 0 0 0 1 0 1 1 0 0 0 1 0 1 1\n",
            " 1 0 0 1 1 1 1 1 1 0 0 1 0 1 0 0 0 0 0 0 0 0 0 1 0 0 1 1 0 0 1 0 1 1 0 0 0\n",
            " 1 0 1 0 0 1 0 1 0 0 1 0 1 0 0 0 0 1 0 1 0 0 1 1 0 0 1 0 0 0 0 0 1 0 1 1 0\n",
            " 0 1 1 0 1 0 0 1 0 0 0 1 0 0 0 0 0 1 1 0 0 0 0 0 1 0 0 0 0 1 0 0 0 1 0 0 1\n",
            " 1 0 0 0 0 0 0 0 0 0 0 1 0 0 1 0 0 0 0 0 0 1 0 0 1 0 0 0 0 0 1 0 0 1 1 1 0\n",
            " 1 0 1 0 1 1 0 0 0 0 0 0 1 0 0 0 1 1 1 0 0 1 0 0 1 0 0 0 0 0 0 0 1 0 1 0 1\n",
            " 0 0 1 1 0 0 0 0 1 1 0 0 0 0 1 0 1 0 0 1 0 0 0 0 0 0 0 1 0 0 0 0 0 0 0 0 0\n",
            " 0 1 0 1 0 0 1 0 1]\n"
          ],
          "name": "stdout"
        },
        {
          "output_type": "stream",
          "text": [
            "/usr/local/lib/python3.6/dist-packages/datascience/tables.py:234: FutureWarning: column_labels is deprecated; use labels\n",
            "  warnings.warn(\"column_labels is deprecated; use labels\", FutureWarning)\n"
          ],
          "name": "stderr"
        }
      ]
    },
    {
      "cell_type": "code",
      "metadata": {
        "id": "nnkYTS56cStg",
        "colab_type": "code",
        "colab": {
          "base_uri": "https://localhost:8080/",
          "height": 299
        },
        "outputId": "eb2b9d81-3c98-498a-c2f9-57592602f045"
      },
      "source": [
        "# we can look and see that by randomly splitting the dataset, we ended up with similar statistics for the training and testing sets\n",
        "plt.hist(train_labels,bins=[0,.5,1],alpha=0.5)\n",
        "plt.hist(test_labels,bins=[0,.5,1],alpha=0.5)"
      ],
      "execution_count": 32,
      "outputs": [
        {
          "output_type": "execute_result",
          "data": {
            "text/plain": [
              "(array([227., 115.]), array([0. , 0.5, 1. ]), <a list of 2 Patch objects>)"
            ]
          },
          "metadata": {
            "tags": []
          },
          "execution_count": 32
        },
        {
          "output_type": "display_data",
          "data": {
            "image/png": "[encoded data removed]",
            "text/plain": [
              "<Figure size 432x288 with 1 Axes>"
            ]
          },
          "metadata": {
            "tags": []
          }
        }
      ]
    },
    {
      "cell_type": "code",
      "metadata": {
        "id": "3P9jVAyGZqDH",
        "colab_type": "code",
        "colab": {
          "base_uri": "https://localhost:8080/",
          "height": 68
        },
        "outputId": "b0841509-c975-4a71-d47d-7da570af323f"
      },
      "source": [
        "from sklearn.neighbors import KNeighborsClassifier\n",
        "\n",
        "# k is the number of neighbors we will consider in our classifier\n",
        "k = 1\n",
        "\n",
        "# create our classifier and pass our training data into it\n",
        "knn = KNeighborsClassifier(n_neighbors=k)\n",
        "knn.fit(train_set,train_labels)"
      ],
      "execution_count": 51,
      "outputs": [
        {
          "output_type": "execute_result",
          "data": {
            "text/plain": [
              "KNeighborsClassifier(algorithm='auto', leaf_size=30, metric='minkowski',\n",
              "                     metric_params=None, n_jobs=None, n_neighbors=1, p=2,\n",
              "                     weights='uniform')"
            ]
          },
          "metadata": {
            "tags": []
          },
          "execution_count": 51
        }
      ]
    },
    {
      "cell_type": "code",
      "metadata": {
        "id": "M7neXfU4hWxP",
        "colab_type": "code",
        "colab": {
          "base_uri": "https://localhost:8080/",
          "height": 289
        },
        "outputId": "732494d4-670f-461a-b9d5-d0a2849ae28f"
      },
      "source": [
        "knn.predict(test_set)"
      ],
      "execution_count": 56,
      "outputs": [
        {
          "output_type": "execute_result",
          "data": {
            "text/plain": [
              "array([0, 0, 0, 1, 0, 0, 1, 1, 0, 1, 0, 1, 1, 0, 0, 0, 0, 0, 1, 1, 1, 0,\n",
              "       0, 0, 0, 0, 1, 1, 1, 1, 1, 0, 0, 0, 0, 1, 0, 1, 0, 0, 0, 1, 1, 1,\n",
              "       0, 1, 0, 0, 0, 1, 0, 0, 0, 0, 0, 1, 0, 0, 0, 0, 0, 0, 0, 0, 1, 0,\n",
              "       0, 0, 1, 0, 0, 1, 0, 0, 1, 0, 0, 0, 0, 1, 1, 0, 0, 0, 0, 1, 1, 1,\n",
              "       1, 0, 0, 0, 0, 1, 0, 0, 0, 0, 1, 1, 1, 0, 0, 1, 0, 0, 0, 1, 0, 0,\n",
              "       1, 0, 1, 0, 0, 0, 0, 1, 0, 1, 0, 1, 0, 0, 0, 0, 0, 0, 1, 1, 0, 0,\n",
              "       1, 0, 1, 1, 0, 0, 1, 0, 1, 0, 1, 1, 1, 0, 0, 0, 0, 0, 0, 0, 1, 1,\n",
              "       1, 0, 0, 0, 0, 0, 0, 1, 1, 0, 0, 0, 0, 0, 0, 0, 1, 1, 0, 0, 0, 0,\n",
              "       1, 0, 1, 1, 1, 1, 1, 0, 1, 0, 0, 0, 1, 0, 1, 1, 0, 0, 1, 1, 1, 1,\n",
              "       1, 0, 1, 0, 0, 0, 0, 1, 1, 0, 1, 0, 1, 1, 1, 0, 1, 1, 0, 0, 1, 0,\n",
              "       1, 0, 0, 1, 0, 0, 1, 0, 0, 0, 1, 1, 0, 1, 0, 0, 0, 0, 0, 0, 1, 0,\n",
              "       0, 1, 0, 0, 1, 0, 1, 0, 0, 1, 1, 0, 0, 1, 1, 0, 0, 1, 0, 1, 0, 1,\n",
              "       0, 0, 0, 0, 0, 0, 0, 1, 1, 0, 0, 1, 1, 1, 0, 0, 1, 0, 1, 1, 0, 0,\n",
              "       0, 0, 0, 0, 0, 0, 0, 1, 0, 1, 0, 0, 0, 0, 1, 0, 1, 0, 0, 0, 0, 0,\n",
              "       0, 0, 1, 1, 0, 0, 1, 0, 1, 0, 0, 0, 1, 1, 0, 0, 1, 0, 1, 0, 1, 1,\n",
              "       0, 0, 0, 0, 0, 0, 0, 0, 0, 0, 0, 1])"
            ]
          },
          "metadata": {
            "tags": []
          },
          "execution_count": 56
        }
      ]
    },
    {
      "cell_type": "code",
      "metadata": {
        "id": "dxZl-1AKh0kF",
        "colab_type": "code",
        "colab": {
          "base_uri": "https://localhost:8080/",
          "height": 34
        },
        "outputId": "5bd708da-572f-47d7-cb10-4a094b5d9087"
      },
      "source": [
        "(knn.predict(test_set)==test_labels).sum() / len(test_labels)"
      ],
      "execution_count": 59,
      "outputs": [
        {
          "output_type": "execute_result",
          "data": {
            "text/plain": [
              "0.5847953216374269"
            ]
          },
          "metadata": {
            "tags": []
          },
          "execution_count": 59
        }
      ]
    },
    {
      "cell_type": "code",
      "metadata": {
        "id": "HR0of_Slhq0R",
        "colab_type": "code",
        "colab": {
          "base_uri": "https://localhost:8080/",
          "height": 34
        },
        "outputId": "3b01fe28-a48d-4c5b-dfb1-a31048fc4da1"
      },
      "source": [
        "knn.score(test_set,test_labels)"
      ],
      "execution_count": 57,
      "outputs": [
        {
          "output_type": "execute_result",
          "data": {
            "text/plain": [
              "0.5847953216374269"
            ]
          },
          "metadata": {
            "tags": []
          },
          "execution_count": 57
        }
      ]
    },
    {
      "cell_type": "markdown",
      "metadata": {
        "id": "uhixVKRQh8No",
        "colab_type": "text"
      },
      "source": [
        "Your homework for this week:\n",
        "\n",
        "The function split_dataset takes in a parameter split. By default this is set to 0.5 (or, it splits the dataset to have 50% in the training dataset and 50% in the testing dataset). Explore the impact on your testing accuracy for different values of split between 0.5 and 0.9.\n",
        "\n",
        "Additionally explore different numbers of neighbors (values of k).\n",
        "\n",
        "Make a write up (1 - 2 paragraphs) of the impact changing these different values has on the testing accuracy of your knn classifier. Post this write up to your slack channel.\n",
        "\n",
        "You may discuss this assignment with your peers on slack, but your write up should be done on your own."
      ]
    }
  ]
}
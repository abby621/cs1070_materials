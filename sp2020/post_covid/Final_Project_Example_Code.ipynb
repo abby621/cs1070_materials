{
  "nbformat": 4,
  "nbformat_minor": 0,
  "metadata": {
    "colab": {
      "name": "Final Project Example Code",
      "provenance": []
    },
    "kernelspec": {
      "name": "python3",
      "display_name": "Python 3"
    }
  },
  "cells": [
    {
      "cell_type": "code",
      "metadata": {
        "id": "afLjhAarJcR-",
        "colab_type": "code",
        "colab": {}
      },
      "source": [
        "# Lots of useful imports -- not all of which you will use!!\n",
        "# And you might need others -- reach out to me and I can help with anything you're not sure how to do\n",
        "# Be sure to use our previous assignments as a starting point.\n",
        "import numpy as np\n",
        "import pandas as pd\n",
        "import random\n",
        "import matplotlib.pyplot as plt\n",
        "%matplotlib inline\n",
        "\n",
        "# Imports for kNN Classifier\n",
        "from sklearn.neighbors import KNeighborsClassifier\n",
        "\n",
        "# Imports for k-means clustering\n",
        "from sklearn.cluster import KMeans\n",
        "\n",
        "# Other useful sklearn imports\n",
        "from sklearn.model_selection import train_test_split\n",
        "from sklearn.metrics import accuracy_score"
      ],
      "execution_count": 0,
      "outputs": []
    },
    {
      "cell_type": "code",
      "metadata": {
        "id": "QMOOlD4tKiHH",
        "colab_type": "code",
        "colab": {
          "base_uri": "https://localhost:8080/",
          "height": 402
        },
        "outputId": "ffa2fb43-c3d1-4eeb-e247-ec7a43b7f5be"
      },
      "source": [
        "# Loading data from a CSV\n",
        "dataframe = pd.read_csv('https://raw.githubusercontent.com/abby621/cs1070_materials/master/fl2019/demos/galton.csv')\n",
        "dataframe"
      ],
      "execution_count": 4,
      "outputs": [
        {
          "output_type": "execute_result",
          "data": {
            "text/html": [
              "<div>\n",
              "<style scoped>\n",
              "    .dataframe tbody tr th:only-of-type {\n",
              "        vertical-align: middle;\n",
              "    }\n",
              "\n",
              "    .dataframe tbody tr th {\n",
              "        vertical-align: top;\n",
              "    }\n",
              "\n",
              "    .dataframe thead th {\n",
              "        text-align: right;\n",
              "    }\n",
              "</style>\n",
              "<table border=\"1\" class=\"dataframe\">\n",
              "  <thead>\n",
              "    <tr style=\"text-align: right;\">\n",
              "      <th></th>\n",
              "      <th>family</th>\n",
              "      <th>father</th>\n",
              "      <th>mother</th>\n",
              "      <th>midparentHeight</th>\n",
              "      <th>children</th>\n",
              "      <th>childNum</th>\n",
              "      <th>gender</th>\n",
              "      <th>childHeight</th>\n",
              "    </tr>\n",
              "  </thead>\n",
              "  <tbody>\n",
              "    <tr>\n",
              "      <th>0</th>\n",
              "      <td>1</td>\n",
              "      <td>78.5</td>\n",
              "      <td>67.0</td>\n",
              "      <td>75.43</td>\n",
              "      <td>4</td>\n",
              "      <td>1</td>\n",
              "      <td>male</td>\n",
              "      <td>73.2</td>\n",
              "    </tr>\n",
              "    <tr>\n",
              "      <th>1</th>\n",
              "      <td>1</td>\n",
              "      <td>78.5</td>\n",
              "      <td>67.0</td>\n",
              "      <td>75.43</td>\n",
              "      <td>4</td>\n",
              "      <td>2</td>\n",
              "      <td>female</td>\n",
              "      <td>69.2</td>\n",
              "    </tr>\n",
              "    <tr>\n",
              "      <th>2</th>\n",
              "      <td>1</td>\n",
              "      <td>78.5</td>\n",
              "      <td>67.0</td>\n",
              "      <td>75.43</td>\n",
              "      <td>4</td>\n",
              "      <td>3</td>\n",
              "      <td>female</td>\n",
              "      <td>69.0</td>\n",
              "    </tr>\n",
              "    <tr>\n",
              "      <th>3</th>\n",
              "      <td>1</td>\n",
              "      <td>78.5</td>\n",
              "      <td>67.0</td>\n",
              "      <td>75.43</td>\n",
              "      <td>4</td>\n",
              "      <td>4</td>\n",
              "      <td>female</td>\n",
              "      <td>69.0</td>\n",
              "    </tr>\n",
              "    <tr>\n",
              "      <th>4</th>\n",
              "      <td>2</td>\n",
              "      <td>75.5</td>\n",
              "      <td>66.5</td>\n",
              "      <td>73.66</td>\n",
              "      <td>4</td>\n",
              "      <td>1</td>\n",
              "      <td>male</td>\n",
              "      <td>73.5</td>\n",
              "    </tr>\n",
              "    <tr>\n",
              "      <th>...</th>\n",
              "      <td>...</td>\n",
              "      <td>...</td>\n",
              "      <td>...</td>\n",
              "      <td>...</td>\n",
              "      <td>...</td>\n",
              "      <td>...</td>\n",
              "      <td>...</td>\n",
              "      <td>...</td>\n",
              "    </tr>\n",
              "    <tr>\n",
              "      <th>929</th>\n",
              "      <td>203</td>\n",
              "      <td>62.0</td>\n",
              "      <td>66.0</td>\n",
              "      <td>66.64</td>\n",
              "      <td>3</td>\n",
              "      <td>1</td>\n",
              "      <td>male</td>\n",
              "      <td>64.0</td>\n",
              "    </tr>\n",
              "    <tr>\n",
              "      <th>930</th>\n",
              "      <td>203</td>\n",
              "      <td>62.0</td>\n",
              "      <td>66.0</td>\n",
              "      <td>66.64</td>\n",
              "      <td>3</td>\n",
              "      <td>2</td>\n",
              "      <td>female</td>\n",
              "      <td>62.0</td>\n",
              "    </tr>\n",
              "    <tr>\n",
              "      <th>931</th>\n",
              "      <td>203</td>\n",
              "      <td>62.0</td>\n",
              "      <td>66.0</td>\n",
              "      <td>66.64</td>\n",
              "      <td>3</td>\n",
              "      <td>3</td>\n",
              "      <td>female</td>\n",
              "      <td>61.0</td>\n",
              "    </tr>\n",
              "    <tr>\n",
              "      <th>932</th>\n",
              "      <td>204</td>\n",
              "      <td>62.5</td>\n",
              "      <td>63.0</td>\n",
              "      <td>65.27</td>\n",
              "      <td>2</td>\n",
              "      <td>1</td>\n",
              "      <td>male</td>\n",
              "      <td>66.5</td>\n",
              "    </tr>\n",
              "    <tr>\n",
              "      <th>933</th>\n",
              "      <td>204</td>\n",
              "      <td>62.5</td>\n",
              "      <td>63.0</td>\n",
              "      <td>65.27</td>\n",
              "      <td>2</td>\n",
              "      <td>2</td>\n",
              "      <td>female</td>\n",
              "      <td>57.0</td>\n",
              "    </tr>\n",
              "  </tbody>\n",
              "</table>\n",
              "<p>934 rows × 8 columns</p>\n",
              "</div>"
            ],
            "text/plain": [
              "    family  father  mother  ...  childNum  gender  childHeight\n",
              "0        1    78.5    67.0  ...         1    male         73.2\n",
              "1        1    78.5    67.0  ...         2  female         69.2\n",
              "2        1    78.5    67.0  ...         3  female         69.0\n",
              "3        1    78.5    67.0  ...         4  female         69.0\n",
              "4        2    75.5    66.5  ...         1    male         73.5\n",
              "..     ...     ...     ...  ...       ...     ...          ...\n",
              "929    203    62.0    66.0  ...         1    male         64.0\n",
              "930    203    62.0    66.0  ...         2  female         62.0\n",
              "931    203    62.0    66.0  ...         3  female         61.0\n",
              "932    204    62.5    63.0  ...         1    male         66.5\n",
              "933    204    62.5    63.0  ...         2  female         57.0\n",
              "\n",
              "[934 rows x 8 columns]"
            ]
          },
          "metadata": {
            "tags": []
          },
          "execution_count": 4
        }
      ]
    },
    {
      "cell_type": "code",
      "metadata": {
        "id": "SSZompaMMtlE",
        "colab_type": "code",
        "colab": {}
      },
      "source": [
        "# Getting the values of one column from the dataframe\n",
        "father_heights = np.array(dataframe['father'])\n",
        "mother_heights = np.array(dataframe['mother'])"
      ],
      "execution_count": 0,
      "outputs": []
    },
    {
      "cell_type": "code",
      "metadata": {
        "id": "QdKEPoK8Na72",
        "colab_type": "code",
        "colab": {
          "base_uri": "https://localhost:8080/",
          "height": 151
        },
        "outputId": "4c4ec1d6-e139-413d-8d75-1a08ef93635b"
      },
      "source": [
        "# Getting the column headers for the dataframe\n",
        "column_names = dataframe.columns\n",
        "\n",
        "# Using a for loop to loop over column names:\n",
        "for idx in range(len(column_names)):\n",
        "  print('Column ' + str(idx) + ': ',column_names[idx])"
      ],
      "execution_count": 17,
      "outputs": [
        {
          "output_type": "stream",
          "text": [
            "Column 0:  family\n",
            "Column 1:  father\n",
            "Column 2:  mother\n",
            "Column 3:  midparentHeight\n",
            "Column 4:  children\n",
            "Column 5:  childNum\n",
            "Column 6:  gender\n",
            "Column 7:  childHeight\n"
          ],
          "name": "stdout"
        }
      ]
    },
    {
      "cell_type": "code",
      "metadata": {
        "id": "snnzc7PWM74m",
        "colab_type": "code",
        "colab": {
          "base_uri": "https://localhost:8080/",
          "height": 34
        },
        "outputId": "1aa249ab-3c64-4af2-ace9-497c1c3cdce0"
      },
      "source": [
        "# Getting just one row from the dataframe\n",
        "row0 = dataframe.iloc[0]\n",
        "row50 = dataframe.iloc[50]\n",
        "\n",
        "row0_array = np.array(row0)\n",
        "row50_array = np.array(row50)\n",
        "\n",
        "print(row0_array, row50_array)"
      ],
      "execution_count": 14,
      "outputs": [
        {
          "output_type": "stream",
          "text": [
            "['1' 78.5 67.0 75.43 4 1 'male' 73.2] ['16' 73.0 65.0 71.6 9 2 'male' 70.5]\n"
          ],
          "name": "stdout"
        }
      ]
    },
    {
      "cell_type": "markdown",
      "metadata": {
        "id": "XLj8Hw4jRahl",
        "colab_type": "text"
      },
      "source": [
        "# Bar Charts"
      ]
    },
    {
      "cell_type": "code",
      "metadata": {
        "id": "JkEnkCN0RcAk",
        "colab_type": "code",
        "colab": {
          "base_uri": "https://localhost:8080/",
          "height": 312
        },
        "outputId": "276a9fbf-99c3-4f1a-d4d0-39f8073b40ed"
      },
      "source": [
        "# Group the midparent dataframe by the family ID and take the median midparent height\n",
        "family_midparent_height = dataframe.groupby('family')['midparentHeight'].median().sort_values(ascending=False)\n",
        "\n",
        "# Get the ten tallest families\n",
        "tallest_families = family_midparent_height.iloc[:10]\n",
        "\n",
        "# Make a bar chart of these families median midparent heights\n",
        "plt.barh(np.array(tallest_families.index), np.array(tallest_families))\n",
        "\n",
        "# Add a title and axis labels to our plot\n",
        "plt.title('Tallest Families with a Bad Scale')\n",
        "plt.xlabel('Family ID')\n",
        "plt.ylabel('Median MidParent Height')"
      ],
      "execution_count": 61,
      "outputs": [
        {
          "output_type": "execute_result",
          "data": {
            "text/plain": [
              "Text(0, 0.5, 'Median MidParent Height')"
            ]
          },
          "metadata": {
            "tags": []
          },
          "execution_count": 61
        },
        {
          "output_type": "display_data",
          "data": {
            "image/png": "[encoded data removed]",
            "text/plain": [
              "<Figure size 432x288 with 1 Axes>"
            ]
          },
          "metadata": {
            "tags": [],
            "needs_background": "light"
          }
        }
      ]
    },
    {
      "cell_type": "code",
      "metadata": {
        "id": "x6DTU3V4SSvn",
        "colab_type": "code",
        "colab": {
          "base_uri": "https://localhost:8080/",
          "height": 312
        },
        "outputId": "a2662e05-12db-4218-b785-bffa6280c4ea"
      },
      "source": [
        "# Make a bar chart of these families median midparent heights\n",
        "plt.barh(np.array(tallest_families.index), np.array(tallest_families))\n",
        "\n",
        "shortest_of_the_tall_familes = min(np.array(tallest_families))\n",
        "tallest_of_the_tall_familes = max(np.array(tallest_families))\n",
        "\n",
        "plt.xlim([shortest_of_the_tall_familes - 1,tallest_of_the_tall_familes + 1])\n",
        "\n",
        "# Add a title and axis labels to our plot\n",
        "plt.title('Tallest Families with a Better Scale')\n",
        "plt.xlabel('Family ID')\n",
        "plt.ylabel('Median MidParent Height')"
      ],
      "execution_count": 65,
      "outputs": [
        {
          "output_type": "execute_result",
          "data": {
            "text/plain": [
              "Text(0, 0.5, 'Median MidParent Height')"
            ]
          },
          "metadata": {
            "tags": []
          },
          "execution_count": 65
        },
        {
          "output_type": "display_data",
          "data": {
            "image/png": "[encoded data removed]",
            "text/plain": [
              "<Figure size 432x288 with 1 Axes>"
            ]
          },
          "metadata": {
            "tags": [],
            "needs_background": "light"
          }
        }
      ]
    },
    {
      "cell_type": "markdown",
      "metadata": {
        "id": "Vwv_yJ5URWZD",
        "colab_type": "text"
      },
      "source": [
        "# Scatter Plots"
      ]
    },
    {
      "cell_type": "code",
      "metadata": {
        "id": "me3V1X3aM-8K",
        "colab_type": "code",
        "colab": {
          "base_uri": "https://localhost:8080/",
          "height": 312
        },
        "outputId": "76ab630e-70c4-424c-8e2f-99b803919b11"
      },
      "source": [
        "# Making a scatter plot comparing father heights vs mother heights\n",
        "plt.scatter(father_heights, mother_heights, c='c')\n",
        "\n",
        "# Draw the individual from row 0 in red, using the column name as the index\n",
        "plt.scatter(row0['father'], row0['mother'],c='r')\n",
        "\n",
        "# Draw the individual from row 50 in magenta, using integer indexing into the array\n",
        "plt.scatter(row50_array[1], row50_array[2], c='m')\n",
        "\n",
        "# Add a title and axis labels to our plot\n",
        "plt.title('Comparison of Mother and Father Heights')\n",
        "plt.xlabel('Father Heights')\n",
        "plt.ylabel('Mother Heights')"
      ],
      "execution_count": 23,
      "outputs": [
        {
          "output_type": "execute_result",
          "data": {
            "text/plain": [
              "Text(0, 0.5, 'Mother Heights')"
            ]
          },
          "metadata": {
            "tags": []
          },
          "execution_count": 23
        },
        {
          "output_type": "display_data",
          "data": {
            "image/png": "[encoded data removed]",
            "text/plain": [
              "<Figure size 432x288 with 1 Axes>"
            ]
          },
          "metadata": {
            "tags": [],
            "needs_background": "light"
          }
        }
      ]
    },
    {
      "cell_type": "markdown",
      "metadata": {
        "id": "GWbtMqvORTyU",
        "colab_type": "text"
      },
      "source": [
        "# Histograms"
      ]
    },
    {
      "cell_type": "code",
      "metadata": {
        "id": "0Lgu_iYOOkcw",
        "colab_type": "code",
        "colab": {
          "base_uri": "https://localhost:8080/",
          "height": 312
        },
        "outputId": "e7242994-a0d1-4254-d200-5aa77ac0195c"
      },
      "source": [
        "# Making a histogram of midparent heights\n",
        "plt.hist(dataframe['midparentHeight'])\n",
        "\n",
        "plt.title('MidParent Height Distribution')\n",
        "plt.xlabel('MidParent Height')\n",
        "plt.ylabel('Number of individuals')"
      ],
      "execution_count": 25,
      "outputs": [
        {
          "output_type": "execute_result",
          "data": {
            "text/plain": [
              "Text(0, 0.5, 'Number of individuals')"
            ]
          },
          "metadata": {
            "tags": []
          },
          "execution_count": 25
        },
        {
          "output_type": "display_data",
          "data": {
            "image/png": "[encoded data removed]",
            "text/plain": [
              "<Figure size 432x288 with 1 Axes>"
            ]
          },
          "metadata": {
            "tags": [],
            "needs_background": "light"
          }
        }
      ]
    },
    {
      "cell_type": "code",
      "metadata": {
        "id": "AWSj92dhO7eD",
        "colab_type": "code",
        "colab": {
          "base_uri": "https://localhost:8080/",
          "height": 312
        },
        "outputId": "f2f218aa-fe85-4138-e102-52cbbeed80a9"
      },
      "source": [
        "# Making a histogram of midparent heights with custom bins\n",
        "plt.hist(dataframe['midparentHeight'], bins=[60,65,70,75,80])\n",
        "\n",
        "plt.title('MidParent Height Distribution')\n",
        "plt.xlabel('MidParent Height')\n",
        "plt.ylabel('Number of individuals')"
      ],
      "execution_count": 27,
      "outputs": [
        {
          "output_type": "execute_result",
          "data": {
            "text/plain": [
              "Text(0, 0.5, 'Number of individuals')"
            ]
          },
          "metadata": {
            "tags": []
          },
          "execution_count": 27
        },
        {
          "output_type": "display_data",
          "data": {
            "image/png": "[encoded data removed]",
            "text/plain": [
              "<Figure size 432x288 with 1 Axes>"
            ]
          },
          "metadata": {
            "tags": [],
            "needs_background": "light"
          }
        }
      ]
    },
    {
      "cell_type": "markdown",
      "metadata": {
        "id": "eTnRHhLVRRQ6",
        "colab_type": "text"
      },
      "source": [
        "# Line Plots"
      ]
    },
    {
      "cell_type": "code",
      "metadata": {
        "id": "pU8yhBvSPIP7",
        "colab_type": "code",
        "colab": {
          "base_uri": "https://localhost:8080/",
          "height": 402
        },
        "outputId": "15ca714a-4f00-4399-9e0e-8042665300c0"
      },
      "source": [
        "# Loading data with data that varies by time\n",
        "dataframe2 = pd.read_csv('https://raw.githubusercontent.com/fivethirtyeight/data/master/nba-draft-2015/historical_projections.csv')\n",
        "dataframe2"
      ],
      "execution_count": 29,
      "outputs": [
        {
          "output_type": "execute_result",
          "data": {
            "text/html": [
              "<div>\n",
              "<style scoped>\n",
              "    .dataframe tbody tr th:only-of-type {\n",
              "        vertical-align: middle;\n",
              "    }\n",
              "\n",
              "    .dataframe tbody tr th {\n",
              "        vertical-align: top;\n",
              "    }\n",
              "\n",
              "    .dataframe thead th {\n",
              "        text-align: right;\n",
              "    }\n",
              "</style>\n",
              "<table border=\"1\" class=\"dataframe\">\n",
              "  <thead>\n",
              "    <tr style=\"text-align: right;\">\n",
              "      <th></th>\n",
              "      <th>Player</th>\n",
              "      <th>Position</th>\n",
              "      <th>ID</th>\n",
              "      <th>Draft Year</th>\n",
              "      <th>Projected SPM</th>\n",
              "      <th>Superstar</th>\n",
              "      <th>Starter</th>\n",
              "      <th>Role Player</th>\n",
              "      <th>Bust</th>\n",
              "    </tr>\n",
              "  </thead>\n",
              "  <tbody>\n",
              "    <tr>\n",
              "      <th>0</th>\n",
              "      <td>Karl-Anthony Towns</td>\n",
              "      <td>C</td>\n",
              "      <td>karl-anthony-towns</td>\n",
              "      <td>2015</td>\n",
              "      <td>1.030606</td>\n",
              "      <td>0.134767</td>\n",
              "      <td>0.427183</td>\n",
              "      <td>0.163083</td>\n",
              "      <td>0.274967</td>\n",
              "    </tr>\n",
              "    <tr>\n",
              "      <th>1</th>\n",
              "      <td>Justise Winslow</td>\n",
              "      <td>SF</td>\n",
              "      <td>justise-winslow</td>\n",
              "      <td>2015</td>\n",
              "      <td>0.875329</td>\n",
              "      <td>0.083529</td>\n",
              "      <td>0.510905</td>\n",
              "      <td>0.176767</td>\n",
              "      <td>0.228800</td>\n",
              "    </tr>\n",
              "    <tr>\n",
              "      <th>2</th>\n",
              "      <td>Stanley Johnson</td>\n",
              "      <td>SF</td>\n",
              "      <td>stanley-johnson</td>\n",
              "      <td>2015</td>\n",
              "      <td>0.679493</td>\n",
              "      <td>0.067800</td>\n",
              "      <td>0.423733</td>\n",
              "      <td>0.278500</td>\n",
              "      <td>0.229967</td>\n",
              "    </tr>\n",
              "    <tr>\n",
              "      <th>3</th>\n",
              "      <td>Jahlil Okafor</td>\n",
              "      <td>C</td>\n",
              "      <td>jahlil-okafor</td>\n",
              "      <td>2015</td>\n",
              "      <td>0.521661</td>\n",
              "      <td>0.058717</td>\n",
              "      <td>0.409900</td>\n",
              "      <td>0.235533</td>\n",
              "      <td>0.295850</td>\n",
              "    </tr>\n",
              "    <tr>\n",
              "      <th>4</th>\n",
              "      <td>D`Angelo Russell</td>\n",
              "      <td>PG</td>\n",
              "      <td>d-angelo-russell</td>\n",
              "      <td>2015</td>\n",
              "      <td>0.511967</td>\n",
              "      <td>0.152033</td>\n",
              "      <td>0.342283</td>\n",
              "      <td>0.096583</td>\n",
              "      <td>0.409100</td>\n",
              "    </tr>\n",
              "    <tr>\n",
              "      <th>...</th>\n",
              "      <td>...</td>\n",
              "      <td>...</td>\n",
              "      <td>...</td>\n",
              "      <td>...</td>\n",
              "      <td>...</td>\n",
              "      <td>...</td>\n",
              "      <td>...</td>\n",
              "      <td>...</td>\n",
              "      <td>...</td>\n",
              "    </tr>\n",
              "    <tr>\n",
              "      <th>1085</th>\n",
              "      <td>Terrell Lyday</td>\n",
              "      <td>SG</td>\n",
              "      <td>terrell-lyday</td>\n",
              "      <td>2001</td>\n",
              "      <td>-1.486319</td>\n",
              "      <td>0.001152</td>\n",
              "      <td>0.018303</td>\n",
              "      <td>0.261035</td>\n",
              "      <td>0.719510</td>\n",
              "    </tr>\n",
              "    <tr>\n",
              "      <th>1086</th>\n",
              "      <td>Brandon Wolfram</td>\n",
              "      <td>SF</td>\n",
              "      <td>brandon-wolfram</td>\n",
              "      <td>2001</td>\n",
              "      <td>-1.493460</td>\n",
              "      <td>0.000271</td>\n",
              "      <td>0.011532</td>\n",
              "      <td>0.271560</td>\n",
              "      <td>0.716636</td>\n",
              "    </tr>\n",
              "    <tr>\n",
              "      <th>1087</th>\n",
              "      <td>Ruben Boumtje Boumtje</td>\n",
              "      <td>C</td>\n",
              "      <td>ruben-boumtje-boumtje</td>\n",
              "      <td>2001</td>\n",
              "      <td>-1.494069</td>\n",
              "      <td>0.000000</td>\n",
              "      <td>0.020653</td>\n",
              "      <td>0.236919</td>\n",
              "      <td>0.742427</td>\n",
              "    </tr>\n",
              "    <tr>\n",
              "      <th>1088</th>\n",
              "      <td>Greg Stevenson</td>\n",
              "      <td>SG</td>\n",
              "      <td>greg-stevenson</td>\n",
              "      <td>2001</td>\n",
              "      <td>-1.529188</td>\n",
              "      <td>0.000000</td>\n",
              "      <td>0.019693</td>\n",
              "      <td>0.238861</td>\n",
              "      <td>0.741446</td>\n",
              "    </tr>\n",
              "    <tr>\n",
              "      <th>1089</th>\n",
              "      <td>Calvin Bowman</td>\n",
              "      <td>C</td>\n",
              "      <td>calvin-bowman</td>\n",
              "      <td>2001</td>\n",
              "      <td>-1.684669</td>\n",
              "      <td>0.000000</td>\n",
              "      <td>0.005068</td>\n",
              "      <td>0.168629</td>\n",
              "      <td>0.826303</td>\n",
              "    </tr>\n",
              "  </tbody>\n",
              "</table>\n",
              "<p>1090 rows × 9 columns</p>\n",
              "</div>"
            ],
            "text/plain": [
              "                     Player Position  ... Role Player      Bust\n",
              "0        Karl-Anthony Towns        C  ...    0.163083  0.274967\n",
              "1           Justise Winslow       SF  ...    0.176767  0.228800\n",
              "2           Stanley Johnson       SF  ...    0.278500  0.229967\n",
              "3             Jahlil Okafor        C  ...    0.235533  0.295850\n",
              "4          D`Angelo Russell       PG  ...    0.096583  0.409100\n",
              "...                     ...      ...  ...         ...       ...\n",
              "1085          Terrell Lyday       SG  ...    0.261035  0.719510\n",
              "1086        Brandon Wolfram       SF  ...    0.271560  0.716636\n",
              "1087  Ruben Boumtje Boumtje        C  ...    0.236919  0.742427\n",
              "1088         Greg Stevenson       SG  ...    0.238861  0.741446\n",
              "1089          Calvin Bowman        C  ...    0.168629  0.826303\n",
              "\n",
              "[1090 rows x 9 columns]"
            ]
          },
          "metadata": {
            "tags": []
          },
          "execution_count": 29
        }
      ]
    },
    {
      "cell_type": "code",
      "metadata": {
        "id": "eg73vzF8Pg84",
        "colab_type": "code",
        "colab": {
          "base_uri": "https://localhost:8080/",
          "height": 312
        },
        "outputId": "753ea6e4-9bcb-458d-ae0c-9dcd22097673"
      },
      "source": [
        "# Group the table by draft year, and get the average chance of a \"superstar\" in that year\n",
        "mean_superstar = dataframe2.groupby('Draft Year')['Superstar'].mean()\n",
        "mean_superstar_array = np.array(mean_superstar)\n",
        "\n",
        "# Get the grouped labels (the unique years, in the same order as )\n",
        "year_labels = np.array(mean_superstar.index)\n",
        "\n",
        "# Add title and plot labels\n",
        "plt.title('Chance of an NBA Superstar by Year')\n",
        "plt.plot(year_labels, mean_superstar_array)\n",
        "plt.xlabel('Year')\n",
        "plt.ylabel('Mean Probability of a Superstar')"
      ],
      "execution_count": 51,
      "outputs": [
        {
          "output_type": "execute_result",
          "data": {
            "text/plain": [
              "Text(0, 0.5, 'Mean Probability of a Superstar')"
            ]
          },
          "metadata": {
            "tags": []
          },
          "execution_count": 51
        },
        {
          "output_type": "display_data",
          "data": {
            "image/png": "[encoded data removed]",
            "text/plain": [
              "<Figure size 432x288 with 1 Axes>"
            ]
          },
          "metadata": {
            "tags": [],
            "needs_background": "light"
          }
        }
      ]
    }
  ]
}
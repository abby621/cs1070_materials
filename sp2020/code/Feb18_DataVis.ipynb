{
  "nbformat": 4,
  "nbformat_minor": 0,
  "metadata": {
    "colab": {
      "name": "Feb18_DataVis.ipynb",
      "provenance": []
    },
    "kernelspec": {
      "name": "python3",
      "display_name": "Python 3"
    }
  },
  "cells": [
    {
      "cell_type": "markdown",
      "metadata": {
        "id": "9ipIbf1VANIm",
        "colab_type": "text"
      },
      "source": [
        "# First do our imports.."
      ]
    },
    {
      "cell_type": "code",
      "metadata": {
        "id": "Oz_DFZwy9Ux-",
        "colab_type": "code",
        "colab": {}
      },
      "source": [
        "import pandas as pd\n",
        "import numpy as np"
      ],
      "execution_count": 0,
      "outputs": []
    },
    {
      "cell_type": "markdown",
      "metadata": {
        "id": "_wweLDhdASci",
        "colab_type": "text"
      },
      "source": [
        "# Then make sure to run the next block so you can use the load_file function"
      ]
    },
    {
      "cell_type": "code",
      "metadata": {
        "id": "is1Dy78r9lQz",
        "colab_type": "code",
        "colab": {}
      },
      "source": [
        "def load_file(data_file,separator=None):\n",
        "    '''\n",
        "    A function to load data files into a pandas DataFrame object.\n",
        "    Inputs:\n",
        "    1. data_file (required): the path for a data file ending in 'xls', 'xslx', 'cxv' or 'txt'\n",
        "    2. separator (optional): the character(s) used to separator data in each row of the dataset\n",
        "    \n",
        "    Outputs:\n",
        "    1. A DataFrame object with the data in data_file.\n",
        "    '''\n",
        "    \n",
        "    # if data_file is an excel file, use the read_excel function\n",
        "    if data_file.endswith('.xls') or data_file.endswith('.xlsx'):\n",
        "        return pd.read_excel(data_file)\n",
        "    \n",
        "    # if the data_file is a .csv or .txt file, check if a separator was specified and load\n",
        "    elif data_file.endswith('.csv') or data_file.endswith('.txt'):\n",
        "        if separator:\n",
        "            return pd.read_csv(data_file,separator=separator)\n",
        "        else:\n",
        "            return pd.read_csv(data_file)\n",
        "        \n",
        "    # otherwise raise an exception stating that the filetype was unknown\n",
        "    else:\n",
        "        print(\"Unknown file type!\")\n",
        "        raise"
      ],
      "execution_count": 0,
      "outputs": []
    },
    {
      "cell_type": "markdown",
      "metadata": {
        "id": "AFh9iUReAXeh",
        "colab_type": "text"
      },
      "source": [
        "# Change raw_csv_url to the URL for your raw csv and load that into your dataframe.\n",
        "\n",
        "## Take a look at the columns in your dataframe -- these are the possible variables you're going to be able to plot."
      ]
    },
    {
      "cell_type": "code",
      "metadata": {
        "id": "VPU8b7tX9oHa",
        "colab_type": "code",
        "colab": {
          "base_uri": "https://localhost:8080/",
          "height": 34
        },
        "outputId": "40c51b90-2ce5-4fcb-ea45-592ca78fd4d7"
      },
      "source": [
        "raw_csv_url = \"https://raw.githubusercontent.com/fivethirtyeight/data/master/fandango/fandango_scrape.csv\"\n",
        "df = load_file(raw_csv_url)\n",
        "\n",
        "# print the column names\n",
        "df.columns"
      ],
      "execution_count": 26,
      "outputs": [
        {
          "output_type": "execute_result",
          "data": {
            "text/plain": [
              "Index(['FILM', 'STARS', 'RATING', 'VOTES'], dtype='object')"
            ]
          },
          "metadata": {
            "tags": []
          },
          "execution_count": 26
        }
      ]
    },
    {
      "cell_type": "markdown",
      "metadata": {
        "id": "WFDd68_j-Wky",
        "colab_type": "text"
      },
      "source": [
        "# SCATTER PLOTS\n",
        "\n",
        "## Use the code below to make a scatter plot, picking different possible variables from your column names to put in scatter_column1 and scatter_column2. Which ones make interesting figures? Save those to your computer to present to the class later! (you can do this by right clicking on the figure and pressing save as)\n",
        "\n",
        "## What happens if you put the same column name in both scatter_column1 and scatter_column2?"
      ]
    },
    {
      "cell_type": "code",
      "metadata": {
        "id": "CKJ0Ckon99bX",
        "colab_type": "code",
        "colab": {
          "base_uri": "https://localhost:8080/",
          "height": 312
        },
        "outputId": "c528e58a-d6fa-47aa-f96a-92e0e60466ed"
      },
      "source": [
        "scatter_column1 = 'STARS'\n",
        "scatter_column2 = 'VOTES'\n",
        "df.plot.scatter(scatter_column1,scatter_column2,title=scatter_column1+' vs. '+scatter_column2)"
      ],
      "execution_count": 10,
      "outputs": [
        {
          "output_type": "execute_result",
          "data": {
            "text/plain": [
              "<matplotlib.axes._subplots.AxesSubplot at 0x7fb236c3ab70>"
            ]
          },
          "metadata": {
            "tags": []
          },
          "execution_count": 10
        },
        {
          "output_type": "display_data",
          "data": {
            "image/png": "[encoded data removed]",
            "text/plain": [
              "<Figure size 432x288 with 1 Axes>"
            ]
          },
          "metadata": {
            "tags": []
          }
        }
      ]
    },
    {
      "cell_type": "markdown",
      "metadata": {
        "id": "c2pnADhg-bQL",
        "colab_type": "text"
      },
      "source": [
        "# BAR CHARTS\n",
        "\n",
        "## Now let's make bar charts. Try different variables to plot by changing the column name in bar_column"
      ]
    },
    {
      "cell_type": "code",
      "metadata": {
        "id": "sTZbbdEq-eHo",
        "colab_type": "code",
        "colab": {
          "base_uri": "https://localhost:8080/",
          "height": 304
        },
        "outputId": "1b465833-f18a-4882-f505-8b09ef50b0df"
      },
      "source": [
        "bar_column = 'STARS'\n",
        "counts = df[bar_column].value_counts()\n",
        "counts.plot.bar(title=bar_column)"
      ],
      "execution_count": 17,
      "outputs": [
        {
          "output_type": "execute_result",
          "data": {
            "text/plain": [
              "<matplotlib.axes._subplots.AxesSubplot at 0x7fb235ae70f0>"
            ]
          },
          "metadata": {
            "tags": []
          },
          "execution_count": 17
        },
        {
          "output_type": "display_data",
          "data": {
            "image/png": "[encoded data removed]",
            "text/plain": [
              "<Figure size 432x288 with 1 Axes>"
            ]
          },
          "metadata": {
            "tags": []
          }
        }
      ]
    },
    {
      "cell_type": "markdown",
      "metadata": {
        "id": "jXcnZ2ke_n5M",
        "colab_type": "text"
      },
      "source": [
        "### You can also make horizontal bar charts!"
      ]
    },
    {
      "cell_type": "code",
      "metadata": {
        "id": "Pfm1elaN_RGB",
        "colab_type": "code",
        "colab": {
          "base_uri": "https://localhost:8080/",
          "height": 298
        },
        "outputId": "a123082b-9cc6-46a3-c3ff-03c83c9c3c23"
      },
      "source": [
        "counts.plot.barh(title=bar_column)"
      ],
      "execution_count": 18,
      "outputs": [
        {
          "output_type": "execute_result",
          "data": {
            "text/plain": [
              "<matplotlib.axes._subplots.AxesSubplot at 0x7fb235a162e8>"
            ]
          },
          "metadata": {
            "tags": []
          },
          "execution_count": 18
        },
        {
          "output_type": "display_data",
          "data": {
            "image/png": "[encoded data removed]",
            "text/plain": [
              "<Figure size 432x288 with 1 Axes>"
            ]
          },
          "metadata": {
            "tags": []
          }
        }
      ]
    },
    {
      "cell_type": "markdown",
      "metadata": {
        "id": "kkBxlfTm_sYa",
        "colab_type": "text"
      },
      "source": [
        "### Last class someone asked about sorting your bar charts in the other direction.."
      ]
    },
    {
      "cell_type": "code",
      "metadata": {
        "id": "mJK2g1Hq_VBA",
        "colab_type": "code",
        "colab": {
          "base_uri": "https://localhost:8080/",
          "height": 298
        },
        "outputId": "9545a146-dd37-4293-fdaf-c504b83659fa"
      },
      "source": [
        "counts.sort_values(ascending=True).plot.barh(title=bar_column)"
      ],
      "execution_count": 24,
      "outputs": [
        {
          "output_type": "execute_result",
          "data": {
            "text/plain": [
              "<matplotlib.axes._subplots.AxesSubplot at 0x7fb2357eb048>"
            ]
          },
          "metadata": {
            "tags": []
          },
          "execution_count": 24
        },
        {
          "output_type": "display_data",
          "data": {
            "image/png": "[encoded data removed]",
            "text/plain": [
              "<Figure size 432x288 with 1 Axes>"
            ]
          },
          "metadata": {
            "tags": []
          }
        }
      ]
    },
    {
      "cell_type": "markdown",
      "metadata": {
        "id": "1OK1MFVJAD2m",
        "colab_type": "text"
      },
      "source": [
        "# Histograms"
      ]
    },
    {
      "cell_type": "markdown",
      "metadata": {
        "id": "9l0Nt2aKCAwN",
        "colab_type": "text"
      },
      "source": [
        "### Use the following code to create histograms.\n",
        "\n",
        "### Explore different variables and different numbers of bins."
      ]
    },
    {
      "cell_type": "code",
      "metadata": {
        "id": "WcARH94-AF_2",
        "colab_type": "code",
        "colab": {
          "base_uri": "https://localhost:8080/",
          "height": 282
        },
        "outputId": "e598aa25-ec10-4b29-c486-d42655e5c4d8"
      },
      "source": [
        "hist_column = 'STARS'\n",
        "num_bins = 10\n",
        "\n",
        "df[hist_column].plot.hist(bins=num_bins)"
      ],
      "execution_count": 56,
      "outputs": [
        {
          "output_type": "execute_result",
          "data": {
            "text/plain": [
              "<matplotlib.axes._subplots.AxesSubplot at 0x7fb234b19a20>"
            ]
          },
          "metadata": {
            "tags": []
          },
          "execution_count": 56
        },
        {
          "output_type": "display_data",
          "data": {
            "image/png": "[encoded data removed]",
            "text/plain": [
              "<Figure size 432x288 with 1 Axes>"
            ]
          },
          "metadata": {
            "tags": []
          }
        }
      ]
    },
    {
      "cell_type": "markdown",
      "metadata": {
        "id": "I1gOiLV4ErcV",
        "colab_type": "text"
      },
      "source": [
        "# Line Plots\n",
        "\n",
        "### Most of you did not pick datasets that have chronological data, so I won't expect many line plots today. But the following is an example of creating a line plot from the baseball dataset.\n",
        "\n",
        "### This uses the \"groupby\" method to first group all of the data by year, and then computes the median of the y_column in each year.\n",
        "\n",
        "### If you would like to create a line plot and need help, let me know and I can work with you!"
      ]
    },
    {
      "cell_type": "code",
      "metadata": {
        "id": "7PpJfsmYE3Lh",
        "colab_type": "code",
        "colab": {
          "base_uri": "https://localhost:8080/",
          "height": 296
        },
        "outputId": "80b4b749-36ad-4ef6-ca68-8fa2e9fcae49"
      },
      "source": [
        "df2 = load_file(\"https://raw.githubusercontent.com/fivethirtyeight/data/master/nba-draft-2015/historical_projections.csv\")\n",
        "x_column = 'Draft Year'\n",
        "y_column = 'Projected SPM'\n",
        "summary_df = df2.groupby(x_column)[y_column].median()\n",
        "summary_df.plot.line()"
      ],
      "execution_count": 94,
      "outputs": [
        {
          "output_type": "execute_result",
          "data": {
            "text/plain": [
              "<matplotlib.axes._subplots.AxesSubplot at 0x7fb23279de48>"
            ]
          },
          "metadata": {
            "tags": []
          },
          "execution_count": 94
        },
        {
          "output_type": "display_data",
          "data": {
            "image/png": "[encoded data removed]",
            "text/plain": [
              "<Figure size 432x288 with 1 Axes>"
            ]
          },
          "metadata": {
            "tags": []
          }
        }
      ]
    }
  ]
}
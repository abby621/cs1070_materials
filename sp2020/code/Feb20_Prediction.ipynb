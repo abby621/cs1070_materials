{
  "nbformat": 4,
  "nbformat_minor": 0,
  "metadata": {
    "colab": {
      "name": "Feb20_Prediction.ipynb",
      "provenance": []
    },
    "kernelspec": {
      "name": "python3",
      "display_name": "Python 3"
    }
  },
  "cells": [
    {
      "cell_type": "code",
      "metadata": {
        "id": "M5T_nyS7Fl_3",
        "colab_type": "code",
        "colab": {}
      },
      "source": [
        "import pandas as pd\n",
        "import numpy as np\n",
        "import matplotlib.pyplot as plt\n"
      ],
      "execution_count": 0,
      "outputs": []
    },
    {
      "cell_type": "code",
      "metadata": {
        "id": "Xv_eqkNlFpZy",
        "colab_type": "code",
        "colab": {
          "base_uri": "https://localhost:8080/",
          "height": 419
        },
        "outputId": "e4d9e473-7e14-4a53-e264-194eb3ebca7f"
      },
      "source": [
        "galton = pd.read_csv('https://raw.githubusercontent.com/abby621/cs1070_materials/master/fl2019/demos/galton.csv')\n",
        "galton"
      ],
      "execution_count": 4,
      "outputs": [
        {
          "output_type": "execute_result",
          "data": {
            "text/html": [
              "<div>\n",
              "<style scoped>\n",
              "    .dataframe tbody tr th:only-of-type {\n",
              "        vertical-align: middle;\n",
              "    }\n",
              "\n",
              "    .dataframe tbody tr th {\n",
              "        vertical-align: top;\n",
              "    }\n",
              "\n",
              "    .dataframe thead th {\n",
              "        text-align: right;\n",
              "    }\n",
              "</style>\n",
              "<table border=\"1\" class=\"dataframe\">\n",
              "  <thead>\n",
              "    <tr style=\"text-align: right;\">\n",
              "      <th></th>\n",
              "      <th>family</th>\n",
              "      <th>father</th>\n",
              "      <th>mother</th>\n",
              "      <th>midparentHeight</th>\n",
              "      <th>children</th>\n",
              "      <th>childNum</th>\n",
              "      <th>gender</th>\n",
              "      <th>childHeight</th>\n",
              "    </tr>\n",
              "  </thead>\n",
              "  <tbody>\n",
              "    <tr>\n",
              "      <th>0</th>\n",
              "      <td>1</td>\n",
              "      <td>78.5</td>\n",
              "      <td>67.0</td>\n",
              "      <td>75.43</td>\n",
              "      <td>4</td>\n",
              "      <td>1</td>\n",
              "      <td>male</td>\n",
              "      <td>73.2</td>\n",
              "    </tr>\n",
              "    <tr>\n",
              "      <th>1</th>\n",
              "      <td>1</td>\n",
              "      <td>78.5</td>\n",
              "      <td>67.0</td>\n",
              "      <td>75.43</td>\n",
              "      <td>4</td>\n",
              "      <td>2</td>\n",
              "      <td>female</td>\n",
              "      <td>69.2</td>\n",
              "    </tr>\n",
              "    <tr>\n",
              "      <th>2</th>\n",
              "      <td>1</td>\n",
              "      <td>78.5</td>\n",
              "      <td>67.0</td>\n",
              "      <td>75.43</td>\n",
              "      <td>4</td>\n",
              "      <td>3</td>\n",
              "      <td>female</td>\n",
              "      <td>69.0</td>\n",
              "    </tr>\n",
              "    <tr>\n",
              "      <th>3</th>\n",
              "      <td>1</td>\n",
              "      <td>78.5</td>\n",
              "      <td>67.0</td>\n",
              "      <td>75.43</td>\n",
              "      <td>4</td>\n",
              "      <td>4</td>\n",
              "      <td>female</td>\n",
              "      <td>69.0</td>\n",
              "    </tr>\n",
              "    <tr>\n",
              "      <th>4</th>\n",
              "      <td>2</td>\n",
              "      <td>75.5</td>\n",
              "      <td>66.5</td>\n",
              "      <td>73.66</td>\n",
              "      <td>4</td>\n",
              "      <td>1</td>\n",
              "      <td>male</td>\n",
              "      <td>73.5</td>\n",
              "    </tr>\n",
              "    <tr>\n",
              "      <th>...</th>\n",
              "      <td>...</td>\n",
              "      <td>...</td>\n",
              "      <td>...</td>\n",
              "      <td>...</td>\n",
              "      <td>...</td>\n",
              "      <td>...</td>\n",
              "      <td>...</td>\n",
              "      <td>...</td>\n",
              "    </tr>\n",
              "    <tr>\n",
              "      <th>929</th>\n",
              "      <td>203</td>\n",
              "      <td>62.0</td>\n",
              "      <td>66.0</td>\n",
              "      <td>66.64</td>\n",
              "      <td>3</td>\n",
              "      <td>1</td>\n",
              "      <td>male</td>\n",
              "      <td>64.0</td>\n",
              "    </tr>\n",
              "    <tr>\n",
              "      <th>930</th>\n",
              "      <td>203</td>\n",
              "      <td>62.0</td>\n",
              "      <td>66.0</td>\n",
              "      <td>66.64</td>\n",
              "      <td>3</td>\n",
              "      <td>2</td>\n",
              "      <td>female</td>\n",
              "      <td>62.0</td>\n",
              "    </tr>\n",
              "    <tr>\n",
              "      <th>931</th>\n",
              "      <td>203</td>\n",
              "      <td>62.0</td>\n",
              "      <td>66.0</td>\n",
              "      <td>66.64</td>\n",
              "      <td>3</td>\n",
              "      <td>3</td>\n",
              "      <td>female</td>\n",
              "      <td>61.0</td>\n",
              "    </tr>\n",
              "    <tr>\n",
              "      <th>932</th>\n",
              "      <td>204</td>\n",
              "      <td>62.5</td>\n",
              "      <td>63.0</td>\n",
              "      <td>65.27</td>\n",
              "      <td>2</td>\n",
              "      <td>1</td>\n",
              "      <td>male</td>\n",
              "      <td>66.5</td>\n",
              "    </tr>\n",
              "    <tr>\n",
              "      <th>933</th>\n",
              "      <td>204</td>\n",
              "      <td>62.5</td>\n",
              "      <td>63.0</td>\n",
              "      <td>65.27</td>\n",
              "      <td>2</td>\n",
              "      <td>2</td>\n",
              "      <td>female</td>\n",
              "      <td>57.0</td>\n",
              "    </tr>\n",
              "  </tbody>\n",
              "</table>\n",
              "<p>934 rows × 8 columns</p>\n",
              "</div>"
            ],
            "text/plain": [
              "    family  father  mother  ...  childNum  gender  childHeight\n",
              "0        1    78.5    67.0  ...         1    male         73.2\n",
              "1        1    78.5    67.0  ...         2  female         69.2\n",
              "2        1    78.5    67.0  ...         3  female         69.0\n",
              "3        1    78.5    67.0  ...         4  female         69.0\n",
              "4        2    75.5    66.5  ...         1    male         73.5\n",
              "..     ...     ...     ...  ...       ...     ...          ...\n",
              "929    203    62.0    66.0  ...         1    male         64.0\n",
              "930    203    62.0    66.0  ...         2  female         62.0\n",
              "931    203    62.0    66.0  ...         3  female         61.0\n",
              "932    204    62.5    63.0  ...         1    male         66.5\n",
              "933    204    62.5    63.0  ...         2  female         57.0\n",
              "\n",
              "[934 rows x 8 columns]"
            ]
          },
          "metadata": {
            "tags": []
          },
          "execution_count": 4
        }
      ]
    },
    {
      "cell_type": "code",
      "metadata": {
        "id": "g9Q1CEjpF9pj",
        "colab_type": "code",
        "colab": {
          "base_uri": "https://localhost:8080/",
          "height": 282
        },
        "outputId": "7bc38050-4ce5-4b42-eee5-fc511c6c0ca0"
      },
      "source": [
        "galton['father'].hist(alpha=0.5)\n",
        "galton['mother'].hist(alpha=0.5)\n",
        "plt.legend(['father','mother'])"
      ],
      "execution_count": 22,
      "outputs": [
        {
          "output_type": "execute_result",
          "data": {
            "text/plain": [
              "<matplotlib.legend.Legend at 0x7fb25f0842e8>"
            ]
          },
          "metadata": {
            "tags": []
          },
          "execution_count": 22
        },
        {
          "output_type": "display_data",
          "data": {
            "image/png": "[encoded data removed]",
            "text/plain": [
              "<Figure size 432x288 with 1 Axes>"
            ]
          },
          "metadata": {
            "tags": []
          }
        }
      ]
    },
    {
      "cell_type": "code",
      "metadata": {
        "id": "uJVbxcfSG8Bq",
        "colab_type": "code",
        "colab": {
          "base_uri": "https://localhost:8080/",
          "height": 282
        },
        "outputId": "267dd58a-680e-4e9b-9bcf-70afa53b4925"
      },
      "source": [
        "galton['father'].hist(alpha=0.75)\n",
        "galton['mother'].hist(alpha=0.75)\n",
        "galton['childHeight'].hist(alpha=0.5)\n",
        "plt.legend(['father','mother','child'])"
      ],
      "execution_count": 23,
      "outputs": [
        {
          "output_type": "execute_result",
          "data": {
            "text/plain": [
              "<matplotlib.legend.Legend at 0x7fb25ee9d8d0>"
            ]
          },
          "metadata": {
            "tags": []
          },
          "execution_count": 23
        },
        {
          "output_type": "display_data",
          "data": {
            "image/png": "[encoded data removed]",
            "text/plain": [
              "<Figure size 432x288 with 1 Axes>"
            ]
          },
          "metadata": {
            "tags": []
          }
        }
      ]
    },
    {
      "cell_type": "markdown",
      "metadata": {
        "id": "1h30X1P5HIZh",
        "colab_type": "text"
      },
      "source": [
        "Question: Why are the father and mother bars taller than the child-height bars?"
      ]
    },
    {
      "cell_type": "markdown",
      "metadata": {
        "id": "svMG1p8pOIWm",
        "colab_type": "text"
      },
      "source": [
        "# Prediction"
      ]
    },
    {
      "cell_type": "code",
      "metadata": {
        "id": "DoEhK4zlHM9p",
        "colab_type": "code",
        "colab": {
          "base_uri": "https://localhost:8080/",
          "height": 299
        },
        "outputId": "0966cc2b-510f-4857-bd15-7167556a4af2"
      },
      "source": [
        "galton.plot.scatter('midparentHeight','childHeight')"
      ],
      "execution_count": 28,
      "outputs": [
        {
          "output_type": "execute_result",
          "data": {
            "text/plain": [
              "<matplotlib.axes._subplots.AxesSubplot at 0x7fb25f098668>"
            ]
          },
          "metadata": {
            "tags": []
          },
          "execution_count": 28
        },
        {
          "output_type": "display_data",
          "data": {
            "image/png": "[encoded data removed]",
            "text/plain": [
              "<Figure size 432x288 with 1 Axes>"
            ]
          },
          "metadata": {
            "tags": []
          }
        }
      ]
    },
    {
      "cell_type": "markdown",
      "metadata": {
        "id": "eYNFHRCEOZY2",
        "colab_type": "text"
      },
      "source": [
        "How could we use this information to predict how tall a child is going to get? \n",
        "\n",
        "Let's assume our midParent height is 68."
      ]
    },
    {
      "cell_type": "code",
      "metadata": {
        "id": "5_LI8YXmOKbC",
        "colab_type": "code",
        "colab": {
          "base_uri": "https://localhost:8080/",
          "height": 419
        },
        "outputId": "c6ed578f-f05a-4d7e-92a5-3a213341dda5"
      },
      "source": [
        "close_to_68_mask = galton['midparentHeight'].between(67.5,68.5)\n",
        "close_to_68_df = galton[close_heights_mask]\n",
        "close_to_68_df[['midparentHeight','childHeight']]"
      ],
      "execution_count": 40,
      "outputs": [
        {
          "output_type": "execute_result",
          "data": {
            "text/html": [
              "<div>\n",
              "<style scoped>\n",
              "    .dataframe tbody tr th:only-of-type {\n",
              "        vertical-align: middle;\n",
              "    }\n",
              "\n",
              "    .dataframe tbody tr th {\n",
              "        vertical-align: top;\n",
              "    }\n",
              "\n",
              "    .dataframe thead th {\n",
              "        text-align: right;\n",
              "    }\n",
              "</style>\n",
              "<table border=\"1\" class=\"dataframe\">\n",
              "  <thead>\n",
              "    <tr style=\"text-align: right;\">\n",
              "      <th></th>\n",
              "      <th>midparentHeight</th>\n",
              "      <th>childHeight</th>\n",
              "    </tr>\n",
              "  </thead>\n",
              "  <tbody>\n",
              "    <tr>\n",
              "      <th>233</th>\n",
              "      <td>68.44</td>\n",
              "      <td>62.0</td>\n",
              "    </tr>\n",
              "    <tr>\n",
              "      <th>396</th>\n",
              "      <td>67.94</td>\n",
              "      <td>71.2</td>\n",
              "    </tr>\n",
              "    <tr>\n",
              "      <th>397</th>\n",
              "      <td>67.94</td>\n",
              "      <td>67.0</td>\n",
              "    </tr>\n",
              "    <tr>\n",
              "      <th>516</th>\n",
              "      <td>68.33</td>\n",
              "      <td>62.5</td>\n",
              "    </tr>\n",
              "    <tr>\n",
              "      <th>517</th>\n",
              "      <td>68.23</td>\n",
              "      <td>73.0</td>\n",
              "    </tr>\n",
              "    <tr>\n",
              "      <th>...</th>\n",
              "      <td>...</td>\n",
              "      <td>...</td>\n",
              "    </tr>\n",
              "    <tr>\n",
              "      <th>885</th>\n",
              "      <td>67.60</td>\n",
              "      <td>69.0</td>\n",
              "    </tr>\n",
              "    <tr>\n",
              "      <th>886</th>\n",
              "      <td>67.60</td>\n",
              "      <td>68.0</td>\n",
              "    </tr>\n",
              "    <tr>\n",
              "      <th>887</th>\n",
              "      <td>67.60</td>\n",
              "      <td>67.7</td>\n",
              "    </tr>\n",
              "    <tr>\n",
              "      <th>888</th>\n",
              "      <td>67.60</td>\n",
              "      <td>64.5</td>\n",
              "    </tr>\n",
              "    <tr>\n",
              "      <th>889</th>\n",
              "      <td>67.60</td>\n",
              "      <td>60.5</td>\n",
              "    </tr>\n",
              "  </tbody>\n",
              "</table>\n",
              "<p>131 rows × 2 columns</p>\n",
              "</div>"
            ],
            "text/plain": [
              "     midparentHeight  childHeight\n",
              "233            68.44         62.0\n",
              "396            67.94         71.2\n",
              "397            67.94         67.0\n",
              "516            68.33         62.5\n",
              "517            68.23         73.0\n",
              "..               ...          ...\n",
              "885            67.60         69.0\n",
              "886            67.60         68.0\n",
              "887            67.60         67.7\n",
              "888            67.60         64.5\n",
              "889            67.60         60.5\n",
              "\n",
              "[131 rows x 2 columns]"
            ]
          },
          "metadata": {
            "tags": []
          },
          "execution_count": 40
        }
      ]
    },
    {
      "cell_type": "markdown",
      "metadata": {
        "id": "Q1qYeuAYP5sK",
        "colab_type": "text"
      },
      "source": [
        "Idea: take all of the children whose parents were close to 68\"\n",
        "\n",
        "Average their heights.\n",
        "\n",
        "That's our prediction for a new child whose midparentHeight is 68\" but whose height we don't actually know!"
      ]
    },
    {
      "cell_type": "code",
      "metadata": {
        "id": "PB75h615Pm9X",
        "colab_type": "code",
        "colab": {
          "base_uri": "https://localhost:8080/",
          "height": 34
        },
        "outputId": "647e2d71-e288-461a-d82e-143c11f49b09"
      },
      "source": [
        "close_to_68_df['childHeight'].mean()"
      ],
      "execution_count": 41,
      "outputs": [
        {
          "output_type": "execute_result",
          "data": {
            "text/plain": [
              "66.24045801526718"
            ]
          },
          "metadata": {
            "tags": []
          },
          "execution_count": 41
        }
      ]
    },
    {
      "cell_type": "markdown",
      "metadata": {
        "id": "JPCE-zVOQLt1",
        "colab_type": "text"
      },
      "source": [
        "Now how can we do this for any midparent height?"
      ]
    },
    {
      "cell_type": "code",
      "metadata": {
        "id": "mSWfLSCKQQnX",
        "colab_type": "code",
        "colab": {}
      },
      "source": [
        "def predict_child(midparent):\n",
        "  close_points_mask = galton['midparentHeight'].between(midparent-.5, midparent+.5)\n",
        "  close_points_df = galton[close_points_mask]\n",
        "  predicted_height = close_points_df['childHeight'].mean()\n",
        "  return predicted_height"
      ],
      "execution_count": 0,
      "outputs": []
    },
    {
      "cell_type": "code",
      "metadata": {
        "id": "j2QMMUYjQvDD",
        "colab_type": "code",
        "colab": {
          "base_uri": "https://localhost:8080/",
          "height": 419
        },
        "outputId": "10ab53ba-1b80-488d-90ed-7ccd409778b0"
      },
      "source": [
        "predicted_heights = []\n",
        "for mp_height in np.arange(64,76,0.1):\n",
        "    predicted_height = predict_child(mp_height)\n",
        "    predicted_heights.append((mp_height, predicted_height))\n",
        "\n",
        "predicted_heights_df = pd.DataFrame(data=predicted_heights,columns=['midparentHeight','childHeight'])\n",
        "predicted_heights_df"
      ],
      "execution_count": 56,
      "outputs": [
        {
          "output_type": "execute_result",
          "data": {
            "text/html": [
              "<div>\n",
              "<style scoped>\n",
              "    .dataframe tbody tr th:only-of-type {\n",
              "        vertical-align: middle;\n",
              "    }\n",
              "\n",
              "    .dataframe tbody tr th {\n",
              "        vertical-align: top;\n",
              "    }\n",
              "\n",
              "    .dataframe thead th {\n",
              "        text-align: right;\n",
              "    }\n",
              "</style>\n",
              "<table border=\"1\" class=\"dataframe\">\n",
              "  <thead>\n",
              "    <tr style=\"text-align: right;\">\n",
              "      <th></th>\n",
              "      <th>midparentHeight</th>\n",
              "      <th>childHeight</th>\n",
              "    </tr>\n",
              "  </thead>\n",
              "  <tbody>\n",
              "    <tr>\n",
              "      <th>0</th>\n",
              "      <td>64.0</td>\n",
              "      <td>63.000000</td>\n",
              "    </tr>\n",
              "    <tr>\n",
              "      <th>1</th>\n",
              "      <td>64.1</td>\n",
              "      <td>63.000000</td>\n",
              "    </tr>\n",
              "    <tr>\n",
              "      <th>2</th>\n",
              "      <td>64.2</td>\n",
              "      <td>63.000000</td>\n",
              "    </tr>\n",
              "    <tr>\n",
              "      <th>3</th>\n",
              "      <td>64.3</td>\n",
              "      <td>63.000000</td>\n",
              "    </tr>\n",
              "    <tr>\n",
              "      <th>4</th>\n",
              "      <td>64.4</td>\n",
              "      <td>63.511765</td>\n",
              "    </tr>\n",
              "    <tr>\n",
              "      <th>...</th>\n",
              "      <td>...</td>\n",
              "      <td>...</td>\n",
              "    </tr>\n",
              "    <tr>\n",
              "      <th>115</th>\n",
              "      <td>75.5</td>\n",
              "      <td>70.100000</td>\n",
              "    </tr>\n",
              "    <tr>\n",
              "      <th>116</th>\n",
              "      <td>75.6</td>\n",
              "      <td>70.100000</td>\n",
              "    </tr>\n",
              "    <tr>\n",
              "      <th>117</th>\n",
              "      <td>75.7</td>\n",
              "      <td>70.100000</td>\n",
              "    </tr>\n",
              "    <tr>\n",
              "      <th>118</th>\n",
              "      <td>75.8</td>\n",
              "      <td>70.100000</td>\n",
              "    </tr>\n",
              "    <tr>\n",
              "      <th>119</th>\n",
              "      <td>75.9</td>\n",
              "      <td>70.100000</td>\n",
              "    </tr>\n",
              "  </tbody>\n",
              "</table>\n",
              "<p>120 rows × 2 columns</p>\n",
              "</div>"
            ],
            "text/plain": [
              "     midparentHeight  childHeight\n",
              "0               64.0    63.000000\n",
              "1               64.1    63.000000\n",
              "2               64.2    63.000000\n",
              "3               64.3    63.000000\n",
              "4               64.4    63.511765\n",
              "..               ...          ...\n",
              "115             75.5    70.100000\n",
              "116             75.6    70.100000\n",
              "117             75.7    70.100000\n",
              "118             75.8    70.100000\n",
              "119             75.9    70.100000\n",
              "\n",
              "[120 rows x 2 columns]"
            ]
          },
          "metadata": {
            "tags": []
          },
          "execution_count": 56
        }
      ]
    },
    {
      "cell_type": "code",
      "metadata": {
        "id": "VzZGtw_6RUDb",
        "colab_type": "code",
        "colab": {
          "base_uri": "https://localhost:8080/",
          "height": 299
        },
        "outputId": "21640134-56f4-41b5-a7b0-3c8b0f7b72ef"
      },
      "source": [
        "ax = galton.plot.scatter('midparentHeight','childHeight')\n",
        "predicted_heights_df.plot.scatter('midparentHeight','childHeight',ax=ax,color='yellow')"
      ],
      "execution_count": 57,
      "outputs": [
        {
          "output_type": "execute_result",
          "data": {
            "text/plain": [
              "<matplotlib.axes._subplots.AxesSubplot at 0x7fb25c09ef28>"
            ]
          },
          "metadata": {
            "tags": []
          },
          "execution_count": 57
        },
        {
          "output_type": "display_data",
          "data": {
            "image/png": "[encoded data removed]",
            "text/plain": [
              "<Figure size 432x288 with 1 Axes>"
            ]
          },
          "metadata": {
            "tags": []
          }
        }
      ]
    }
  ]
}
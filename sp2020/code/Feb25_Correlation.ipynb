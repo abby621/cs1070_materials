{
 "cells": [
  {
   "cell_type": "code",
   "execution_count": null,
   "metadata": {},
   "outputs": [],
   "source": [
    "import pandas as pd\n",
    "import numpy as np\n",
    "import matplotlib.pyplot as plt"
   ]
  },
  {
   "cell_type": "code",
   "execution_count": null,
   "metadata": {},
   "outputs": [],
   "source": [
    "hybrid = pd.read_csv('https://raw.githubusercontent.com/abby621/cs1070_materials/master/fl2019/demos/hybrid.csv')\n",
    "hybrid"
   ]
  },
  {
   "cell_type": "code",
   "execution_count": null,
   "metadata": {},
   "outputs": [],
   "source": [
    "hybrid.plot.scatter('acceleration','msrp')\n",
    "# is this linear? hard to tell"
   ]
  },
  {
   "cell_type": "code",
   "execution_count": null,
   "metadata": {},
   "outputs": [],
   "source": [
    "hybrid.plot.scatter('mpg','msrp')\n",
    "# do you think it will be positive or negative?"
   ]
  },
  {
   "cell_type": "code",
   "execution_count": null,
   "metadata": {},
   "outputs": [],
   "source": [
    "suv = hybrid[hybrid['class']=='SUV']\n",
    "suv.plot.scatter('mpg','msrp') \n",
    "# all the SUVs are not super fuel efficient, but their prices are high"
   ]
  },
  {
   "cell_type": "code",
   "execution_count": null,
   "metadata": {},
   "outputs": [],
   "source": [
    "# this looks kind of linear\n",
    "# is acceleration?\n",
    "\n",
    "suv.plot.scatter('acceleration','msrp')\n",
    "# kind of, with some random outliers\n",
    "# still hard to say without numerical quantities"
   ]
  },
  {
   "cell_type": "code",
   "execution_count": null,
   "metadata": {},
   "outputs": [],
   "source": [
    "# how do we compare dollars vs mpg?\n",
    "# convert to standard units\n",
    "mean = np.mean(suv['msrp'])\n",
    "std = np.std(suv['msrp'])\n",
    "mean, std"
   ]
  },
  {
   "cell_type": "code",
   "execution_count": null,
   "metadata": {},
   "outputs": [],
   "source": [
    "(suv['msrp'] - mean) / std"
   ]
  },
  {
   "cell_type": "code",
   "execution_count": null,
   "metadata": {},
   "outputs": [],
   "source": [
    "# take the data, center at 0, and skrink or stretch so that the std is 1\n",
    "def standard_units(nums):\n",
    "    mean = np.mean(nums)\n",
    "    std = np.std(nums)\n",
    "    return (nums - mean) / std\n",
    "\n",
    "standard_units(suv['msrp'])"
   ]
  },
  {
   "cell_type": "code",
   "execution_count": null,
   "metadata": {},
   "outputs": [],
   "source": [
    "standardized_mpg = standard_units(suv['mpg'])\n",
    "standardized_msrp = standard_units(suv['msrp'])\n",
    "\n",
    "plt.scatter(standardized_mpg, standardized_msrp)\n",
    "plt.xlabel('mpg (su)')\n",
    "plt.ylabel('msrp (su)')"
   ]
  },
  {
   "cell_type": "code",
   "execution_count": null,
   "metadata": {},
   "outputs": [],
   "source": [
    "standardized_acceleration = standard_units(suv['acceleration'])\n",
    "\n",
    "plt.scatter(standardized_acceleration, standardized_msrp)\n",
    "plt.xlabel('acceleration (su)')\n",
    "plt.ylabel('msrp (su)')\n",
    "\n",
    "# basic idea: now we can actually compare axes\n",
    "# (the plots don't actually look that different)\n",
    "# a point at (1,1) is both 1 std away from the average msrp, \n",
    "# and 1 std away from the average acceleration"
   ]
  }
 ],
 "metadata": {
  "kernelspec": {
   "display_name": "Python 3",
   "language": "python",
   "name": "python3"
  },
  "language_info": {
   "codemirror_mode": {
    "name": "ipython",
    "version": 3
   },
   "file_extension": ".py",
   "mimetype": "text/x-python",
   "name": "python",
   "nbconvert_exporter": "python",
   "pygments_lexer": "ipython3",
   "version": "3.7.4"
  }
 },
 "nbformat": 4,
 "nbformat_minor": 2
}

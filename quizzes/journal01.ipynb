{
 "cells": [
  {
   "cell_type": "markdown",
   "metadata": {},
   "source": [
    "# Journal 1\n",
    "\n",
    "Please respond prompt below. Your journal entries will be graded according to [this rubric](https://cs.slu.edu/~stylianou/1070/journal_rubric.html).\n",
    "\n",
    "You may open [the article](https://www.theatlantic.com/technology/archive/2019/01/how-machine-learning-found-flints-lead-pipes/578692/) for reference, but remember you only have 20 minutes to write your response."
   ]
  },
  {
   "cell_type": "markdown",
   "metadata": {},
   "source": [
    "<hr>\n",
    "(10 pts) 'The computer scientists saw that an information problem was sitting atop the lead issue in the city.'\n",
    "\n",
    "In what ways was the Flint water crisis an information problem, and how was data science used to address the crisis through 2017? What happened AECOM took over the project in 2018?\n",
    "\n",
    "*This shouldn't be a two sentence answer. As examples of what you might write about: describe the specific types of data that were most important in attempting to identify and remediate lead pipe locations and explain how different aspects of the data were prioritized in the actual removal and remediation efforts; discuss why AECOM abandoned the machine learning model, whether or not it was justificed, and the implications of that choice.*"
   ]
  },
  {
   "cell_type": "markdown",
   "metadata": {},
   "source": [
    "YOUR RESPONSE GOES HERE"
   ]
  },
  {
   "cell_type": "markdown",
   "metadata": {},
   "source": [
    "<hr>\n",
    "# Submit\n",
    "Download this IPython notebook and upload it to your git repository. Instructions for this can be found [here](https://cs.slu.edu/~stylianou/1070/submitting_assignments.html)."
   ]
  }
 ],
 "metadata": {
  "kernelspec": {
   "display_name": "Python 2",
   "language": "python",
   "name": "python2"
  },
  "language_info": {
   "codemirror_mode": {
    "name": "ipython",
    "version": 2
   },
   "file_extension": ".py",
   "mimetype": "text/x-python",
   "name": "python",
   "nbconvert_exporter": "python",
   "pygments_lexer": "ipython2",
   "version": "2.7.15"
  }
 },
 "nbformat": 4,
 "nbformat_minor": 2
}

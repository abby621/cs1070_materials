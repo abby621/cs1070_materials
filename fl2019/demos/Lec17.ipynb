{
 "cells": [
  {
   "cell_type": "code",
   "execution_count": 99,
   "metadata": {},
   "outputs": [],
   "source": [
    "from datascience import *\n",
    "import numpy as np\n",
    "\n",
    "%matplotlib inline\n",
    "import matplotlib.pyplot as plots\n",
    "plots.style.use('fivethirtyeight')"
   ]
  },
  {
   "cell_type": "markdown",
   "metadata": {},
   "source": [
    "# Jury Panels"
   ]
  },
  {
   "cell_type": "markdown",
   "metadata": {},
   "source": [
    "What is the probability of getting the actual panel w/ 8/100 black jurors?\n",
    "\n",
    "1) Start w/ distributions of eligible jurors and actual panel\n",
    "2) Draw panels at random from the eligible jurors\n",
    "3) See if the panel is actually likely"
   ]
  },
  {
   "cell_type": "code",
   "execution_count": 100,
   "metadata": {},
   "outputs": [],
   "source": [
    "# Step 1: distributions of population and sample\n",
    "swain = Table().with_columns(\n",
    "    'Ethnicity', make_array('Black','Other'),\n",
    "    'Eligible', make_array(0.26,0.74),\n",
    "    'Panel', make_array(0.08,0.92)\n",
    ")"
   ]
  },
  {
   "cell_type": "code",
   "execution_count": 101,
   "metadata": {},
   "outputs": [
    {
     "data": {
      "image/png": "[encoded data removed]",
      "text/plain": [
       "<Figure size 432x288 with 1 Axes>"
      ]
     },
     "metadata": {},
     "output_type": "display_data"
    }
   ],
   "source": [
    "swain.barh(0)"
   ]
  },
  {
   "cell_type": "code",
   "execution_count": 102,
   "metadata": {},
   "outputs": [
    {
     "data": {
      "text/plain": [
       "0.18000000000000002"
      ]
     },
     "execution_count": 102,
     "metadata": {},
     "output_type": "execute_result"
    }
   ],
   "source": [
    "def total_variation_distance(dist1,dist2):\n",
    "    return sum(abs(dist1-dist2)) / 2\n",
    "\n",
    "# TVD between eligible jurors and our panel\n",
    "tvd = total_variation_distance(swain.column(1), swain.column(2))\n",
    "tvd"
   ]
  },
  {
   "cell_type": "code",
   "execution_count": 103,
   "metadata": {},
   "outputs": [
    {
     "data": {
      "text/plain": [
       "array([0.26, 0.74])"
      ]
     },
     "execution_count": 103,
     "metadata": {},
     "output_type": "execute_result"
    }
   ],
   "source": [
    "pop_dist = swain.column('Eligible')\n",
    "pop_dist"
   ]
  },
  {
   "cell_type": "code",
   "execution_count": 104,
   "metadata": {},
   "outputs": [
    {
     "data": {
      "text/html": [
       "<table border=\"1\" class=\"dataframe\">\n",
       "    <thead>\n",
       "        <tr>\n",
       "            <th>Ethnicity</th>\n",
       "        </tr>\n",
       "    </thead>\n",
       "    <tbody>\n",
       "        <tr>\n",
       "            <td>Black    </td>\n",
       "        </tr>\n",
       "        <tr>\n",
       "            <td>Black    </td>\n",
       "        </tr>\n",
       "        <tr>\n",
       "            <td>Other    </td>\n",
       "        </tr>\n",
       "        <tr>\n",
       "            <td>Other    </td>\n",
       "        </tr>\n",
       "        <tr>\n",
       "            <td>Other    </td>\n",
       "        </tr>\n",
       "        <tr>\n",
       "            <td>Other    </td>\n",
       "        </tr>\n",
       "        <tr>\n",
       "            <td>Other    </td>\n",
       "        </tr>\n",
       "        <tr>\n",
       "            <td>Other    </td>\n",
       "        </tr>\n",
       "        <tr>\n",
       "            <td>Other    </td>\n",
       "        </tr>\n",
       "        <tr>\n",
       "            <td>Other    </td>\n",
       "        </tr>\n",
       "    </tbody>\n",
       "</table>"
      ],
      "text/plain": [
       "Ethnicity\n",
       "Black\n",
       "Black\n",
       "Other\n",
       "Other\n",
       "Other\n",
       "Other\n",
       "Other\n",
       "Other\n",
       "Other\n",
       "Other"
      ]
     },
     "execution_count": 104,
     "metadata": {},
     "output_type": "execute_result"
    }
   ],
   "source": [
    "ethnicities = swain.select(0)\n",
    "ethnicities.sample(10,weights=pop_dist)"
   ]
  },
  {
   "cell_type": "code",
   "execution_count": 105,
   "metadata": {},
   "outputs": [],
   "source": [
    "#2) Draw panels at random from the eligible jurors\n",
    "\n",
    "def random_jury_panel():\n",
    "    sample_panel = ethnicities.sample(100,weights=pop_dist).group('Ethnicity')\n",
    "    counts = sample_panel.column('count')\n",
    "    proportions = counts / 100\n",
    "    with_random = swain.with_column('Random', proportions)\n",
    "    return with_random\n"
   ]
  },
  {
   "cell_type": "code",
   "execution_count": 106,
   "metadata": {},
   "outputs": [
    {
     "data": {
      "text/html": [
       "<table border=\"1\" class=\"dataframe\">\n",
       "    <thead>\n",
       "        <tr>\n",
       "            <th>Ethnicity</th> <th>Eligible</th> <th>Panel</th> <th>Random</th>\n",
       "        </tr>\n",
       "    </thead>\n",
       "    <tbody>\n",
       "        <tr>\n",
       "            <td>Black    </td> <td>0.26    </td> <td>0.08 </td> <td>0.18  </td>\n",
       "        </tr>\n",
       "        <tr>\n",
       "            <td>Other    </td> <td>0.74    </td> <td>0.92 </td> <td>0.82  </td>\n",
       "        </tr>\n",
       "    </tbody>\n",
       "</table>"
      ],
      "text/plain": [
       "Ethnicity | Eligible | Panel | Random\n",
       "Black     | 0.26     | 0.08  | 0.18\n",
       "Other     | 0.74     | 0.92  | 0.82"
      ]
     },
     "execution_count": 106,
     "metadata": {},
     "output_type": "execute_result"
    }
   ],
   "source": [
    "random_jury_panel()"
   ]
  },
  {
   "cell_type": "code",
   "execution_count": null,
   "metadata": {},
   "outputs": [],
   "source": []
  },
  {
   "cell_type": "code",
   "execution_count": 107,
   "metadata": {},
   "outputs": [],
   "source": [
    "repetitions = 1000\n",
    "tvds = make_array()\n",
    "\n",
    "for i in np.arange(repetitions):\n",
    "    new_sample = random_jury_panel()\n",
    "    tvds = np.append(tvds,total_variation_distance(new_sample.column(1),new_sample.column(3)))"
   ]
  },
  {
   "cell_type": "code",
   "execution_count": 108,
   "metadata": {},
   "outputs": [
    {
     "data": {
      "image/png": "[encoded data removed]",
      "text/plain": [
       "<Figure size 432x288 with 1 Axes>"
      ]
     },
     "metadata": {},
     "output_type": "display_data"
    }
   ],
   "source": [
    "Table().with_column('TVD b/w pop and random sample',tvds).hist(bins=np.arange(0,0.2,0.01))"
   ]
  },
  {
   "cell_type": "code",
   "execution_count": 109,
   "metadata": {},
   "outputs": [
    {
     "data": {
      "text/plain": [
       "0.18000000000000002"
      ]
     },
     "execution_count": 109,
     "metadata": {},
     "output_type": "execute_result"
    }
   ],
   "source": [
    "# what was the original TVD? \n",
    "tvd"
   ]
  },
  {
   "cell_type": "markdown",
   "metadata": {},
   "source": [
    "# Mendel's Pea Flowers"
   ]
  },
  {
   "cell_type": "code",
   "execution_count": 110,
   "metadata": {},
   "outputs": [
    {
     "data": {
      "text/plain": [
       "array(['Purple', 'Purple', 'Purple', 'White'], dtype='<U6')"
      ]
     },
     "execution_count": 110,
     "metadata": {},
     "output_type": "execute_result"
    }
   ],
   "source": [
    "null = make_array('Purple','Purple','Purple','White')\n",
    "null"
   ]
  },
  {
   "cell_type": "code",
   "execution_count": 111,
   "metadata": {},
   "outputs": [
    {
     "data": {
      "text/plain": [
       "array(['White', 'White', 'Purple', 'Purple', 'Purple', 'Purple', 'Purple',\n",
       "       'White', 'Purple', 'Purple'], dtype='<U6')"
      ]
     },
     "execution_count": 111,
     "metadata": {},
     "output_type": "execute_result"
    }
   ],
   "source": [
    "sample = np.random.choice(null,10)\n",
    "sample"
   ]
  },
  {
   "cell_type": "code",
   "execution_count": 112,
   "metadata": {},
   "outputs": [],
   "source": [
    "def test_statistic(sample):\n",
    "    prop_purple = abs(np.count_nonzero(sample == 'Purple') / len(sample) - 0.75)\n",
    "    return prop_purple\n",
    "\n",
    "# the higher it is, the more different it is from the theoretical"
   ]
  },
  {
   "cell_type": "code",
   "execution_count": 113,
   "metadata": {},
   "outputs": [
    {
     "data": {
      "text/plain": [
       "0.050000000000000044"
      ]
     },
     "execution_count": 113,
     "metadata": {},
     "output_type": "execute_result"
    }
   ],
   "source": [
    "# run until we have samples w/ lots of purple and lots of whites\n",
    "sample = np.random.choice(null,10)\n",
    "test_statistic(sample)"
   ]
  },
  {
   "cell_type": "code",
   "execution_count": 114,
   "metadata": {},
   "outputs": [
    {
     "data": {
      "text/plain": [
       "0.7588805166846071"
      ]
     },
     "execution_count": 114,
     "metadata": {},
     "output_type": "execute_result"
    }
   ],
   "source": [
    "# Mendel's observation\n",
    "total_plants = 929\n",
    "observed = 705 /  total_plants # were purple\n",
    "observed\n",
    "\n",
    "# Question: does this observed rate fit the null hypothesis?"
   ]
  },
  {
   "cell_type": "code",
   "execution_count": 115,
   "metadata": {},
   "outputs": [
    {
     "data": {
      "text/plain": [
       "0.008880516684607098"
      ]
     },
     "execution_count": 115,
     "metadata": {},
     "output_type": "execute_result"
    }
   ],
   "source": [
    "observed_statistic = abs(observed - 0.75)\n",
    "observed_statistic"
   ]
  },
  {
   "cell_type": "code",
   "execution_count": 116,
   "metadata": {},
   "outputs": [],
   "source": [
    "repetitions = 5000\n",
    "sample_stats = make_array()\n",
    "\n",
    "for i in np.arange(repetitions):\n",
    "    sample_stat = test_statistic(np.random.choice(null,total_plants))\n",
    "    sample_stats = np.append(sample_stats,sample_stat)"
   ]
  },
  {
   "cell_type": "code",
   "execution_count": 117,
   "metadata": {},
   "outputs": [
    {
     "data": {
      "image/png": "[encoded data removed]",
      "text/plain": [
       "<Figure size 432x288 with 1 Axes>"
      ]
     },
     "metadata": {},
     "output_type": "display_data"
    }
   ],
   "source": [
    "null_dist = Table().with_columns('null distribution',sample_stats)\n",
    "null_dist.hist()\n",
    "\n",
    "_ = plots.plot([observed_statistic, observed_statistic],[0,60])"
   ]
  },
  {
   "cell_type": "code",
   "execution_count": 118,
   "metadata": {},
   "outputs": [],
   "source": [
    "# it looks like typical values fall between 0 and 0.35 if mendel's model was correct\n",
    "# and we draw plants at random\n",
    "\n",
    "# what is 'good enough'? how far could we move that blue line over and still\n",
    "# think that we had a good fit?"
   ]
  },
  {
   "cell_type": "code",
   "execution_count": 119,
   "metadata": {},
   "outputs": [
    {
     "data": {
      "image/png": "[encoded data removed]",
      "text/plain": [
       "<Figure size 432x288 with 1 Axes>"
      ]
     },
     "metadata": {},
     "output_type": "display_data"
    }
   ],
   "source": [
    "our_observations = 0.03\n",
    "null_dist.hist()\n",
    "\n",
    "_ = plots.plot([our_observations, our_observations],[0,60])"
   ]
  },
  {
   "cell_type": "code",
   "execution_count": 120,
   "metadata": {},
   "outputs": [],
   "source": [
    "# Do I accept or reject that this observation fit the proposed model?"
   ]
  },
  {
   "cell_type": "code",
   "execution_count": 121,
   "metadata": {},
   "outputs": [
    {
     "data": {
      "text/plain": [
       "array([0.01587729, 0.00349839, 0.0121098 , ..., 0.01426265, 0.01533907,\n",
       "       0.00457481])"
      ]
     },
     "execution_count": 121,
     "metadata": {},
     "output_type": "execute_result"
    }
   ],
   "source": [
    "# What are the proportion of values that are above my line?\n",
    "sample_stats"
   ]
  },
  {
   "cell_type": "code",
   "execution_count": 122,
   "metadata": {},
   "outputs": [
    {
     "data": {
      "text/plain": [
       "0.5442"
      ]
     },
     "execution_count": 122,
     "metadata": {},
     "output_type": "execute_result"
    }
   ],
   "source": [
    "# the % of results that are > (worse) than mendel's observed stat\n",
    "np.count_nonzero(sample_stats >= observed_statistic) / len(sample_stats)\n"
   ]
  },
  {
   "cell_type": "code",
   "execution_count": 123,
   "metadata": {},
   "outputs": [
    {
     "data": {
      "text/plain": [
       "0.0328"
      ]
     },
     "execution_count": 123,
     "metadata": {},
     "output_type": "execute_result"
    }
   ],
   "source": [
    "# the % of results that are > (worse) than OUR's observed stat\n",
    "np.count_nonzero(sample_stats >= our_observations) / len(sample_stats)\n",
    "# this is the chance of getting my result or worse under the null hypothesis\n",
    "# if things are truly randomly drawn in a 3:1 ratio, there's only a 3% chance of \n",
    "# getting our observation\n",
    "\n",
    "# this is a p-value"
   ]
  },
  {
   "cell_type": "code",
   "execution_count": null,
   "metadata": {},
   "outputs": [],
   "source": []
  },
  {
   "cell_type": "code",
   "execution_count": null,
   "metadata": {},
   "outputs": [],
   "source": []
  },
  {
   "cell_type": "code",
   "execution_count": 124,
   "metadata": {},
   "outputs": [
    {
     "data": {
      "text/plain": [
       "0.5442"
      ]
     },
     "execution_count": 124,
     "metadata": {},
     "output_type": "execute_result"
    }
   ],
   "source": [
    "# Discussion of no absolute value\n",
    "orig_p_value = np.count_nonzero(sample_stats >= observed_statistic) / len(sample_stats)\n",
    "orig_p_value"
   ]
  },
  {
   "cell_type": "code",
   "execution_count": 125,
   "metadata": {},
   "outputs": [
    {
     "data": {
      "image/png": "[encoded data removed]",
      "text/plain": [
       "<Figure size 432x288 with 1 Axes>"
      ]
     },
     "metadata": {},
     "output_type": "display_data"
    }
   ],
   "source": [
    "def new_test_statistic(sample):\n",
    "    prop_purple = np.count_nonzero(sample == 'Purple') / len(sample) - 0.75\n",
    "    return prop_purple\n",
    "\n",
    "repetitions = 5000\n",
    "sample_stats = make_array()\n",
    "\n",
    "for i in np.arange(repetitions):\n",
    "    sample_stat = new_test_statistic(np.random.choice(null,total_plants))\n",
    "    sample_stats = np.append(sample_stats,sample_stat)\n",
    "\n",
    "null_dist = Table().with_columns('null distribution',sample_stats)\n",
    "null_dist.hist()\n",
    "\n",
    "_ = plots.plot([observed_statistic, observed_statistic],[0,60])"
   ]
  },
  {
   "cell_type": "code",
   "execution_count": 127,
   "metadata": {},
   "outputs": [
    {
     "data": {
      "text/plain": [
       "0.2832"
      ]
     },
     "execution_count": 127,
     "metadata": {},
     "output_type": "execute_result"
    }
   ],
   "source": [
    "# now compute the p-value\n",
    "new_p_value = np.count_nonzero(sample_stats >= observed_statistic) / len(sample_stats)\n",
    "new_p_value"
   ]
  }
 ],
 "metadata": {
  "kernelspec": {
   "display_name": "Python 3",
   "language": "python",
   "name": "python3"
  },
  "language_info": {
   "codemirror_mode": {
    "name": "ipython",
    "version": 3
   },
   "file_extension": ".py",
   "mimetype": "text/x-python",
   "name": "python",
   "nbconvert_exporter": "python",
   "pygments_lexer": "ipython3",
   "version": "3.6.7"
  }
 },
 "nbformat": 4,
 "nbformat_minor": 2
}

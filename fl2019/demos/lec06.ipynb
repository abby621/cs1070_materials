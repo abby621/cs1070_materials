{
 "cells": [
  {
   "cell_type": "code",
   "execution_count": 29,
   "metadata": {},
   "outputs": [],
   "source": [
    "from datascience import *\n",
    "import numpy as np"
   ]
  },
  {
   "cell_type": "markdown",
   "metadata": {},
   "source": [
    "# Census"
   ]
  },
  {
   "cell_type": "code",
   "execution_count": 3,
   "metadata": {},
   "outputs": [
    {
     "data": {
      "text/html": [
       "<table border=\"1\" class=\"dataframe\">\n",
       "    <thead>\n",
       "        <tr>\n",
       "            <th>SEX</th> <th>AGE</th> <th>CENSUS2010POP</th> <th>ESTIMATESBASE2010</th> <th>POPESTIMATE2010</th> <th>POPESTIMATE2011</th> <th>POPESTIMATE2012</th> <th>POPESTIMATE2013</th> <th>POPESTIMATE2014</th>\n",
       "        </tr>\n",
       "    </thead>\n",
       "    <tbody>\n",
       "        <tr>\n",
       "            <td>0   </td> <td>0   </td> <td>3944153      </td> <td>3944160          </td> <td>3951330        </td> <td>3963071        </td> <td>3926665        </td> <td>3945610        </td> <td>3948350        </td>\n",
       "        </tr>\n",
       "        <tr>\n",
       "            <td>0   </td> <td>1   </td> <td>3978070      </td> <td>3978090          </td> <td>3957888        </td> <td>3966510        </td> <td>3978006        </td> <td>3943077        </td> <td>3962123        </td>\n",
       "        </tr>\n",
       "        <tr>\n",
       "            <td>0   </td> <td>2   </td> <td>4096929      </td> <td>4096939          </td> <td>4090862        </td> <td>3971573        </td> <td>3979952        </td> <td>3992690        </td> <td>3957772        </td>\n",
       "        </tr>\n",
       "        <tr>\n",
       "            <td>0   </td> <td>3   </td> <td>4119040      </td> <td>4119051          </td> <td>4111920        </td> <td>4102501        </td> <td>3983049        </td> <td>3992425        </td> <td>4005190        </td>\n",
       "        </tr>\n",
       "        <tr>\n",
       "            <td>0   </td> <td>4   </td> <td>4063170      </td> <td>4063186          </td> <td>4077552        </td> <td>4122303        </td> <td>4112638        </td> <td>3994047        </td> <td>4003448        </td>\n",
       "        </tr>\n",
       "        <tr>\n",
       "            <td>0   </td> <td>5   </td> <td>4056858      </td> <td>4056872          </td> <td>4064653        </td> <td>4087713        </td> <td>4132210        </td> <td>4123408        </td> <td>4004858        </td>\n",
       "        </tr>\n",
       "        <tr>\n",
       "            <td>0   </td> <td>6   </td> <td>4066381      </td> <td>4066412          </td> <td>4073013        </td> <td>4074979        </td> <td>4097780        </td> <td>4143094        </td> <td>4134352        </td>\n",
       "        </tr>\n",
       "        <tr>\n",
       "            <td>0   </td> <td>7   </td> <td>4030579      </td> <td>4030594          </td> <td>4043047        </td> <td>4083240        </td> <td>4084964        </td> <td>4108615        </td> <td>4154000        </td>\n",
       "        </tr>\n",
       "        <tr>\n",
       "            <td>0   </td> <td>8   </td> <td>4046486      </td> <td>4046497          </td> <td>4025604        </td> <td>4053206        </td> <td>4093213        </td> <td>4095827        </td> <td>4119524        </td>\n",
       "        </tr>\n",
       "        <tr>\n",
       "            <td>0   </td> <td>9   </td> <td>4148353      </td> <td>4148369          </td> <td>4125415        </td> <td>4035769        </td> <td>4063193        </td> <td>4104133        </td> <td>4106832        </td>\n",
       "        </tr>\n",
       "    </tbody>\n",
       "</table>\n",
       "<p>... (296 rows omitted)</p>"
      ],
      "text/plain": [
       "SEX  | AGE  | CENSUS2010POP | ESTIMATESBASE2010 | POPESTIMATE2010 | POPESTIMATE2011 | POPESTIMATE2012 | POPESTIMATE2013 | POPESTIMATE2014\n",
       "0    | 0    | 3944153       | 3944160           | 3951330         | 3963071         | 3926665         | 3945610         | 3948350\n",
       "0    | 1    | 3978070       | 3978090           | 3957888         | 3966510         | 3978006         | 3943077         | 3962123\n",
       "0    | 2    | 4096929       | 4096939           | 4090862         | 3971573         | 3979952         | 3992690         | 3957772\n",
       "0    | 3    | 4119040       | 4119051           | 4111920         | 4102501         | 3983049         | 3992425         | 4005190\n",
       "0    | 4    | 4063170       | 4063186           | 4077552         | 4122303         | 4112638         | 3994047         | 4003448\n",
       "0    | 5    | 4056858       | 4056872           | 4064653         | 4087713         | 4132210         | 4123408         | 4004858\n",
       "0    | 6    | 4066381       | 4066412           | 4073013         | 4074979         | 4097780         | 4143094         | 4134352\n",
       "0    | 7    | 4030579       | 4030594           | 4043047         | 4083240         | 4084964         | 4108615         | 4154000\n",
       "0    | 8    | 4046486       | 4046497           | 4025604         | 4053206         | 4093213         | 4095827         | 4119524\n",
       "0    | 9    | 4148353       | 4148369           | 4125415         | 4035769         | 4063193         | 4104133         | 4106832\n",
       "... (296 rows omitted)"
      ]
     },
     "execution_count": 3,
     "metadata": {},
     "output_type": "execute_result"
    }
   ],
   "source": [
    "full = Table.read_table('nc-est2014-agesex-res.csv')\n",
    "full"
   ]
  },
  {
   "cell_type": "code",
   "execution_count": 4,
   "metadata": {},
   "outputs": [
    {
     "data": {
      "text/html": [
       "<table border=\"1\" class=\"dataframe\">\n",
       "    <thead>\n",
       "        <tr>\n",
       "            <th>SEX</th> <th>AGE</th> <th>POPESTIMATE2010</th> <th>POPESTIMATE2014</th>\n",
       "        </tr>\n",
       "    </thead>\n",
       "    <tbody>\n",
       "        <tr>\n",
       "            <td>0   </td> <td>0   </td> <td>3951330        </td> <td>3948350        </td>\n",
       "        </tr>\n",
       "        <tr>\n",
       "            <td>0   </td> <td>1   </td> <td>3957888        </td> <td>3962123        </td>\n",
       "        </tr>\n",
       "        <tr>\n",
       "            <td>0   </td> <td>2   </td> <td>4090862        </td> <td>3957772        </td>\n",
       "        </tr>\n",
       "        <tr>\n",
       "            <td>0   </td> <td>3   </td> <td>4111920        </td> <td>4005190        </td>\n",
       "        </tr>\n",
       "        <tr>\n",
       "            <td>0   </td> <td>4   </td> <td>4077552        </td> <td>4003448        </td>\n",
       "        </tr>\n",
       "        <tr>\n",
       "            <td>0   </td> <td>5   </td> <td>4064653        </td> <td>4004858        </td>\n",
       "        </tr>\n",
       "        <tr>\n",
       "            <td>0   </td> <td>6   </td> <td>4073013        </td> <td>4134352        </td>\n",
       "        </tr>\n",
       "        <tr>\n",
       "            <td>0   </td> <td>7   </td> <td>4043047        </td> <td>4154000        </td>\n",
       "        </tr>\n",
       "        <tr>\n",
       "            <td>0   </td> <td>8   </td> <td>4025604        </td> <td>4119524        </td>\n",
       "        </tr>\n",
       "        <tr>\n",
       "            <td>0   </td> <td>9   </td> <td>4125415        </td> <td>4106832        </td>\n",
       "        </tr>\n",
       "    </tbody>\n",
       "</table>\n",
       "<p>... (296 rows omitted)</p>"
      ],
      "text/plain": [
       "SEX  | AGE  | POPESTIMATE2010 | POPESTIMATE2014\n",
       "0    | 0    | 3951330         | 3948350\n",
       "0    | 1    | 3957888         | 3962123\n",
       "0    | 2    | 4090862         | 3957772\n",
       "0    | 3    | 4111920         | 4005190\n",
       "0    | 4    | 4077552         | 4003448\n",
       "0    | 5    | 4064653         | 4004858\n",
       "0    | 6    | 4073013         | 4134352\n",
       "0    | 7    | 4043047         | 4154000\n",
       "0    | 8    | 4025604         | 4119524\n",
       "0    | 9    | 4125415         | 4106832\n",
       "... (296 rows omitted)"
      ]
     },
     "execution_count": 4,
     "metadata": {},
     "output_type": "execute_result"
    }
   ],
   "source": [
    "partial = full.select('SEX', 'AGE', 4, 8)\n",
    "partial"
   ]
  },
  {
   "cell_type": "code",
   "execution_count": 10,
   "metadata": {},
   "outputs": [
    {
     "data": {
      "text/html": [
       "<table border=\"1\" class=\"dataframe\">\n",
       "    <thead>\n",
       "        <tr>\n",
       "            <th>SEX</th> <th>AGE</th> <th>2010</th> <th>2014</th>\n",
       "        </tr>\n",
       "    </thead>\n",
       "    <tbody>\n",
       "        <tr>\n",
       "            <td>0   </td> <td>0   </td> <td>3951330</td> <td>3948350</td>\n",
       "        </tr>\n",
       "        <tr>\n",
       "            <td>0   </td> <td>1   </td> <td>3957888</td> <td>3962123</td>\n",
       "        </tr>\n",
       "        <tr>\n",
       "            <td>0   </td> <td>2   </td> <td>4090862</td> <td>3957772</td>\n",
       "        </tr>\n",
       "        <tr>\n",
       "            <td>0   </td> <td>3   </td> <td>4111920</td> <td>4005190</td>\n",
       "        </tr>\n",
       "        <tr>\n",
       "            <td>0   </td> <td>4   </td> <td>4077552</td> <td>4003448</td>\n",
       "        </tr>\n",
       "        <tr>\n",
       "            <td>0   </td> <td>5   </td> <td>4064653</td> <td>4004858</td>\n",
       "        </tr>\n",
       "        <tr>\n",
       "            <td>0   </td> <td>6   </td> <td>4073013</td> <td>4134352</td>\n",
       "        </tr>\n",
       "        <tr>\n",
       "            <td>0   </td> <td>7   </td> <td>4043047</td> <td>4154000</td>\n",
       "        </tr>\n",
       "        <tr>\n",
       "            <td>0   </td> <td>8   </td> <td>4025604</td> <td>4119524</td>\n",
       "        </tr>\n",
       "        <tr>\n",
       "            <td>0   </td> <td>9   </td> <td>4125415</td> <td>4106832</td>\n",
       "        </tr>\n",
       "    </tbody>\n",
       "</table>\n",
       "<p>... (296 rows omitted)</p>"
      ],
      "text/plain": [
       "SEX  | AGE  | 2010    | 2014\n",
       "0    | 0    | 3951330 | 3948350\n",
       "0    | 1    | 3957888 | 3962123\n",
       "0    | 2    | 4090862 | 3957772\n",
       "0    | 3    | 4111920 | 4005190\n",
       "0    | 4    | 4077552 | 4003448\n",
       "0    | 5    | 4064653 | 4004858\n",
       "0    | 6    | 4073013 | 4134352\n",
       "0    | 7    | 4043047 | 4154000\n",
       "0    | 8    | 4025604 | 4119524\n",
       "0    | 9    | 4125415 | 4106832\n",
       "... (296 rows omitted)"
      ]
     },
     "execution_count": 10,
     "metadata": {},
     "output_type": "execute_result"
    }
   ],
   "source": [
    "simple = partial.relabeled('POPESTIMATE2010','2010').relabeled('POPESTIMATE2014','2014')\n",
    "simple"
   ]
  },
  {
   "cell_type": "code",
   "execution_count": 11,
   "metadata": {},
   "outputs": [
    {
     "data": {
      "text/html": [
       "<table border=\"1\" class=\"dataframe\">\n",
       "    <thead>\n",
       "        <tr>\n",
       "            <th>SEX</th> <th>AGE</th> <th>2010</th> <th>2014</th>\n",
       "        </tr>\n",
       "    </thead>\n",
       "    <tbody>\n",
       "        <tr>\n",
       "            <td>0   </td> <td>0   </td> <td>3,951,330</td> <td>3,948,350</td>\n",
       "        </tr>\n",
       "        <tr>\n",
       "            <td>0   </td> <td>1   </td> <td>3,957,888</td> <td>3,962,123</td>\n",
       "        </tr>\n",
       "        <tr>\n",
       "            <td>0   </td> <td>2   </td> <td>4,090,862</td> <td>3,957,772</td>\n",
       "        </tr>\n",
       "        <tr>\n",
       "            <td>0   </td> <td>3   </td> <td>4,111,920</td> <td>4,005,190</td>\n",
       "        </tr>\n",
       "        <tr>\n",
       "            <td>0   </td> <td>4   </td> <td>4,077,552</td> <td>4,003,448</td>\n",
       "        </tr>\n",
       "        <tr>\n",
       "            <td>0   </td> <td>5   </td> <td>4,064,653</td> <td>4,004,858</td>\n",
       "        </tr>\n",
       "        <tr>\n",
       "            <td>0   </td> <td>6   </td> <td>4,073,013</td> <td>4,134,352</td>\n",
       "        </tr>\n",
       "        <tr>\n",
       "            <td>0   </td> <td>7   </td> <td>4,043,047</td> <td>4,154,000</td>\n",
       "        </tr>\n",
       "        <tr>\n",
       "            <td>0   </td> <td>8   </td> <td>4,025,604</td> <td>4,119,524</td>\n",
       "        </tr>\n",
       "        <tr>\n",
       "            <td>0   </td> <td>9   </td> <td>4,125,415</td> <td>4,106,832</td>\n",
       "        </tr>\n",
       "    </tbody>\n",
       "</table>\n",
       "<p>... (296 rows omitted)</p>"
      ],
      "text/plain": [
       "SEX  | AGE  | 2010      | 2014\n",
       "0    | 0    | 3,951,330 | 3,948,350\n",
       "0    | 1    | 3,957,888 | 3,962,123\n",
       "0    | 2    | 4,090,862 | 3,957,772\n",
       "0    | 3    | 4,111,920 | 4,005,190\n",
       "0    | 4    | 4,077,552 | 4,003,448\n",
       "0    | 5    | 4,064,653 | 4,004,858\n",
       "0    | 6    | 4,073,013 | 4,134,352\n",
       "0    | 7    | 4,043,047 | 4,154,000\n",
       "0    | 8    | 4,025,604 | 4,119,524\n",
       "0    | 9    | 4,125,415 | 4,106,832\n",
       "... (296 rows omitted)"
      ]
     },
     "execution_count": 11,
     "metadata": {},
     "output_type": "execute_result"
    }
   ],
   "source": [
    "simple.set_format([2,3], NumberFormatter)"
   ]
  },
  {
   "cell_type": "code",
   "execution_count": 13,
   "metadata": {},
   "outputs": [
    {
     "data": {
      "text/html": [
       "<table border=\"1\" class=\"dataframe\">\n",
       "    <thead>\n",
       "        <tr>\n",
       "            <th>SEX</th> <th>AGE</th> <th>2010</th> <th>2014</th>\n",
       "        </tr>\n",
       "    </thead>\n",
       "    <tbody>\n",
       "        <tr>\n",
       "            <td>2   </td> <td>999 </td> <td>157,257,573</td> <td>161,920,569</td>\n",
       "        </tr>\n",
       "        <tr>\n",
       "            <td>1   </td> <td>999 </td> <td>152,089,484</td> <td>156,936,487</td>\n",
       "        </tr>\n",
       "        <tr>\n",
       "            <td>0   </td> <td>999 </td> <td>309,347,057</td> <td>318,857,056</td>\n",
       "        </tr>\n",
       "        <tr>\n",
       "            <td>2   </td> <td>100 </td> <td>45,058     </td> <td>58,468     </td>\n",
       "        </tr>\n",
       "        <tr>\n",
       "            <td>1   </td> <td>100 </td> <td>9,351      </td> <td>13,729     </td>\n",
       "        </tr>\n",
       "        <tr>\n",
       "            <td>0   </td> <td>100 </td> <td>54,409     </td> <td>72,197     </td>\n",
       "        </tr>\n",
       "        <tr>\n",
       "            <td>2   </td> <td>99  </td> <td>26,074     </td> <td>32,791     </td>\n",
       "        </tr>\n",
       "        <tr>\n",
       "            <td>1   </td> <td>99  </td> <td>6,104      </td> <td>9,037      </td>\n",
       "        </tr>\n",
       "        <tr>\n",
       "            <td>0   </td> <td>99  </td> <td>32,178     </td> <td>41,828     </td>\n",
       "        </tr>\n",
       "        <tr>\n",
       "            <td>2   </td> <td>98  </td> <td>37,533     </td> <td>46,536     </td>\n",
       "        </tr>\n",
       "    </tbody>\n",
       "</table>\n",
       "<p>... (296 rows omitted)</p>"
      ],
      "text/plain": [
       "SEX  | AGE  | 2010        | 2014\n",
       "2    | 999  | 157,257,573 | 161,920,569\n",
       "1    | 999  | 152,089,484 | 156,936,487\n",
       "0    | 999  | 309,347,057 | 318,857,056\n",
       "2    | 100  | 45,058      | 58,468\n",
       "1    | 100  | 9,351       | 13,729\n",
       "0    | 100  | 54,409      | 72,197\n",
       "2    | 99   | 26,074      | 32,791\n",
       "1    | 99   | 6,104       | 9,037\n",
       "0    | 99   | 32,178      | 41,828\n",
       "2    | 98   | 37,533      | 46,536\n",
       "... (296 rows omitted)"
      ]
     },
     "execution_count": 13,
     "metadata": {},
     "output_type": "execute_result"
    }
   ],
   "source": [
    "simple.sort('AGE', descending=True)\n",
    "# need to go read the documentation! (back to slides)"
   ]
  },
  {
   "cell_type": "code",
   "execution_count": 15,
   "metadata": {},
   "outputs": [
    {
     "data": {
      "text/html": [
       "<table border=\"1\" class=\"dataframe\">\n",
       "    <thead>\n",
       "        <tr>\n",
       "            <th>SEX</th> <th>AGE</th> <th>2010</th> <th>2014</th>\n",
       "        </tr>\n",
       "    </thead>\n",
       "    <tbody>\n",
       "        <tr>\n",
       "            <td>0   </td> <td>0   </td> <td>3,951,330</td> <td>3,948,350</td>\n",
       "        </tr>\n",
       "        <tr>\n",
       "            <td>0   </td> <td>1   </td> <td>3,957,888</td> <td>3,962,123</td>\n",
       "        </tr>\n",
       "        <tr>\n",
       "            <td>0   </td> <td>2   </td> <td>4,090,862</td> <td>3,957,772</td>\n",
       "        </tr>\n",
       "        <tr>\n",
       "            <td>0   </td> <td>3   </td> <td>4,111,920</td> <td>4,005,190</td>\n",
       "        </tr>\n",
       "        <tr>\n",
       "            <td>0   </td> <td>4   </td> <td>4,077,552</td> <td>4,003,448</td>\n",
       "        </tr>\n",
       "        <tr>\n",
       "            <td>0   </td> <td>5   </td> <td>4,064,653</td> <td>4,004,858</td>\n",
       "        </tr>\n",
       "        <tr>\n",
       "            <td>0   </td> <td>6   </td> <td>4,073,013</td> <td>4,134,352</td>\n",
       "        </tr>\n",
       "        <tr>\n",
       "            <td>0   </td> <td>7   </td> <td>4,043,047</td> <td>4,154,000</td>\n",
       "        </tr>\n",
       "        <tr>\n",
       "            <td>0   </td> <td>8   </td> <td>4,025,604</td> <td>4,119,524</td>\n",
       "        </tr>\n",
       "        <tr>\n",
       "            <td>0   </td> <td>9   </td> <td>4,125,415</td> <td>4,106,832</td>\n",
       "        </tr>\n",
       "    </tbody>\n",
       "</table>\n",
       "<p>... (293 rows omitted)</p>"
      ],
      "text/plain": [
       "SEX  | AGE  | 2010      | 2014\n",
       "0    | 0    | 3,951,330 | 3,948,350\n",
       "0    | 1    | 3,957,888 | 3,962,123\n",
       "0    | 2    | 4,090,862 | 3,957,772\n",
       "0    | 3    | 4,111,920 | 4,005,190\n",
       "0    | 4    | 4,077,552 | 4,003,448\n",
       "0    | 5    | 4,064,653 | 4,004,858\n",
       "0    | 6    | 4,073,013 | 4,134,352\n",
       "0    | 7    | 4,043,047 | 4,154,000\n",
       "0    | 8    | 4,025,604 | 4,119,524\n",
       "0    | 9    | 4,125,415 | 4,106,832\n",
       "... (293 rows omitted)"
      ]
     },
     "execution_count": 15,
     "metadata": {},
     "output_type": "execute_result"
    }
   ],
   "source": [
    "no_999 = simple.where(1, are.below(999))\n",
    "no_999"
   ]
  },
  {
   "cell_type": "code",
   "execution_count": 18,
   "metadata": {},
   "outputs": [],
   "source": [
    "everyone = no_999.where('SEX',0).drop(0)\n",
    "males = no_999.where('SEX', 1).drop(0)\n",
    "females = no_999.where('SEX',2).drop(0)"
   ]
  },
  {
   "cell_type": "code",
   "execution_count": 19,
   "metadata": {},
   "outputs": [
    {
     "data": {
      "text/html": [
       "<table border=\"1\" class=\"dataframe\">\n",
       "    <thead>\n",
       "        <tr>\n",
       "            <th>AGE</th> <th>2010</th> <th>2014</th>\n",
       "        </tr>\n",
       "    </thead>\n",
       "    <tbody>\n",
       "        <tr>\n",
       "            <td>0   </td> <td>2,018,420</td> <td>2,017,857</td>\n",
       "        </tr>\n",
       "        <tr>\n",
       "            <td>1   </td> <td>2,020,332</td> <td>2,023,253</td>\n",
       "        </tr>\n",
       "        <tr>\n",
       "            <td>2   </td> <td>2,088,685</td> <td>2,022,502</td>\n",
       "        </tr>\n",
       "        <tr>\n",
       "            <td>3   </td> <td>2,101,272</td> <td>2,048,618</td>\n",
       "        </tr>\n",
       "        <tr>\n",
       "            <td>4   </td> <td>2,084,312</td> <td>2,043,498</td>\n",
       "        </tr>\n",
       "        <tr>\n",
       "            <td>5   </td> <td>2,076,573</td> <td>2,043,467</td>\n",
       "        </tr>\n",
       "        <tr>\n",
       "            <td>6   </td> <td>2,079,410</td> <td>2,110,328</td>\n",
       "        </tr>\n",
       "        <tr>\n",
       "            <td>7   </td> <td>2,063,139</td> <td>2,122,240</td>\n",
       "        </tr>\n",
       "        <tr>\n",
       "            <td>8   </td> <td>2,054,462</td> <td>2,105,122</td>\n",
       "        </tr>\n",
       "        <tr>\n",
       "            <td>9   </td> <td>2,107,037</td> <td>2,097,272</td>\n",
       "        </tr>\n",
       "    </tbody>\n",
       "</table>\n",
       "<p>... (91 rows omitted)</p>"
      ],
      "text/plain": [
       "AGE  | 2010      | 2014\n",
       "0    | 2,018,420 | 2,017,857\n",
       "1    | 2,020,332 | 2,023,253\n",
       "2    | 2,088,685 | 2,022,502\n",
       "3    | 2,101,272 | 2,048,618\n",
       "4    | 2,084,312 | 2,043,498\n",
       "5    | 2,076,573 | 2,043,467\n",
       "6    | 2,079,410 | 2,110,328\n",
       "7    | 2,063,139 | 2,122,240\n",
       "8    | 2,054,462 | 2,105,122\n",
       "9    | 2,107,037 | 2,097,272\n",
       "... (91 rows omitted)"
      ]
     },
     "execution_count": 19,
     "metadata": {},
     "output_type": "execute_result"
    }
   ],
   "source": [
    "males"
   ]
  },
  {
   "cell_type": "code",
   "execution_count": 20,
   "metadata": {},
   "outputs": [
    {
     "data": {
      "text/html": [
       "<table border=\"1\" class=\"dataframe\">\n",
       "    <thead>\n",
       "        <tr>\n",
       "            <th>AGE</th> <th>2010</th> <th>2014</th>\n",
       "        </tr>\n",
       "    </thead>\n",
       "    <tbody>\n",
       "        <tr>\n",
       "            <td>0   </td> <td>1,932,910</td> <td>1,930,493</td>\n",
       "        </tr>\n",
       "        <tr>\n",
       "            <td>1   </td> <td>1,937,556</td> <td>1,938,870</td>\n",
       "        </tr>\n",
       "        <tr>\n",
       "            <td>2   </td> <td>2,002,177</td> <td>1,935,270</td>\n",
       "        </tr>\n",
       "        <tr>\n",
       "            <td>3   </td> <td>2,010,648</td> <td>1,956,572</td>\n",
       "        </tr>\n",
       "        <tr>\n",
       "            <td>4   </td> <td>1,993,240</td> <td>1,959,950</td>\n",
       "        </tr>\n",
       "        <tr>\n",
       "            <td>5   </td> <td>1,988,080</td> <td>1,961,391</td>\n",
       "        </tr>\n",
       "        <tr>\n",
       "            <td>6   </td> <td>1,993,603</td> <td>2,024,024</td>\n",
       "        </tr>\n",
       "        <tr>\n",
       "            <td>7   </td> <td>1,979,908</td> <td>2,031,760</td>\n",
       "        </tr>\n",
       "        <tr>\n",
       "            <td>8   </td> <td>1,971,142</td> <td>2,014,402</td>\n",
       "        </tr>\n",
       "        <tr>\n",
       "            <td>9   </td> <td>2,018,378</td> <td>2,009,560</td>\n",
       "        </tr>\n",
       "    </tbody>\n",
       "</table>\n",
       "<p>... (91 rows omitted)</p>"
      ],
      "text/plain": [
       "AGE  | 2010      | 2014\n",
       "0    | 1,932,910 | 1,930,493\n",
       "1    | 1,937,556 | 1,938,870\n",
       "2    | 2,002,177 | 1,935,270\n",
       "3    | 2,010,648 | 1,956,572\n",
       "4    | 1,993,240 | 1,959,950\n",
       "5    | 1,988,080 | 1,961,391\n",
       "6    | 1,993,603 | 2,024,024\n",
       "7    | 1,979,908 | 2,031,760\n",
       "8    | 1,971,142 | 2,014,402\n",
       "9    | 2,018,378 | 2,009,560\n",
       "... (91 rows omitted)"
      ]
     },
     "execution_count": 20,
     "metadata": {},
     "output_type": "execute_result"
    }
   ],
   "source": [
    "females"
   ]
  },
  {
   "cell_type": "code",
   "execution_count": 21,
   "metadata": {},
   "outputs": [
    {
     "data": {
      "text/html": [
       "<table border=\"1\" class=\"dataframe\">\n",
       "    <thead>\n",
       "        <tr>\n",
       "            <th>AGE</th> <th>2010</th> <th>2014</th>\n",
       "        </tr>\n",
       "    </thead>\n",
       "    <tbody>\n",
       "        <tr>\n",
       "            <td>54  </td> <td>2,196,798</td> <td>2,331,961</td>\n",
       "        </tr>\n",
       "        <tr>\n",
       "            <td>53  </td> <td>2,268,457</td> <td>2,316,131</td>\n",
       "        </tr>\n",
       "        <tr>\n",
       "            <td>24  </td> <td>2,082,209</td> <td>2,301,237</td>\n",
       "        </tr>\n",
       "        <tr>\n",
       "            <td>23  </td> <td>2,066,126</td> <td>2,298,701</td>\n",
       "        </tr>\n",
       "        <tr>\n",
       "            <td>51  </td> <td>2,289,164</td> <td>2,283,261</td>\n",
       "        </tr>\n",
       "        <tr>\n",
       "            <td>52  </td> <td>2,283,408</td> <td>2,282,051</td>\n",
       "        </tr>\n",
       "        <tr>\n",
       "            <td>50  </td> <td>2,355,349</td> <td>2,279,824</td>\n",
       "        </tr>\n",
       "        <tr>\n",
       "            <td>55  </td> <td>2,183,762</td> <td>2,263,367</td>\n",
       "        </tr>\n",
       "        <tr>\n",
       "            <td>56  </td> <td>2,108,681</td> <td>2,254,749</td>\n",
       "        </tr>\n",
       "        <tr>\n",
       "            <td>22  </td> <td>2,098,759</td> <td>2,244,480</td>\n",
       "        </tr>\n",
       "    </tbody>\n",
       "</table>\n",
       "<p>... (91 rows omitted)</p>"
      ],
      "text/plain": [
       "AGE  | 2010      | 2014\n",
       "54   | 2,196,798 | 2,331,961\n",
       "53   | 2,268,457 | 2,316,131\n",
       "24   | 2,082,209 | 2,301,237\n",
       "23   | 2,066,126 | 2,298,701\n",
       "51   | 2,289,164 | 2,283,261\n",
       "52   | 2,283,408 | 2,282,051\n",
       "50   | 2,355,349 | 2,279,824\n",
       "55   | 2,183,762 | 2,263,367\n",
       "56   | 2,108,681 | 2,254,749\n",
       "22   | 2,098,759 | 2,244,480\n",
       "... (91 rows omitted)"
      ]
     },
     "execution_count": 21,
     "metadata": {},
     "output_type": "execute_result"
    }
   ],
   "source": [
    "females.sort(2,descending=True)"
   ]
  },
  {
   "cell_type": "code",
   "execution_count": 22,
   "metadata": {},
   "outputs": [
    {
     "data": {
      "text/html": [
       "<table border=\"1\" class=\"dataframe\">\n",
       "    <thead>\n",
       "        <tr>\n",
       "            <th>AGE</th> <th>2010</th> <th>2014</th>\n",
       "        </tr>\n",
       "    </thead>\n",
       "    <tbody>\n",
       "        <tr>\n",
       "            <td>23  </td> <td>2,151,095</td> <td>2,399,883</td>\n",
       "        </tr>\n",
       "        <tr>\n",
       "            <td>24  </td> <td>2,161,380</td> <td>2,391,398</td>\n",
       "        </tr>\n",
       "        <tr>\n",
       "            <td>22  </td> <td>2,188,228</td> <td>2,367,842</td>\n",
       "        </tr>\n",
       "        <tr>\n",
       "            <td>21  </td> <td>2,241,095</td> <td>2,310,734</td>\n",
       "        </tr>\n",
       "        <tr>\n",
       "            <td>25  </td> <td>2,177,171</td> <td>2,295,836</td>\n",
       "        </tr>\n",
       "        <tr>\n",
       "            <td>20  </td> <td>2,331,846</td> <td>2,269,570</td>\n",
       "        </tr>\n",
       "        <tr>\n",
       "            <td>54  </td> <td>2,091,677</td> <td>2,242,828</td>\n",
       "        </tr>\n",
       "        <tr>\n",
       "            <td>26  </td> <td>2,102,375</td> <td>2,240,026</td>\n",
       "        </tr>\n",
       "        <tr>\n",
       "            <td>19  </td> <td>2,334,906</td> <td>2,220,790</td>\n",
       "        </tr>\n",
       "        <tr>\n",
       "            <td>53  </td> <td>2,170,965</td> <td>2,219,617</td>\n",
       "        </tr>\n",
       "    </tbody>\n",
       "</table>\n",
       "<p>... (91 rows omitted)</p>"
      ],
      "text/plain": [
       "AGE  | 2010      | 2014\n",
       "23   | 2,151,095 | 2,399,883\n",
       "24   | 2,161,380 | 2,391,398\n",
       "22   | 2,188,228 | 2,367,842\n",
       "21   | 2,241,095 | 2,310,734\n",
       "25   | 2,177,171 | 2,295,836\n",
       "20   | 2,331,846 | 2,269,570\n",
       "54   | 2,091,677 | 2,242,828\n",
       "26   | 2,102,375 | 2,240,026\n",
       "19   | 2,334,906 | 2,220,790\n",
       "53   | 2,170,965 | 2,219,617\n",
       "... (91 rows omitted)"
      ]
     },
     "execution_count": 22,
     "metadata": {},
     "output_type": "execute_result"
    }
   ],
   "source": [
    "males.sort(2,descending=True)"
   ]
  },
  {
   "cell_type": "code",
   "execution_count": 25,
   "metadata": {},
   "outputs": [
    {
     "data": {
      "text/html": [
       "<table border=\"1\" class=\"dataframe\">\n",
       "    <thead>\n",
       "        <tr>\n",
       "            <th>Age</th> <th>Males</th> <th>Females</th>\n",
       "        </tr>\n",
       "    </thead>\n",
       "    <tbody>\n",
       "        <tr>\n",
       "            <td>0   </td> <td>2017857</td> <td>1930493</td>\n",
       "        </tr>\n",
       "        <tr>\n",
       "            <td>1   </td> <td>2023253</td> <td>1938870</td>\n",
       "        </tr>\n",
       "        <tr>\n",
       "            <td>2   </td> <td>2022502</td> <td>1935270</td>\n",
       "        </tr>\n",
       "        <tr>\n",
       "            <td>3   </td> <td>2048618</td> <td>1956572</td>\n",
       "        </tr>\n",
       "        <tr>\n",
       "            <td>4   </td> <td>2043498</td> <td>1959950</td>\n",
       "        </tr>\n",
       "        <tr>\n",
       "            <td>5   </td> <td>2043467</td> <td>1961391</td>\n",
       "        </tr>\n",
       "        <tr>\n",
       "            <td>6   </td> <td>2110328</td> <td>2024024</td>\n",
       "        </tr>\n",
       "        <tr>\n",
       "            <td>7   </td> <td>2122240</td> <td>2031760</td>\n",
       "        </tr>\n",
       "        <tr>\n",
       "            <td>8   </td> <td>2105122</td> <td>2014402</td>\n",
       "        </tr>\n",
       "        <tr>\n",
       "            <td>9   </td> <td>2097272</td> <td>2009560</td>\n",
       "        </tr>\n",
       "    </tbody>\n",
       "</table>\n",
       "<p>... (91 rows omitted)</p>"
      ],
      "text/plain": [
       "Age  | Males   | Females\n",
       "0    | 2017857 | 1930493\n",
       "1    | 2023253 | 1938870\n",
       "2    | 2022502 | 1935270\n",
       "3    | 2048618 | 1956572\n",
       "4    | 2043498 | 1959950\n",
       "5    | 2043467 | 1961391\n",
       "6    | 2110328 | 2024024\n",
       "7    | 2122240 | 2031760\n",
       "8    | 2105122 | 2014402\n",
       "9    | 2097272 | 2009560\n",
       "... (91 rows omitted)"
      ]
     },
     "execution_count": 25,
     "metadata": {},
     "output_type": "execute_result"
    }
   ],
   "source": [
    "pop_2014 = Table().with_columns(\n",
    "    'Age', males.column(0),\n",
    "    'Males', males.column(2),\n",
    "    'Females', females.column(2)\n",
    ")\n",
    "pop_2014 # what's surprising about this? slightly less likely to be born female than male"
   ]
  },
  {
   "cell_type": "code",
   "execution_count": 27,
   "metadata": {},
   "outputs": [
    {
     "data": {
      "text/html": [
       "<table border=\"1\" class=\"dataframe\">\n",
       "    <thead>\n",
       "        <tr>\n",
       "            <th>Age</th> <th>Males</th> <th>Females</th> <th>Percent Female</th>\n",
       "        </tr>\n",
       "    </thead>\n",
       "    <tbody>\n",
       "        <tr>\n",
       "            <td>0   </td> <td>2017857</td> <td>1930493</td> <td>48.8937       </td>\n",
       "        </tr>\n",
       "        <tr>\n",
       "            <td>1   </td> <td>2023253</td> <td>1938870</td> <td>48.9351       </td>\n",
       "        </tr>\n",
       "        <tr>\n",
       "            <td>2   </td> <td>2022502</td> <td>1935270</td> <td>48.898        </td>\n",
       "        </tr>\n",
       "        <tr>\n",
       "            <td>3   </td> <td>2048618</td> <td>1956572</td> <td>48.8509       </td>\n",
       "        </tr>\n",
       "        <tr>\n",
       "            <td>4   </td> <td>2043498</td> <td>1959950</td> <td>48.9565       </td>\n",
       "        </tr>\n",
       "        <tr>\n",
       "            <td>5   </td> <td>2043467</td> <td>1961391</td> <td>48.9753       </td>\n",
       "        </tr>\n",
       "        <tr>\n",
       "            <td>6   </td> <td>2110328</td> <td>2024024</td> <td>48.9563       </td>\n",
       "        </tr>\n",
       "        <tr>\n",
       "            <td>7   </td> <td>2122240</td> <td>2031760</td> <td>48.9109       </td>\n",
       "        </tr>\n",
       "        <tr>\n",
       "            <td>8   </td> <td>2105122</td> <td>2014402</td> <td>48.8989       </td>\n",
       "        </tr>\n",
       "        <tr>\n",
       "            <td>9   </td> <td>2097272</td> <td>2009560</td> <td>48.9321       </td>\n",
       "        </tr>\n",
       "    </tbody>\n",
       "</table>\n",
       "<p>... (91 rows omitted)</p>"
      ],
      "text/plain": [
       "Age  | Males   | Females | Percent Female\n",
       "0    | 2017857 | 1930493 | 48.8937\n",
       "1    | 2023253 | 1938870 | 48.9351\n",
       "2    | 2022502 | 1935270 | 48.898\n",
       "3    | 2048618 | 1956572 | 48.8509\n",
       "4    | 2043498 | 1959950 | 48.9565\n",
       "5    | 2043467 | 1961391 | 48.9753\n",
       "6    | 2110328 | 2024024 | 48.9563\n",
       "7    | 2122240 | 2031760 | 48.9109\n",
       "8    | 2105122 | 2014402 | 48.8989\n",
       "9    | 2097272 | 2009560 | 48.9321\n",
       "... (91 rows omitted)"
      ]
     },
     "execution_count": 27,
     "metadata": {},
     "output_type": "execute_result"
    }
   ],
   "source": [
    "percent_females = pop_2014.column(2) / (pop_2014.column(1) + pop_2014.column(2)) * 100\n",
    "counts_and_percents = pop_2014.with_column('Percent Female', percent_females)\n",
    "counts_and_percents"
   ]
  },
  {
   "cell_type": "markdown",
   "metadata": {},
   "source": [
    "# Line Graphs"
   ]
  },
  {
   "cell_type": "code",
   "execution_count": 31,
   "metadata": {},
   "outputs": [
    {
     "data": {
      "image/png": "[encoded data removed]",
      "text/plain": [
       "<Figure size 432x288 with 1 Axes>"
      ]
     },
     "metadata": {
      "needs_background": "light"
     },
     "output_type": "display_data"
    }
   ],
   "source": [
    "%matplotlib inline\n",
    "counts_and_percents.plot('Age','Percent Female') # first argument = x axis, second argumnent = y-axis"
   ]
  },
  {
   "cell_type": "code",
   "execution_count": 32,
   "metadata": {},
   "outputs": [
    {
     "data": {
      "image/png": "[encoded data removed]",
      "text/plain": [
       "<Figure size 432x288 with 1 Axes>"
      ]
     },
     "metadata": {
      "needs_background": "light"
     },
     "output_type": "display_data"
    }
   ],
   "source": [
    "# look at males and females on the same plot, separately\n",
    "# overlaid plots \n",
    "pop_2014.plot('Age') # just specify x axis, every other column will be displayed as values on the y-axis"
   ]
  },
  {
   "cell_type": "code",
   "execution_count": 36,
   "metadata": {},
   "outputs": [
    {
     "data": {
      "text/html": [
       "<table border=\"1\" class=\"dataframe\">\n",
       "    <thead>\n",
       "        <tr>\n",
       "            <th>Age</th> <th>Males</th> <th>Females</th>\n",
       "        </tr>\n",
       "    </thead>\n",
       "    <tbody>\n",
       "        <tr>\n",
       "            <td>65  </td> <td>1607688</td> <td>1776761</td>\n",
       "        </tr>\n",
       "        <tr>\n",
       "            <td>66  </td> <td>1589127</td> <td>1758649</td>\n",
       "        </tr>\n",
       "        <tr>\n",
       "            <td>67  </td> <td>1653257</td> <td>1832245</td>\n",
       "        </tr>\n",
       "        <tr>\n",
       "            <td>68  </td> <td>1211480</td> <td>1361047</td>\n",
       "        </tr>\n",
       "        <tr>\n",
       "            <td>69  </td> <td>1187554</td> <td>1347458</td>\n",
       "        </tr>\n",
       "        <tr>\n",
       "            <td>70  </td> <td>1149247</td> <td>1317238</td>\n",
       "        </tr>\n",
       "        <tr>\n",
       "            <td>71  </td> <td>1169356</td> <td>1350392</td>\n",
       "        </tr>\n",
       "        <tr>\n",
       "            <td>72  </td> <td>1010896</td> <td>1183338</td>\n",
       "        </tr>\n",
       "        <tr>\n",
       "            <td>73  </td> <td>913008 </td> <td>1089183</td>\n",
       "        </tr>\n",
       "        <tr>\n",
       "            <td>74  </td> <td>857432 </td> <td>1032934</td>\n",
       "        </tr>\n",
       "    </tbody>\n",
       "</table>"
      ],
      "text/plain": [
       "Age  | Males   | Females\n",
       "65   | 1607688 | 1776761\n",
       "66   | 1589127 | 1758649\n",
       "67   | 1653257 | 1832245\n",
       "68   | 1211480 | 1361047\n",
       "69   | 1187554 | 1347458\n",
       "70   | 1149247 | 1317238\n",
       "71   | 1169356 | 1350392\n",
       "72   | 1010896 | 1183338\n",
       "73   | 913008  | 1089183\n",
       "74   | 857432  | 1032934"
      ]
     },
     "execution_count": 36,
     "metadata": {},
     "output_type": "execute_result"
    }
   ],
   "source": [
    "# what's the sharp drop around 65?\n",
    "pop_2014.where('Age',are.between(65,75))"
   ]
  },
  {
   "cell_type": "code",
   "execution_count": 38,
   "metadata": {},
   "outputs": [
    {
     "data": {
      "text/plain": [
       "array([1947, 1946, 1945, 1944, 1943, 1942])"
      ]
     },
     "execution_count": 38,
     "metadata": {},
     "output_type": "execute_result"
    }
   ],
   "source": [
    "2014 - np.arange(67,73)"
   ]
  },
  {
   "cell_type": "code",
   "execution_count": 39,
   "metadata": {},
   "outputs": [],
   "source": [
    "everyone = everyone.with_column(\n",
    "    'Change', everyone.column(2) - everyone.column(1)\n",
    ")"
   ]
  },
  {
   "cell_type": "code",
   "execution_count": 41,
   "metadata": {},
   "outputs": [
    {
     "data": {
      "text/html": [
       "<table border=\"1\" class=\"dataframe\">\n",
       "    <thead>\n",
       "        <tr>\n",
       "            <th>AGE</th> <th>2010</th> <th>2014</th> <th>Change</th>\n",
       "        </tr>\n",
       "    </thead>\n",
       "    <tbody>\n",
       "        <tr>\n",
       "            <td>67  </td> <td>2,693,709</td> <td>3,485,502</td> <td>791793</td>\n",
       "        </tr>\n",
       "        <tr>\n",
       "            <td>64  </td> <td>2,706,063</td> <td>3,488,136</td> <td>782073</td>\n",
       "        </tr>\n",
       "        <tr>\n",
       "            <td>66  </td> <td>2,621,346</td> <td>3,347,776</td> <td>726430</td>\n",
       "        </tr>\n",
       "        <tr>\n",
       "            <td>65  </td> <td>2,678,532</td> <td>3,384,449</td> <td>705917</td>\n",
       "        </tr>\n",
       "        <tr>\n",
       "            <td>71  </td> <td>1,953,614</td> <td>2,519,748</td> <td>566134</td>\n",
       "        </tr>\n",
       "        <tr>\n",
       "            <td>34  </td> <td>3,822,188</td> <td>4,362,895</td> <td>540707</td>\n",
       "        </tr>\n",
       "        <tr>\n",
       "            <td>23  </td> <td>4,217,221</td> <td>4,698,584</td> <td>481363</td>\n",
       "        </tr>\n",
       "        <tr>\n",
       "            <td>59  </td> <td>3,694,276</td> <td>4,155,417</td> <td>461141</td>\n",
       "        </tr>\n",
       "        <tr>\n",
       "            <td>24  </td> <td>4,243,589</td> <td>4,692,635</td> <td>449046</td>\n",
       "        </tr>\n",
       "        <tr>\n",
       "            <td>70  </td> <td>2,062,581</td> <td>2,466,485</td> <td>403904</td>\n",
       "        </tr>\n",
       "    </tbody>\n",
       "</table>\n",
       "<p>... (91 rows omitted)</p>"
      ],
      "text/plain": [
       "AGE  | 2010      | 2014      | Change\n",
       "67   | 2,693,709 | 3,485,502 | 791793\n",
       "64   | 2,706,063 | 3,488,136 | 782073\n",
       "66   | 2,621,346 | 3,347,776 | 726430\n",
       "65   | 2,678,532 | 3,384,449 | 705917\n",
       "71   | 1,953,614 | 2,519,748 | 566134\n",
       "34   | 3,822,188 | 4,362,895 | 540707\n",
       "23   | 4,217,221 | 4,698,584 | 481363\n",
       "59   | 3,694,276 | 4,155,417 | 461141\n",
       "24   | 4,243,589 | 4,692,635 | 449046\n",
       "70   | 2,062,581 | 2,466,485 | 403904\n",
       "... (91 rows omitted)"
      ]
     },
     "execution_count": 41,
     "metadata": {},
     "output_type": "execute_result"
    }
   ],
   "source": [
    "everyone.sort('Change', descending=True)"
   ]
  },
  {
   "cell_type": "markdown",
   "metadata": {},
   "source": [
    "# Growth Rates "
   ]
  },
  {
   "cell_type": "code",
   "execution_count": 44,
   "metadata": {},
   "outputs": [
    {
     "data": {
      "text/html": [
       "<table border=\"1\" class=\"dataframe\">\n",
       "    <thead>\n",
       "        <tr>\n",
       "            <th>AGE</th> <th>2010</th> <th>2014</th> <th>Change</th> <th>Growth Rate</th>\n",
       "        </tr>\n",
       "    </thead>\n",
       "    <tbody>\n",
       "        <tr>\n",
       "            <td>100 </td> <td>54,409   </td> <td>72,197   </td> <td>17788 </td> <td>0.0732777  </td>\n",
       "        </tr>\n",
       "        <tr>\n",
       "            <td>93  </td> <td>219,063  </td> <td>286,333  </td> <td>67270 </td> <td>0.069241   </td>\n",
       "        </tr>\n",
       "        <tr>\n",
       "            <td>99  </td> <td>32,178   </td> <td>41,828   </td> <td>9650  </td> <td>0.0677683  </td>\n",
       "        </tr>\n",
       "        <tr>\n",
       "            <td>67  </td> <td>2,693,709</td> <td>3,485,502</td> <td>791793</td> <td>0.0665437  </td>\n",
       "        </tr>\n",
       "        <tr>\n",
       "            <td>71  </td> <td>1,953,614</td> <td>2,519,748</td> <td>566134</td> <td>0.0656868  </td>\n",
       "        </tr>\n",
       "        <tr>\n",
       "            <td>64  </td> <td>2,706,063</td> <td>3,488,136</td> <td>782073</td> <td>0.0655256  </td>\n",
       "        </tr>\n",
       "        <tr>\n",
       "            <td>94  </td> <td>170,775  </td> <td>218,655  </td> <td>47880 </td> <td>0.0637358  </td>\n",
       "        </tr>\n",
       "        <tr>\n",
       "            <td>98  </td> <td>47,037   </td> <td>60,185   </td> <td>13148 </td> <td>0.0635604  </td>\n",
       "        </tr>\n",
       "        <tr>\n",
       "            <td>66  </td> <td>2,621,346</td> <td>3,347,776</td> <td>726430</td> <td>0.0630606  </td>\n",
       "        </tr>\n",
       "        <tr>\n",
       "            <td>65  </td> <td>2,678,532</td> <td>3,384,449</td> <td>705917</td> <td>0.0602244  </td>\n",
       "        </tr>\n",
       "    </tbody>\n",
       "</table>\n",
       "<p>... (91 rows omitted)</p>"
      ],
      "text/plain": [
       "AGE  | 2010      | 2014      | Change | Growth Rate\n",
       "100  | 54,409    | 72,197    | 17788  | 0.0732777\n",
       "93   | 219,063   | 286,333   | 67270  | 0.069241\n",
       "99   | 32,178    | 41,828    | 9650   | 0.0677683\n",
       "67   | 2,693,709 | 3,485,502 | 791793 | 0.0665437\n",
       "71   | 1,953,614 | 2,519,748 | 566134 | 0.0656868\n",
       "64   | 2,706,063 | 3,488,136 | 782073 | 0.0655256\n",
       "94   | 170,775   | 218,655   | 47880  | 0.0637358\n",
       "98   | 47,037    | 60,185    | 13148  | 0.0635604\n",
       "66   | 2,621,346 | 3,347,776 | 726430 | 0.0630606\n",
       "65   | 2,678,532 | 3,384,449 | 705917 | 0.0602244\n",
       "... (91 rows omitted)"
      ]
     },
     "execution_count": 44,
     "metadata": {},
     "output_type": "execute_result"
    }
   ],
   "source": [
    "everyone.with_column(\n",
    "    'Growth Rate', (everyone.column(2) / everyone.column(1)) ** (1/4) - 1\n",
    ").sort('Growth Rate',descending=True)"
   ]
  },
  {
   "cell_type": "markdown",
   "metadata": {},
   "source": [
    "# Scatter Plots"
   ]
  },
  {
   "cell_type": "code",
   "execution_count": 46,
   "metadata": {},
   "outputs": [
    {
     "data": {
      "text/html": [
       "<table border=\"1\" class=\"dataframe\">\n",
       "    <thead>\n",
       "        <tr>\n",
       "            <th>Actor</th> <th>Total Gross</th> <th>Number of Movies</th> <th>Average per Movie</th> <th>#1 Movie</th> <th>Gross</th>\n",
       "        </tr>\n",
       "    </thead>\n",
       "    <tbody>\n",
       "        <tr>\n",
       "            <td>Harrison Ford     </td> <td>4871.7     </td> <td>41              </td> <td>118.8            </td> <td>Star Wars: The Force Awakens</td> <td>936.7</td>\n",
       "        </tr>\n",
       "        <tr>\n",
       "            <td>Samuel L. Jackson </td> <td>4772.8     </td> <td>69              </td> <td>69.2             </td> <td>The Avengers                </td> <td>623.4</td>\n",
       "        </tr>\n",
       "        <tr>\n",
       "            <td>Morgan Freeman    </td> <td>4468.3     </td> <td>61              </td> <td>73.3             </td> <td>The Dark Knight             </td> <td>534.9</td>\n",
       "        </tr>\n",
       "        <tr>\n",
       "            <td>Tom Hanks         </td> <td>4340.8     </td> <td>44              </td> <td>98.7             </td> <td>Toy Story 3                 </td> <td>415  </td>\n",
       "        </tr>\n",
       "        <tr>\n",
       "            <td>Robert Downey, Jr.</td> <td>3947.3     </td> <td>53              </td> <td>74.5             </td> <td>The Avengers                </td> <td>623.4</td>\n",
       "        </tr>\n",
       "        <tr>\n",
       "            <td>Eddie Murphy      </td> <td>3810.4     </td> <td>38              </td> <td>100.3            </td> <td>Shrek 2                     </td> <td>441.2</td>\n",
       "        </tr>\n",
       "        <tr>\n",
       "            <td>Tom Cruise        </td> <td>3587.2     </td> <td>36              </td> <td>99.6             </td> <td>War of the Worlds           </td> <td>234.3</td>\n",
       "        </tr>\n",
       "        <tr>\n",
       "            <td>Johnny Depp       </td> <td>3368.6     </td> <td>45              </td> <td>74.9             </td> <td>Dead Man's Chest            </td> <td>423.3</td>\n",
       "        </tr>\n",
       "        <tr>\n",
       "            <td>Michael Caine     </td> <td>3351.5     </td> <td>58              </td> <td>57.8             </td> <td>The Dark Knight             </td> <td>534.9</td>\n",
       "        </tr>\n",
       "        <tr>\n",
       "            <td>Scarlett Johansson</td> <td>3341.2     </td> <td>37              </td> <td>90.3             </td> <td>The Avengers                </td> <td>623.4</td>\n",
       "        </tr>\n",
       "    </tbody>\n",
       "</table>\n",
       "<p>... (40 rows omitted)</p>"
      ],
      "text/plain": [
       "Actor              | Total Gross | Number of Movies | Average per Movie | #1 Movie                     | Gross\n",
       "Harrison Ford      | 4871.7      | 41               | 118.8             | Star Wars: The Force Awakens | 936.7\n",
       "Samuel L. Jackson  | 4772.8      | 69               | 69.2              | The Avengers                 | 623.4\n",
       "Morgan Freeman     | 4468.3      | 61               | 73.3              | The Dark Knight              | 534.9\n",
       "Tom Hanks          | 4340.8      | 44               | 98.7              | Toy Story 3                  | 415\n",
       "Robert Downey, Jr. | 3947.3      | 53               | 74.5              | The Avengers                 | 623.4\n",
       "Eddie Murphy       | 3810.4      | 38               | 100.3             | Shrek 2                      | 441.2\n",
       "Tom Cruise         | 3587.2      | 36               | 99.6              | War of the Worlds            | 234.3\n",
       "Johnny Depp        | 3368.6      | 45               | 74.9              | Dead Man's Chest             | 423.3\n",
       "Michael Caine      | 3351.5      | 58               | 57.8              | The Dark Knight              | 534.9\n",
       "Scarlett Johansson | 3341.2      | 37               | 90.3              | The Avengers                 | 623.4\n",
       "... (40 rows omitted)"
      ]
     },
     "execution_count": 46,
     "metadata": {},
     "output_type": "execute_result"
    }
   ],
   "source": [
    "actors = Table.read_table('actors.csv')\n",
    "actors"
   ]
  },
  {
   "cell_type": "code",
   "execution_count": 48,
   "metadata": {},
   "outputs": [
    {
     "data": {
      "image/png": "[encoded data removed]",
      "text/plain": [
       "<Figure size 360x360 with 1 Axes>"
      ]
     },
     "metadata": {
      "needs_background": "light"
     },
     "output_type": "display_data"
    }
   ],
   "source": [
    "actors.scatter('Number of Movies','Total Gross') # positive association"
   ]
  },
  {
   "cell_type": "code",
   "execution_count": 49,
   "metadata": {},
   "outputs": [
    {
     "data": {
      "image/png": "[encoded data removed]",
      "text/plain": [
       "<Figure size 360x360 with 1 Axes>"
      ]
     },
     "metadata": {
      "needs_background": "light"
     },
     "output_type": "display_data"
    }
   ],
   "source": [
    "actors.scatter('Number of Movies', 'Average per Movie') # negative association"
   ]
  },
  {
   "cell_type": "code",
   "execution_count": 50,
   "metadata": {},
   "outputs": [
    {
     "data": {
      "text/html": [
       "<table border=\"1\" class=\"dataframe\">\n",
       "    <thead>\n",
       "        <tr>\n",
       "            <th>Actor</th> <th>Total Gross</th> <th>Number of Movies</th> <th>Average per Movie</th> <th>#1 Movie</th> <th>Gross</th>\n",
       "        </tr>\n",
       "    </thead>\n",
       "    <tbody>\n",
       "        <tr>\n",
       "            <td>Anthony Daniels</td> <td>3162.9     </td> <td>7               </td> <td>451.8            </td> <td>Star Wars: The Force Awakens</td> <td>936.7</td>\n",
       "        </tr>\n",
       "    </tbody>\n",
       "</table>"
      ],
      "text/plain": [
       "Actor           | Total Gross | Number of Movies | Average per Movie | #1 Movie                     | Gross\n",
       "Anthony Daniels | 3162.9      | 7                | 451.8             | Star Wars: The Force Awakens | 936.7"
      ]
     },
     "execution_count": 50,
     "metadata": {},
     "output_type": "execute_result"
    }
   ],
   "source": [
    "actors.where('Average per Movie',are.above(400))"
   ]
  }
 ],
 "metadata": {
  "kernelspec": {
   "display_name": "Python 3",
   "language": "python",
   "name": "python3"
  },
  "language_info": {
   "codemirror_mode": {
    "name": "ipython",
    "version": 3
   },
   "file_extension": ".py",
   "mimetype": "text/x-python",
   "name": "python",
   "nbconvert_exporter": "python",
   "pygments_lexer": "ipython3",
   "version": "3.7.3"
  }
 },
 "nbformat": 4,
 "nbformat_minor": 2
}

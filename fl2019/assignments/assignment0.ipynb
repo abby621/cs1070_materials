{
 "cells": [
  {
   "cell_type": "markdown",
   "metadata": {},
   "source": [
    "# Assignment 0\n",
    "\n",
    "In this assignment, you will answer some 'getting to know you' questions so that I can learn a bit about you, your experience with programming and data science, and what you're looking forward to getting out of this class.\n",
    "\n",
    "Your answers should go in the cell after the question. If you want to learn about the markdown used in Jupyter Notebooks, you can look [here](https://medium.com/ibm-data-science-experience/markdown-for-jupyter-notebooks-cheatsheet-386c05aeebed).\n",
    "\n",
    "------"
   ]
  },
  {
   "cell_type": "markdown",
   "metadata": {},
   "source": [
    "1) In the following cell, please enter your SLUNet ID and preferred name (what you want met to call you)."
   ]
  },
  {
   "cell_type": "markdown",
   "metadata": {},
   "source": [
    "YOUR SLUNET ID AND PREFERRED NAME GOES HERE"
   ]
  },
  {
   "cell_type": "markdown",
   "metadata": {},
   "source": [
    "2) What year are you?"
   ]
  },
  {
   "cell_type": "markdown",
   "metadata": {},
   "source": [
    "YOUR YEAR GOES HERE"
   ]
  },
  {
   "cell_type": "markdown",
   "metadata": {},
   "source": [
    "3) What city were you born in?"
   ]
  },
  {
   "cell_type": "markdown",
   "metadata": {},
   "source": [
    "YOUR BIRTH CITY GOES HERE"
   ]
  },
  {
   "cell_type": "markdown",
   "metadata": {},
   "source": [
    "4) Do you have any programming experience? You don't need to, I'm just curious to know what sort of background people have! If you do have any, can you describe it a bit (when, what language, any cool projects, etc)."
   ]
  },
  {
   "cell_type": "markdown",
   "metadata": {},
   "source": [
    "YOUR PROGRAMMING EXPERIENCE GOES HERE"
   ]
  },
  {
   "cell_type": "markdown",
   "metadata": {},
   "source": [
    "5) What are you looking to get from this class? Are there any aspects of 'big data' that you're particularly excited to learn or work with? Any datasets you've heard about and want to work with, or datasets you want to find/create?"
   ]
  },
  {
   "cell_type": "markdown",
   "metadata": {},
   "source": [
    "YOUR EXCITEMENT ABOUT BIG DATA GOES HERE"
   ]
  },
  {
   "cell_type": "markdown",
   "metadata": {},
   "source": [
    "6) What is your favorite movie?"
   ]
  },
  {
   "cell_type": "markdown",
   "metadata": {},
   "source": [
    "YOUR FAVORITE MOVIE GOES HERE"
   ]
  },
  {
   "cell_type": "markdown",
   "metadata": {},
   "source": [
    "7) Go to Google Image Search and find me an image that you think is really cool. (and classroom appropriate)"
   ]
  },
  {
   "cell_type": "markdown",
   "metadata": {},
   "source": [
    "URL TO THE COOLEST PICTURE EVER GOES HERE"
   ]
  },
  {
   "cell_type": "markdown",
   "metadata": {},
   "source": [
    "8) What is your favorite class that you've ever taken?"
   ]
  },
  {
   "cell_type": "markdown",
   "metadata": {},
   "source": [
    "YOUR FAVORITE CLASS GOES HERE"
   ]
  },
  {
   "cell_type": "markdown",
   "metadata": {},
   "source": [
    "9) What is your least favorite class that you've ever taken?"
   ]
  },
  {
   "cell_type": "markdown",
   "metadata": {},
   "source": [
    "WORST CLASS GOES HERE"
   ]
  },
  {
   "cell_type": "markdown",
   "metadata": {},
   "source": [
    "10) Download this IPython notebook and upload it to your git repository. Instructions for this can be found [here](https://cs.slu.edu/~stylianou/1070/submitting_assignments.html)."
   ]
  }
 ],
 "metadata": {
  "kernelspec": {
   "display_name": "Python 3",
   "language": "python",
   "name": "python3"
  },
  "language_info": {
   "codemirror_mode": {
    "name": "ipython",
    "version": 3
   },
   "file_extension": ".py",
   "mimetype": "text/x-python",
   "name": "python",
   "nbconvert_exporter": "python",
   "pygments_lexer": "ipython3",
   "version": "3.7.3"
  }
 },
 "nbformat": 4,
 "nbformat_minor": 2
}

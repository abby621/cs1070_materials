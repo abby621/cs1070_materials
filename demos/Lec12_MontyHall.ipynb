{
 "cells": [
  {
   "cell_type": "code",
   "execution_count": 2,
   "metadata": {},
   "outputs": [],
   "source": [
    "import random"
   ]
  },
  {
   "cell_type": "code",
   "execution_count": 3,
   "metadata": {},
   "outputs": [
    {
     "name": "stdout",
     "output_type": "stream",
     "text": [
      "Prize is behind door # 2\n"
     ]
    }
   ],
   "source": [
    "# Doors are numbered from 0 up to num_doors-1 (inclusive).\n",
    "num_doors = 3\n",
    "\n",
    "# Randomly choose the door hiding the prize.\n",
    "def assign_winning_door(num_doors):\n",
    "    winning_door = random.randint(0, num_doors-1)\n",
    "    return winning_door\n",
    "\n",
    "winning_door = assign_winning_door(num_doors)\n",
    "print('Prize is behind door # ' + str(winning_door+1))"
   ]
  },
  {
   "cell_type": "code",
   "execution_count": 4,
   "metadata": {},
   "outputs": [
    {
     "name": "stdout",
     "output_type": "stream",
     "text": [
      "Contestant picked door # 2\n"
     ]
    }
   ],
   "source": [
    "# The contestant picks a random door, too.\n",
    "def pick_contestant_door(num_doors):\n",
    "    choice = random.randint(0, num_doors-1)\n",
    "    return choice\n",
    "\n",
    "contestant_door = pick_contestant_door(num_doors)\n",
    "print('Contestant picked door # ' + str(contestant_door+1))"
   ]
  },
  {
   "cell_type": "code",
   "execution_count": 58,
   "metadata": {},
   "outputs": [
    {
     "name": "stdout",
     "output_type": "stream",
     "text": [
      "Contestant won by switching? True\n"
     ]
    }
   ],
   "source": [
    "def run_game(num_doors,contestant_door,winning_door,switch):\n",
    "    # The host opens a door that doesn't have the prize behind it\n",
    "    \n",
    "    # get a list of the doors that remain closed\n",
    "    closed_doors = list(range(num_doors))\n",
    "    while len(closed_doors) > 2:\n",
    "        # Randomly choose a door to open.\n",
    "        door_to_remove = random.choice(closed_doors)\n",
    "        \n",
    "        # The host will never open the winning door, or the door\n",
    "        # chosen by the contestant.\n",
    "        if door_to_remove == winning_door or door_to_remove == contestant_door:\n",
    "            continue\n",
    "        \n",
    "        # Remove the door from the list of closed doors.\n",
    "        closed_doors.remove(door_to_remove)\n",
    "    \n",
    "    if switch:\n",
    "        # get the list of still available doors\n",
    "        available_doors = list(closed_doors)\n",
    "        available_doors.remove(contestant_door)\n",
    "        contestant_door = available_doors.pop()\n",
    "    \n",
    "    won = (contestant_door == winning_door)\n",
    "    return won\n",
    "\n",
    "won = run_game(num_doors,contestant_door,winning_door,True)\n",
    "print('Contestant won by switching? ' + str(won))"
   ]
  },
  {
   "cell_type": "code",
   "execution_count": 63,
   "metadata": {},
   "outputs": [
    {
     "name": "stdout",
     "output_type": "stream",
     "text": [
      "    Switching won  6726 times out of 10000 (67.25999999999999% of the time)\n",
      "Not switching won  3274 times out of 10000 (32.74% of the time)\n"
     ]
    }
   ],
   "source": [
    "# Carry out the trials\n",
    "winning_non_switchers = 0\n",
    "winning_switchers = 0\n",
    "num_experiments = 10000\n",
    "\n",
    "for i in range(num_experiments):\n",
    "    winning_door = assign_winning_door(num_doors)\n",
    "    contestant_door = pick_contestant_door(num_doors)\n",
    "    \n",
    "    # In this configuration, test if you'd win by switching or not\n",
    "    won = run_game(num_doors,contestant_door,winning_door,True)\n",
    "    if won:\n",
    "        winning_switchers += 1\n",
    "    else:\n",
    "        winning_non_switchers += 1\n",
    "\n",
    "print('    Switching won {0:5} times out of {1} ({2}% of the time)'.format(\n",
    "        winning_switchers, num_experiments,\n",
    "        (winning_switchers / num_experiments * 100 ) ))\n",
    "print('Not switching won {0:5} times out of {1} ({2}% of the time)'.format(\n",
    "        winning_non_switchers, num_experiments,\n",
    "        (winning_non_switchers / num_experiments * 100 ) ))"
   ]
  }
 ],
 "metadata": {
  "kernelspec": {
   "display_name": "Python 3",
   "language": "python",
   "name": "python3"
  },
  "language_info": {
   "codemirror_mode": {
    "name": "ipython",
    "version": 3
   },
   "file_extension": ".py",
   "mimetype": "text/x-python",
   "name": "python",
   "nbconvert_exporter": "python",
   "pygments_lexer": "ipython3",
   "version": "3.7.3"
  }
 },
 "nbformat": 4,
 "nbformat_minor": 2
}

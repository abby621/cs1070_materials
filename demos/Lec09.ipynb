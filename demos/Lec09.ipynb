{
 "cells": [
  {
   "cell_type": "code",
   "execution_count": 5,
   "metadata": {},
   "outputs": [],
   "source": [
    "from datascience import *\n",
    "import numpy as np\n",
    "\n",
    "%matplotlib inline"
   ]
  },
  {
   "cell_type": "markdown",
   "metadata": {},
   "source": [
    "# Apply with Multiple Arguments"
   ]
  },
  {
   "cell_type": "code",
   "execution_count": 16,
   "metadata": {},
   "outputs": [
    {
     "data": {
      "text/html": [
       "<table border=\"1\" class=\"dataframe\">\n",
       "    <thead>\n",
       "        <tr>\n",
       "            <th>Title</th> <th>Studio</th> <th>Gross</th> <th>Gross (Adjusted)</th> <th>Year</th>\n",
       "        </tr>\n",
       "    </thead>\n",
       "    <tbody>\n",
       "        <tr>\n",
       "            <td>Gone with the Wind              </td> <td>MGM            </td> <td>198676459</td> <td>1796176700      </td> <td>1939</td>\n",
       "        </tr>\n",
       "        <tr>\n",
       "            <td>Star Wars                       </td> <td>Fox            </td> <td>460998007</td> <td>1583483200      </td> <td>1977</td>\n",
       "        </tr>\n",
       "        <tr>\n",
       "            <td>The Sound of Music              </td> <td>Fox            </td> <td>158671368</td> <td>1266072700      </td> <td>1965</td>\n",
       "        </tr>\n",
       "        <tr>\n",
       "            <td>E.T.: The Extra-Terrestrial     </td> <td>Universal      </td> <td>435110554</td> <td>1261085000      </td> <td>1982</td>\n",
       "        </tr>\n",
       "        <tr>\n",
       "            <td>Titanic                         </td> <td>Paramount      </td> <td>658672302</td> <td>1204368000      </td> <td>1997</td>\n",
       "        </tr>\n",
       "        <tr>\n",
       "            <td>The Ten Commandments            </td> <td>Paramount      </td> <td>65500000 </td> <td>1164590000      </td> <td>1956</td>\n",
       "        </tr>\n",
       "        <tr>\n",
       "            <td>Jaws                            </td> <td>Universal      </td> <td>260000000</td> <td>1138620700      </td> <td>1975</td>\n",
       "        </tr>\n",
       "        <tr>\n",
       "            <td>Doctor Zhivago                  </td> <td>MGM            </td> <td>111721910</td> <td>1103564200      </td> <td>1965</td>\n",
       "        </tr>\n",
       "        <tr>\n",
       "            <td>The Exorcist                    </td> <td>Warner Brothers</td> <td>232906145</td> <td>983226600       </td> <td>1973</td>\n",
       "        </tr>\n",
       "        <tr>\n",
       "            <td>Snow White and the Seven Dwarves</td> <td>Disney         </td> <td>184925486</td> <td>969010000       </td> <td>1937</td>\n",
       "        </tr>\n",
       "    </tbody>\n",
       "</table>\n",
       "<p>... (190 rows omitted)</p>"
      ],
      "text/plain": [
       "Title                            | Studio          | Gross     | Gross (Adjusted) | Year\n",
       "Gone with the Wind               | MGM             | 198676459 | 1796176700       | 1939\n",
       "Star Wars                        | Fox             | 460998007 | 1583483200       | 1977\n",
       "The Sound of Music               | Fox             | 158671368 | 1266072700       | 1965\n",
       "E.T.: The Extra-Terrestrial      | Universal       | 435110554 | 1261085000       | 1982\n",
       "Titanic                          | Paramount       | 658672302 | 1204368000       | 1997\n",
       "The Ten Commandments             | Paramount       | 65500000  | 1164590000       | 1956\n",
       "Jaws                             | Universal       | 260000000 | 1138620700       | 1975\n",
       "Doctor Zhivago                   | MGM             | 111721910 | 1103564200       | 1965\n",
       "The Exorcist                     | Warner Brothers | 232906145 | 983226600        | 1973\n",
       "Snow White and the Seven Dwarves | Disney          | 184925486 | 969010000        | 1937\n",
       "... (190 rows omitted)"
      ]
     },
     "execution_count": 16,
     "metadata": {},
     "output_type": "execute_result"
    }
   ],
   "source": [
    "top = Table.read_table('top_movies_2017.csv')\n",
    "top"
   ]
  },
  {
   "cell_type": "code",
   "execution_count": 18,
   "metadata": {},
   "outputs": [
    {
     "data": {
      "text/html": [
       "<table border=\"1\" class=\"dataframe\">\n",
       "    <thead>\n",
       "        <tr>\n",
       "            <th>Title</th> <th>Studio</th> <th>Gross</th> <th>Gross (Adjusted)</th> <th>Year</th> <th>Cut Off</th>\n",
       "        </tr>\n",
       "    </thead>\n",
       "    <tbody>\n",
       "        <tr>\n",
       "            <td>Gone with the Wind              </td> <td>MGM            </td> <td>198676459</td> <td>1796176700      </td> <td>1939</td> <td>1e+09      </td>\n",
       "        </tr>\n",
       "        <tr>\n",
       "            <td>Star Wars                       </td> <td>Fox            </td> <td>460998007</td> <td>1583483200      </td> <td>1977</td> <td>1e+09      </td>\n",
       "        </tr>\n",
       "        <tr>\n",
       "            <td>The Sound of Music              </td> <td>Fox            </td> <td>158671368</td> <td>1266072700      </td> <td>1965</td> <td>1e+09      </td>\n",
       "        </tr>\n",
       "        <tr>\n",
       "            <td>E.T.: The Extra-Terrestrial     </td> <td>Universal      </td> <td>435110554</td> <td>1261085000      </td> <td>1982</td> <td>1e+09      </td>\n",
       "        </tr>\n",
       "        <tr>\n",
       "            <td>Titanic                         </td> <td>Paramount      </td> <td>658672302</td> <td>1204368000      </td> <td>1997</td> <td>1e+09      </td>\n",
       "        </tr>\n",
       "        <tr>\n",
       "            <td>The Ten Commandments            </td> <td>Paramount      </td> <td>65500000 </td> <td>1164590000      </td> <td>1956</td> <td>1e+09      </td>\n",
       "        </tr>\n",
       "        <tr>\n",
       "            <td>Jaws                            </td> <td>Universal      </td> <td>260000000</td> <td>1138620700      </td> <td>1975</td> <td>1e+09      </td>\n",
       "        </tr>\n",
       "        <tr>\n",
       "            <td>Doctor Zhivago                  </td> <td>MGM            </td> <td>111721910</td> <td>1103564200      </td> <td>1965</td> <td>1e+09      </td>\n",
       "        </tr>\n",
       "        <tr>\n",
       "            <td>The Exorcist                    </td> <td>Warner Brothers</td> <td>232906145</td> <td>983226600       </td> <td>1973</td> <td>9.83227e+08</td>\n",
       "        </tr>\n",
       "        <tr>\n",
       "            <td>Snow White and the Seven Dwarves</td> <td>Disney         </td> <td>184925486</td> <td>969010000       </td> <td>1937</td> <td>9.6901e+08 </td>\n",
       "        </tr>\n",
       "    </tbody>\n",
       "</table>\n",
       "<p>... (190 rows omitted)</p>"
      ],
      "text/plain": [
       "Title                            | Studio          | Gross     | Gross (Adjusted) | Year | Cut Off\n",
       "Gone with the Wind               | MGM             | 198676459 | 1796176700       | 1939 | 1e+09\n",
       "Star Wars                        | Fox             | 460998007 | 1583483200       | 1977 | 1e+09\n",
       "The Sound of Music               | Fox             | 158671368 | 1266072700       | 1965 | 1e+09\n",
       "E.T.: The Extra-Terrestrial      | Universal       | 435110554 | 1261085000       | 1982 | 1e+09\n",
       "Titanic                          | Paramount       | 658672302 | 1204368000       | 1997 | 1e+09\n",
       "The Ten Commandments             | Paramount       | 65500000  | 1164590000       | 1956 | 1e+09\n",
       "Jaws                             | Universal       | 260000000 | 1138620700       | 1975 | 1e+09\n",
       "Doctor Zhivago                   | MGM             | 111721910 | 1103564200       | 1965 | 1e+09\n",
       "The Exorcist                     | Warner Brothers | 232906145 | 983226600        | 1973 | 9.83227e+08\n",
       "Snow White and the Seven Dwarves | Disney          | 184925486 | 969010000        | 1937 | 9.6901e+08\n",
       "... (190 rows omitted)"
      ]
     },
     "execution_count": 18,
     "metadata": {},
     "output_type": "execute_result"
    }
   ],
   "source": [
    "# one agrument function\n",
    "def cut_off_at_a_billion(x):\n",
    "    '''The smaller fo x and 1,000,000,000'''\n",
    "    return min(x,1e9)\n",
    "\n",
    "cut_off = top.apply(cut_off_at_a_billion, 'Gross (Adjusted)')\n",
    "top.with_column('Cut Off',cut_off)"
   ]
  },
  {
   "cell_type": "code",
   "execution_count": 19,
   "metadata": {},
   "outputs": [
    {
     "data": {
      "text/html": [
       "<table border=\"1\" class=\"dataframe\">\n",
       "    <thead>\n",
       "        <tr>\n",
       "            <th>Title</th> <th>Studio</th> <th>Gross</th> <th>Gross (Adjusted)</th> <th>Year</th> <th>Adjusted Difference</th>\n",
       "        </tr>\n",
       "    </thead>\n",
       "    <tbody>\n",
       "        <tr>\n",
       "            <td>Gone with the Wind              </td> <td>MGM            </td> <td>198676459</td> <td>1796176700      </td> <td>1939</td> <td>1597500241         </td>\n",
       "        </tr>\n",
       "        <tr>\n",
       "            <td>Star Wars                       </td> <td>Fox            </td> <td>460998007</td> <td>1583483200      </td> <td>1977</td> <td>1122485193         </td>\n",
       "        </tr>\n",
       "        <tr>\n",
       "            <td>The Sound of Music              </td> <td>Fox            </td> <td>158671368</td> <td>1266072700      </td> <td>1965</td> <td>1107401332         </td>\n",
       "        </tr>\n",
       "        <tr>\n",
       "            <td>E.T.: The Extra-Terrestrial     </td> <td>Universal      </td> <td>435110554</td> <td>1261085000      </td> <td>1982</td> <td>825974446          </td>\n",
       "        </tr>\n",
       "        <tr>\n",
       "            <td>Titanic                         </td> <td>Paramount      </td> <td>658672302</td> <td>1204368000      </td> <td>1997</td> <td>545695698          </td>\n",
       "        </tr>\n",
       "        <tr>\n",
       "            <td>The Ten Commandments            </td> <td>Paramount      </td> <td>65500000 </td> <td>1164590000      </td> <td>1956</td> <td>1099090000         </td>\n",
       "        </tr>\n",
       "        <tr>\n",
       "            <td>Jaws                            </td> <td>Universal      </td> <td>260000000</td> <td>1138620700      </td> <td>1975</td> <td>878620700          </td>\n",
       "        </tr>\n",
       "        <tr>\n",
       "            <td>Doctor Zhivago                  </td> <td>MGM            </td> <td>111721910</td> <td>1103564200      </td> <td>1965</td> <td>991842290          </td>\n",
       "        </tr>\n",
       "        <tr>\n",
       "            <td>The Exorcist                    </td> <td>Warner Brothers</td> <td>232906145</td> <td>983226600       </td> <td>1973</td> <td>750320455          </td>\n",
       "        </tr>\n",
       "        <tr>\n",
       "            <td>Snow White and the Seven Dwarves</td> <td>Disney         </td> <td>184925486</td> <td>969010000       </td> <td>1937</td> <td>784084514          </td>\n",
       "        </tr>\n",
       "    </tbody>\n",
       "</table>\n",
       "<p>... (190 rows omitted)</p>"
      ],
      "text/plain": [
       "Title                            | Studio          | Gross     | Gross (Adjusted) | Year | Adjusted Difference\n",
       "Gone with the Wind               | MGM             | 198676459 | 1796176700       | 1939 | 1597500241\n",
       "Star Wars                        | Fox             | 460998007 | 1583483200       | 1977 | 1122485193\n",
       "The Sound of Music               | Fox             | 158671368 | 1266072700       | 1965 | 1107401332\n",
       "E.T.: The Extra-Terrestrial      | Universal       | 435110554 | 1261085000       | 1982 | 825974446\n",
       "Titanic                          | Paramount       | 658672302 | 1204368000       | 1997 | 545695698\n",
       "The Ten Commandments             | Paramount       | 65500000  | 1164590000       | 1956 | 1099090000\n",
       "Jaws                             | Universal       | 260000000 | 1138620700       | 1975 | 878620700\n",
       "Doctor Zhivago                   | MGM             | 111721910 | 1103564200       | 1965 | 991842290\n",
       "The Exorcist                     | Warner Brothers | 232906145 | 983226600        | 1973 | 750320455\n",
       "Snow White and the Seven Dwarves | Disney          | 184925486 | 969010000        | 1937 | 784084514\n",
       "... (190 rows omitted)"
      ]
     },
     "execution_count": 19,
     "metadata": {},
     "output_type": "execute_result"
    }
   ],
   "source": [
    "# two agrument function\n",
    "def gross_adjusted_difference(x,y):\n",
    "    '''The difference between gross adjusted and gross'''\n",
    "    return x - y\n",
    "\n",
    "diff = top.apply(gross_adjusted_difference, 'Gross (Adjusted)', 'Gross')\n",
    "top.with_column('Adjusted Difference',diff)"
   ]
  },
  {
   "cell_type": "markdown",
   "metadata": {},
   "source": [
    "# Group"
   ]
  },
  {
   "cell_type": "code",
   "execution_count": 30,
   "metadata": {},
   "outputs": [
    {
     "data": {
      "text/html": [
       "<table border=\"1\" class=\"dataframe\">\n",
       "    <thead>\n",
       "        <tr>\n",
       "            <th>Flavor</th> <th>Price</th>\n",
       "        </tr>\n",
       "    </thead>\n",
       "    <tbody>\n",
       "        <tr>\n",
       "            <td>strawberry</td> <td>3.55 </td>\n",
       "        </tr>\n",
       "        <tr>\n",
       "            <td>chocolate </td> <td>4.75 </td>\n",
       "        </tr>\n",
       "        <tr>\n",
       "            <td>chocolate </td> <td>5.25 </td>\n",
       "        </tr>\n",
       "        <tr>\n",
       "            <td>strawberry</td> <td>5.25 </td>\n",
       "        </tr>\n",
       "        <tr>\n",
       "            <td>chocolate </td> <td>5.25 </td>\n",
       "        </tr>\n",
       "    </tbody>\n",
       "</table>"
      ],
      "text/plain": [
       "Flavor     | Price\n",
       "strawberry | 3.55\n",
       "chocolate  | 4.75\n",
       "chocolate  | 5.25\n",
       "strawberry | 5.25\n",
       "chocolate  | 5.25"
      ]
     },
     "execution_count": 30,
     "metadata": {},
     "output_type": "execute_result"
    }
   ],
   "source": [
    "all_cones = Table.read_table('cones.csv')\n",
    "cones = all_cones.drop('Color').exclude(5)\n",
    "cones"
   ]
  },
  {
   "cell_type": "code",
   "execution_count": 31,
   "metadata": {},
   "outputs": [
    {
     "data": {
      "text/html": [
       "<table border=\"1\" class=\"dataframe\">\n",
       "    <thead>\n",
       "        <tr>\n",
       "            <th>Flavor</th> <th>count</th>\n",
       "        </tr>\n",
       "    </thead>\n",
       "    <tbody>\n",
       "        <tr>\n",
       "            <td>chocolate </td> <td>3    </td>\n",
       "        </tr>\n",
       "        <tr>\n",
       "            <td>strawberry</td> <td>2    </td>\n",
       "        </tr>\n",
       "    </tbody>\n",
       "</table>"
      ],
      "text/plain": [
       "Flavor     | count\n",
       "chocolate  | 3\n",
       "strawberry | 2"
      ]
     },
     "execution_count": 31,
     "metadata": {},
     "output_type": "execute_result"
    }
   ],
   "source": [
    "cones.group('Flavor')"
   ]
  },
  {
   "cell_type": "code",
   "execution_count": 32,
   "metadata": {},
   "outputs": [
    {
     "data": {
      "text/html": [
       "<table border=\"1\" class=\"dataframe\">\n",
       "    <thead>\n",
       "        <tr>\n",
       "            <th>Flavor</th> <th>Price sum</th>\n",
       "        </tr>\n",
       "    </thead>\n",
       "    <tbody>\n",
       "        <tr>\n",
       "            <td>chocolate </td> <td>15.25    </td>\n",
       "        </tr>\n",
       "        <tr>\n",
       "            <td>strawberry</td> <td>8.8      </td>\n",
       "        </tr>\n",
       "    </tbody>\n",
       "</table>"
      ],
      "text/plain": [
       "Flavor     | Price sum\n",
       "chocolate  | 15.25\n",
       "strawberry | 8.8"
      ]
     },
     "execution_count": 32,
     "metadata": {},
     "output_type": "execute_result"
    }
   ],
   "source": [
    "cones.group('Flavor', sum)"
   ]
  },
  {
   "cell_type": "code",
   "execution_count": 33,
   "metadata": {},
   "outputs": [
    {
     "data": {
      "text/html": [
       "<table border=\"1\" class=\"dataframe\">\n",
       "    <thead>\n",
       "        <tr>\n",
       "            <th>Studio</th> <th>Title sum</th> <th>Gross sum</th> <th>Gross (Adjusted) sum</th> <th>Year sum</th>\n",
       "        </tr>\n",
       "    </thead>\n",
       "    <tbody>\n",
       "        <tr>\n",
       "            <td>AVCO       </td> <td>         </td> <td>104945305  </td> <td>760778000           </td> <td>1967    </td>\n",
       "        </tr>\n",
       "        <tr>\n",
       "            <td>Buena Vista</td> <td>         </td> <td>12370356892</td> <td>15986095561         </td> <td>70204   </td>\n",
       "        </tr>\n",
       "        <tr>\n",
       "            <td>Columbia   </td> <td>         </td> <td>860425219  </td> <td>4126215300          </td> <td>17730   </td>\n",
       "        </tr>\n",
       "        <tr>\n",
       "            <td>Disney     </td> <td>         </td> <td>1100688229 </td> <td>7106396400          </td> <td>21487   </td>\n",
       "        </tr>\n",
       "        <tr>\n",
       "            <td>Dreamworks </td> <td>         </td> <td>925432167  </td> <td>1458747900          </td> <td>6003    </td>\n",
       "        </tr>\n",
       "        <tr>\n",
       "            <td>Fox        </td> <td>         </td> <td>5569320061 </td> <td>14944310800         </td> <td>47607   </td>\n",
       "        </tr>\n",
       "        <tr>\n",
       "            <td>IFC        </td> <td>         </td> <td>241438208  </td> <td>368219200           </td> <td>2002    </td>\n",
       "        </tr>\n",
       "        <tr>\n",
       "            <td>Lionsgate  </td> <td>         </td> <td>1169814624 </td> <td>1268645700          </td> <td>6039    </td>\n",
       "        </tr>\n",
       "        <tr>\n",
       "            <td>MGM        </td> <td>         </td> <td>704168476  </td> <td>5517613900          </td> <td>13743   </td>\n",
       "        </tr>\n",
       "        <tr>\n",
       "            <td>Metro      </td> <td>         </td> <td>9183673    </td> <td>408214300           </td> <td>1921    </td>\n",
       "        </tr>\n",
       "    </tbody>\n",
       "</table>\n",
       "<p>... (13 rows omitted)</p>"
      ],
      "text/plain": [
       "Studio      | Title sum | Gross sum   | Gross (Adjusted) sum | Year sum\n",
       "AVCO        |           | 104945305   | 760778000            | 1967\n",
       "Buena Vista |           | 12370356892 | 15986095561          | 70204\n",
       "Columbia    |           | 860425219   | 4126215300           | 17730\n",
       "Disney      |           | 1100688229  | 7106396400           | 21487\n",
       "Dreamworks  |           | 925432167   | 1458747900           | 6003\n",
       "Fox         |           | 5569320061  | 14944310800          | 47607\n",
       "IFC         |           | 241438208   | 368219200            | 2002\n",
       "Lionsgate   |           | 1169814624  | 1268645700           | 6039\n",
       "MGM         |           | 704168476   | 5517613900           | 13743\n",
       "Metro       |           | 9183673     | 408214300            | 1921\n",
       "... (13 rows omitted)"
      ]
     },
     "execution_count": 33,
     "metadata": {},
     "output_type": "execute_result"
    }
   ],
   "source": [
    "# what if you have more than one column?\n",
    "top.group('Studio',sum)"
   ]
  },
  {
   "cell_type": "code",
   "execution_count": 35,
   "metadata": {},
   "outputs": [
    {
     "data": {
      "text/html": [
       "<table border=\"1\" class=\"dataframe\">\n",
       "    <thead>\n",
       "        <tr>\n",
       "            <th>Year</th> <th>Title sum</th> <th>Studio sum</th> <th>Gross sum</th> <th>Gross (Adjusted) sum</th>\n",
       "        </tr>\n",
       "    </thead>\n",
       "    <tbody>\n",
       "        <tr>\n",
       "            <td>1921</td> <td>         </td> <td>          </td> <td>9183673  </td> <td>408214300           </td>\n",
       "        </tr>\n",
       "        <tr>\n",
       "            <td>1937</td> <td>         </td> <td>          </td> <td>184925486</td> <td>969010000           </td>\n",
       "        </tr>\n",
       "        <tr>\n",
       "            <td>1939</td> <td>         </td> <td>          </td> <td>198676459</td> <td>1796176700          </td>\n",
       "        </tr>\n",
       "        <tr>\n",
       "            <td>1940</td> <td>         </td> <td>          </td> <td>84254167 </td> <td>599215600           </td>\n",
       "        </tr>\n",
       "        <tr>\n",
       "            <td>1941</td> <td>         </td> <td>          </td> <td>92769982 </td> <td>1166071700          </td>\n",
       "        </tr>\n",
       "        <tr>\n",
       "            <td>1942</td> <td>         </td> <td>          </td> <td>102247150</td> <td>566403700           </td>\n",
       "        </tr>\n",
       "        <tr>\n",
       "            <td>1945</td> <td>         </td> <td>          </td> <td>21333333 </td> <td>557803900           </td>\n",
       "        </tr>\n",
       "        <tr>\n",
       "            <td>1946</td> <td>         </td> <td>          </td> <td>44058163 </td> <td>942521400           </td>\n",
       "        </tr>\n",
       "        <tr>\n",
       "            <td>1950</td> <td>         </td> <td>          </td> <td>93141149 </td> <td>536079700           </td>\n",
       "        </tr>\n",
       "        <tr>\n",
       "            <td>1952</td> <td>         </td> <td>          </td> <td>36000000 </td> <td>533400000           </td>\n",
       "        </tr>\n",
       "    </tbody>\n",
       "</table>\n",
       "<p>... (62 rows omitted)</p>"
      ],
      "text/plain": [
       "Year | Title sum | Studio sum | Gross sum | Gross (Adjusted) sum\n",
       "1921 |           |            | 9183673   | 408214300\n",
       "1937 |           |            | 184925486 | 969010000\n",
       "1939 |           |            | 198676459 | 1796176700\n",
       "1940 |           |            | 84254167  | 599215600\n",
       "1941 |           |            | 92769982  | 1166071700\n",
       "1942 |           |            | 102247150 | 566403700\n",
       "1945 |           |            | 21333333  | 557803900\n",
       "1946 |           |            | 44058163  | 942521400\n",
       "1950 |           |            | 93141149  | 536079700\n",
       "1952 |           |            | 36000000  | 533400000\n",
       "... (62 rows omitted)"
      ]
     },
     "execution_count": 35,
     "metadata": {},
     "output_type": "execute_result"
    }
   ],
   "source": [
    "top.group('Year',sum)"
   ]
  },
  {
   "cell_type": "code",
   "execution_count": 34,
   "metadata": {},
   "outputs": [
    {
     "data": {
      "text/html": [
       "<table border=\"1\" class=\"dataframe\">\n",
       "    <thead>\n",
       "        <tr>\n",
       "            <th>Flavor</th> <th>Price list</th>\n",
       "        </tr>\n",
       "    </thead>\n",
       "    <tbody>\n",
       "        <tr>\n",
       "            <td>chocolate </td> <td>[4.75, 5.25, 5.25]</td>\n",
       "        </tr>\n",
       "        <tr>\n",
       "            <td>strawberry</td> <td>[3.55, 5.25]      </td>\n",
       "        </tr>\n",
       "    </tbody>\n",
       "</table>"
      ],
      "text/plain": [
       "Flavor     | Price list\n",
       "chocolate  | [4.75, 5.25, 5.25]\n",
       "strawberry | [3.55, 5.25]"
      ]
     },
     "execution_count": 34,
     "metadata": {},
     "output_type": "execute_result"
    }
   ],
   "source": [
    "cones.group('Flavor', list)"
   ]
  },
  {
   "cell_type": "code",
   "execution_count": 48,
   "metadata": {},
   "outputs": [
    {
     "data": {
      "text/html": [
       "<table border=\"1\" class=\"dataframe\">\n",
       "    <thead>\n",
       "        <tr>\n",
       "            <th>Flavor</th> <th>Price sum</th>\n",
       "        </tr>\n",
       "    </thead>\n",
       "    <tbody>\n",
       "        <tr>\n",
       "            <td>chocolate</td> <td>15.25    </td>\n",
       "        </tr>\n",
       "        <tr>\n",
       "            <td>strawbery</td> <td>8.8      </td>\n",
       "        </tr>\n",
       "    </tbody>\n",
       "</table>"
      ],
      "text/plain": [
       "Flavor    | Price sum\n",
       "chocolate | 15.25\n",
       "strawbery | 8.8"
      ]
     },
     "execution_count": 48,
     "metadata": {},
     "output_type": "execute_result"
    }
   ],
   "source": [
    "# can do the same thing with where -- but so much harder!\n",
    "row1 = cones.where('Flavor','chocolate').column('Price').sum()\n",
    "row2 = cones.where('Flavor','strawberry').column('Price').sum()\n",
    "\n",
    "Table().with_columns('Flavor',['chocolate','strawbery'],'Price sum',[row1,row2])"
   ]
  },
  {
   "cell_type": "code",
   "execution_count": 49,
   "metadata": {},
   "outputs": [
    {
     "data": {
      "text/html": [
       "<table border=\"1\" class=\"dataframe\">\n",
       "    <thead>\n",
       "        <tr>\n",
       "            <th>Flavor</th> <th>Price mean</th>\n",
       "        </tr>\n",
       "    </thead>\n",
       "    <tbody>\n",
       "        <tr>\n",
       "            <td>chocolate </td> <td>5.08333   </td>\n",
       "        </tr>\n",
       "        <tr>\n",
       "            <td>strawberry</td> <td>4.4       </td>\n",
       "        </tr>\n",
       "    </tbody>\n",
       "</table>"
      ],
      "text/plain": [
       "Flavor     | Price mean\n",
       "chocolate  | 5.08333\n",
       "strawberry | 4.4"
      ]
     },
     "execution_count": 49,
     "metadata": {},
     "output_type": "execute_result"
    }
   ],
   "source": [
    "cones.group('Flavor', np.mean)"
   ]
  },
  {
   "cell_type": "code",
   "execution_count": 50,
   "metadata": {},
   "outputs": [
    {
     "data": {
      "text/html": [
       "<table border=\"1\" class=\"dataframe\">\n",
       "    <thead>\n",
       "        <tr>\n",
       "            <th>Flavor</th> <th>Price amax</th>\n",
       "        </tr>\n",
       "    </thead>\n",
       "    <tbody>\n",
       "        <tr>\n",
       "            <td>chocolate </td> <td>5.25      </td>\n",
       "        </tr>\n",
       "        <tr>\n",
       "            <td>strawberry</td> <td>5.25      </td>\n",
       "        </tr>\n",
       "    </tbody>\n",
       "</table>"
      ],
      "text/plain": [
       "Flavor     | Price amax\n",
       "chocolate  | 5.25\n",
       "strawberry | 5.25"
      ]
     },
     "execution_count": 50,
     "metadata": {},
     "output_type": "execute_result"
    }
   ],
   "source": [
    "# can actually do this w/ any function that takes in an array and returns a single number!\n",
    "cones.group('Flavor', np.max)\n",
    "\n",
    "# could even write your own functions, gives a lot of flexability"
   ]
  },
  {
   "cell_type": "code",
   "execution_count": 56,
   "metadata": {},
   "outputs": [],
   "source": [
    "nba = Table.read_table('nba_salaries.csv')\n",
    "nba = nba.relabeled(\"'15-'16 SALARY\",\"SALARY\")"
   ]
  },
  {
   "cell_type": "code",
   "execution_count": 96,
   "metadata": {},
   "outputs": [
    {
     "data": {
      "text/plain": [
       "array(['Atlanta Hawks', 'Boston Celtics', 'Brooklyn Nets',\n",
       "       'Charlotte Hornets', 'Chicago Bulls', 'Cleveland Cavaliers',\n",
       "       'Dallas Mavericks', 'Denver Nuggets', 'Detroit Pistons',\n",
       "       'Golden State Warriors', 'Houston Rockets', 'Indiana Pacers',\n",
       "       'Los Angeles Clippers', 'Los Angeles Lakers', 'Memphis Grizzlies',\n",
       "       'Miami Heat', 'Milwaukee Bucks', 'Minnesota Timberwolves',\n",
       "       'New Orleans Pelicans', 'New York Knicks', 'Oklahoma City Thunder',\n",
       "       'Orlando Magic', 'Philadelphia 76ers', 'Phoenix Suns',\n",
       "       'Portland Trail Blazers', 'Sacramento Kings', 'San Antonio Spurs',\n",
       "       'Toronto Raptors', 'Utah Jazz', 'Washington Wizards'], dtype='<U22')"
      ]
     },
     "execution_count": 96,
     "metadata": {},
     "output_type": "execute_result"
    }
   ],
   "source": [
    "np.unique(nba.column('TEAM'))"
   ]
  },
  {
   "cell_type": "code",
   "execution_count": 57,
   "metadata": {},
   "outputs": [
    {
     "data": {
      "text/html": [
       "<table border=\"1\" class=\"dataframe\">\n",
       "    <thead>\n",
       "        <tr>\n",
       "            <th>TEAM</th> <th>PLAYER sum</th> <th>POSITION sum</th> <th>SALARY sum</th>\n",
       "        </tr>\n",
       "    </thead>\n",
       "    <tbody>\n",
       "        <tr>\n",
       "            <td>Atlanta Hawks        </td> <td>          </td> <td>            </td> <td>69.5731   </td>\n",
       "        </tr>\n",
       "        <tr>\n",
       "            <td>Boston Celtics       </td> <td>          </td> <td>            </td> <td>50.2855   </td>\n",
       "        </tr>\n",
       "        <tr>\n",
       "            <td>Brooklyn Nets        </td> <td>          </td> <td>            </td> <td>57.307    </td>\n",
       "        </tr>\n",
       "        <tr>\n",
       "            <td>Charlotte Hornets    </td> <td>          </td> <td>            </td> <td>84.1024   </td>\n",
       "        </tr>\n",
       "        <tr>\n",
       "            <td>Chicago Bulls        </td> <td>          </td> <td>            </td> <td>78.8209   </td>\n",
       "        </tr>\n",
       "        <tr>\n",
       "            <td>Cleveland Cavaliers  </td> <td>          </td> <td>            </td> <td>102.312   </td>\n",
       "        </tr>\n",
       "        <tr>\n",
       "            <td>Dallas Mavericks     </td> <td>          </td> <td>            </td> <td>65.7626   </td>\n",
       "        </tr>\n",
       "        <tr>\n",
       "            <td>Denver Nuggets       </td> <td>          </td> <td>            </td> <td>62.4294   </td>\n",
       "        </tr>\n",
       "        <tr>\n",
       "            <td>Detroit Pistons      </td> <td>          </td> <td>            </td> <td>42.2118   </td>\n",
       "        </tr>\n",
       "        <tr>\n",
       "            <td>Golden State Warriors</td> <td>          </td> <td>            </td> <td>94.0851   </td>\n",
       "        </tr>\n",
       "    </tbody>\n",
       "</table>\n",
       "<p>... (20 rows omitted)</p>"
      ],
      "text/plain": [
       "TEAM                  | PLAYER sum | POSITION sum | SALARY sum\n",
       "Atlanta Hawks         |            |              | 69.5731\n",
       "Boston Celtics        |            |              | 50.2855\n",
       "Brooklyn Nets         |            |              | 57.307\n",
       "Charlotte Hornets     |            |              | 84.1024\n",
       "Chicago Bulls         |            |              | 78.8209\n",
       "Cleveland Cavaliers   |            |              | 102.312\n",
       "Dallas Mavericks      |            |              | 65.7626\n",
       "Denver Nuggets        |            |              | 62.4294\n",
       "Detroit Pistons       |            |              | 42.2118\n",
       "Golden State Warriors |            |              | 94.0851\n",
       "... (20 rows omitted)"
      ]
     },
     "execution_count": 57,
     "metadata": {},
     "output_type": "execute_result"
    }
   ],
   "source": [
    "nba.group('TEAM',sum)"
   ]
  },
  {
   "cell_type": "code",
   "execution_count": 61,
   "metadata": {},
   "outputs": [
    {
     "data": {
      "text/html": [
       "<table border=\"1\" class=\"dataframe\">\n",
       "    <thead>\n",
       "        <tr>\n",
       "            <th>TEAM</th> <th>SALARY sum</th>\n",
       "        </tr>\n",
       "    </thead>\n",
       "    <tbody>\n",
       "        <tr>\n",
       "            <td>Atlanta Hawks        </td> <td>69.5731   </td>\n",
       "        </tr>\n",
       "        <tr>\n",
       "            <td>Boston Celtics       </td> <td>50.2855   </td>\n",
       "        </tr>\n",
       "        <tr>\n",
       "            <td>Brooklyn Nets        </td> <td>57.307    </td>\n",
       "        </tr>\n",
       "        <tr>\n",
       "            <td>Charlotte Hornets    </td> <td>84.1024   </td>\n",
       "        </tr>\n",
       "        <tr>\n",
       "            <td>Chicago Bulls        </td> <td>78.8209   </td>\n",
       "        </tr>\n",
       "        <tr>\n",
       "            <td>Cleveland Cavaliers  </td> <td>102.312   </td>\n",
       "        </tr>\n",
       "        <tr>\n",
       "            <td>Dallas Mavericks     </td> <td>65.7626   </td>\n",
       "        </tr>\n",
       "        <tr>\n",
       "            <td>Denver Nuggets       </td> <td>62.4294   </td>\n",
       "        </tr>\n",
       "        <tr>\n",
       "            <td>Detroit Pistons      </td> <td>42.2118   </td>\n",
       "        </tr>\n",
       "        <tr>\n",
       "            <td>Golden State Warriors</td> <td>94.0851   </td>\n",
       "        </tr>\n",
       "    </tbody>\n",
       "</table>\n",
       "<p>... (20 rows omitted)</p>"
      ],
      "text/plain": [
       "TEAM                  | SALARY sum\n",
       "Atlanta Hawks         | 69.5731\n",
       "Boston Celtics        | 50.2855\n",
       "Brooklyn Nets         | 57.307\n",
       "Charlotte Hornets     | 84.1024\n",
       "Chicago Bulls         | 78.8209\n",
       "Cleveland Cavaliers   | 102.312\n",
       "Dallas Mavericks      | 65.7626\n",
       "Denver Nuggets        | 62.4294\n",
       "Detroit Pistons       | 42.2118\n",
       "Golden State Warriors | 94.0851\n",
       "... (20 rows omitted)"
      ]
     },
     "execution_count": 61,
     "metadata": {},
     "output_type": "execute_result"
    }
   ],
   "source": [
    "nba.select('TEAM','SALARY').group('TEAM',sum)"
   ]
  },
  {
   "cell_type": "code",
   "execution_count": 62,
   "metadata": {},
   "outputs": [
    {
     "data": {
      "image/png": "[encoded data removed]",
      "text/plain": [
       "<Figure size 432x1080 with 1 Axes>"
      ]
     },
     "metadata": {
      "needs_background": "light"
     },
     "output_type": "display_data"
    }
   ],
   "source": [
    "nba.select('TEAM','SALARY').group('TEAM',sum).barh('TEAM')"
   ]
  },
  {
   "cell_type": "code",
   "execution_count": 63,
   "metadata": {},
   "outputs": [
    {
     "data": {
      "image/png": "[encoded data removed]",
      "text/plain": [
       "<Figure size 432x1080 with 1 Axes>"
      ]
     },
     "metadata": {
      "needs_background": "light"
     },
     "output_type": "display_data"
    }
   ],
   "source": [
    "(nba.select('TEAM','SALARY')\n",
    " .group('TEAM',sum)\n",
    " .sort(1,descending=True)\n",
    " .barh('TEAM'))"
   ]
  },
  {
   "cell_type": "code",
   "execution_count": 67,
   "metadata": {},
   "outputs": [
    {
     "data": {
      "image/png": "[encoded data removed]",
      "text/plain": [
       "<Figure size 432x288 with 1 Axes>"
      ]
     },
     "metadata": {
      "needs_background": "light"
     },
     "output_type": "display_data"
    }
   ],
   "source": [
    "# could also group by position!\n",
    "(nba.select('POSITION','SALARY')\n",
    " .group('POSITION',sum)\n",
    " .sort(1,descending=True)\n",
    " .barh('POSITION'))\n",
    "\n",
    "# but sum is maybe weird"
   ]
  },
  {
   "cell_type": "code",
   "execution_count": 68,
   "metadata": {},
   "outputs": [
    {
     "data": {
      "image/png": "[encoded data removed]",
      "text/plain": [
       "<Figure size 432x288 with 1 Axes>"
      ]
     },
     "metadata": {
      "needs_background": "light"
     },
     "output_type": "display_data"
    }
   ],
   "source": [
    "(nba.select('POSITION','SALARY')\n",
    " .group('POSITION',np.mean)\n",
    " .sort(1,descending=True)\n",
    " .barh('POSITION'))"
   ]
  },
  {
   "cell_type": "code",
   "execution_count": 77,
   "metadata": {},
   "outputs": [
    {
     "data": {
      "image/png": "[encoded data removed]",
      "text/plain": [
       "<Figure size 432x360 with 1 Axes>"
      ]
     },
     "metadata": {
      "needs_background": "light"
     },
     "output_type": "display_data"
    }
   ],
   "source": [
    "# Discussion: assume that the players that make the most in every position are the starters\n",
    "# for each team\n",
    "starters = nba.select('TEAM','POSITION','SALARY').group(make_array('TEAM','POSITION'), max)\n",
    "\n",
    "# how do I find out which team pays the most money for their starters?\n",
    "(starters.select('TEAM','SALARY max')\n",
    " .group('TEAM',sum)\n",
    " .sort(1, descending=True)\n",
    " .take(np.arange(10)).barh(0))"
   ]
  },
  {
   "cell_type": "markdown",
   "metadata": {},
   "source": [
    "# Pivot"
   ]
  },
  {
   "cell_type": "code",
   "execution_count": 91,
   "metadata": {},
   "outputs": [
    {
     "data": {
      "text/html": [
       "<table border=\"1\" class=\"dataframe\">\n",
       "    <thead>\n",
       "        <tr>\n",
       "            <th>TEAM</th> <th>POSITION</th> <th>SALARY</th>\n",
       "        </tr>\n",
       "    </thead>\n",
       "    <tbody>\n",
       "        <tr>\n",
       "            <td>Atlanta Hawks</td> <td>PF      </td> <td>18.6717</td>\n",
       "        </tr>\n",
       "        <tr>\n",
       "            <td>Atlanta Hawks</td> <td>C       </td> <td>12     </td>\n",
       "        </tr>\n",
       "        <tr>\n",
       "            <td>Atlanta Hawks</td> <td>C       </td> <td>9.75625</td>\n",
       "        </tr>\n",
       "        <tr>\n",
       "            <td>Atlanta Hawks</td> <td>PG      </td> <td>8      </td>\n",
       "        </tr>\n",
       "        <tr>\n",
       "            <td>Atlanta Hawks</td> <td>SG      </td> <td>5.74648</td>\n",
       "        </tr>\n",
       "        <tr>\n",
       "            <td>Atlanta Hawks</td> <td>SF      </td> <td>4      </td>\n",
       "        </tr>\n",
       "        <tr>\n",
       "            <td>Atlanta Hawks</td> <td>PF      </td> <td>3.33333</td>\n",
       "        </tr>\n",
       "        <tr>\n",
       "            <td>Atlanta Hawks</td> <td>SF      </td> <td>2      </td>\n",
       "        </tr>\n",
       "        <tr>\n",
       "            <td>Atlanta Hawks</td> <td>PG      </td> <td>1.7634 </td>\n",
       "        </tr>\n",
       "        <tr>\n",
       "            <td>Atlanta Hawks</td> <td>SG      </td> <td>1.30452</td>\n",
       "        </tr>\n",
       "    </tbody>\n",
       "</table>\n",
       "<p>... (407 rows omitted)</p>"
      ],
      "text/plain": [
       "TEAM          | POSITION | SALARY\n",
       "Atlanta Hawks | PF       | 18.6717\n",
       "Atlanta Hawks | C        | 12\n",
       "Atlanta Hawks | C        | 9.75625\n",
       "Atlanta Hawks | PG       | 8\n",
       "Atlanta Hawks | SG       | 5.74648\n",
       "Atlanta Hawks | SF       | 4\n",
       "Atlanta Hawks | PF       | 3.33333\n",
       "Atlanta Hawks | SF       | 2\n",
       "Atlanta Hawks | PG       | 1.7634\n",
       "Atlanta Hawks | SG       | 1.30452\n",
       "... (407 rows omitted)"
      ]
     },
     "execution_count": 91,
     "metadata": {},
     "output_type": "execute_result"
    }
   ],
   "source": [
    "team_position_salaries = nba.select('TEAM','POSITION','SALARY')\n",
    "team_position_salaries"
   ]
  },
  {
   "cell_type": "code",
   "execution_count": 95,
   "metadata": {},
   "outputs": [
    {
     "data": {
      "text/html": [
       "<table border=\"1\" class=\"dataframe\">\n",
       "    <thead>\n",
       "        <tr>\n",
       "            <th>TEAM</th> <th>C</th> <th>PF</th> <th>PG</th> <th>SF</th> <th>SG</th>\n",
       "        </tr>\n",
       "    </thead>\n",
       "    <tbody>\n",
       "        <tr>\n",
       "            <td>Atlanta Hawks        </td> <td>3   </td> <td>2   </td> <td>2   </td> <td>2   </td> <td>5   </td>\n",
       "        </tr>\n",
       "        <tr>\n",
       "            <td>Boston Celtics       </td> <td>3   </td> <td>2   </td> <td>4   </td> <td>2   </td> <td>4   </td>\n",
       "        </tr>\n",
       "        <tr>\n",
       "            <td>Brooklyn Nets        </td> <td>1   </td> <td>3   </td> <td>2   </td> <td>2   </td> <td>5   </td>\n",
       "        </tr>\n",
       "        <tr>\n",
       "            <td>Charlotte Hornets    </td> <td>3   </td> <td>3   </td> <td>4   </td> <td>2   </td> <td>6   </td>\n",
       "        </tr>\n",
       "        <tr>\n",
       "            <td>Chicago Bulls        </td> <td>2   </td> <td>2   </td> <td>2   </td> <td>2   </td> <td>4   </td>\n",
       "        </tr>\n",
       "        <tr>\n",
       "            <td>Cleveland Cavaliers  </td> <td>4   </td> <td>1   </td> <td>3   </td> <td>1   </td> <td>1   </td>\n",
       "        </tr>\n",
       "        <tr>\n",
       "            <td>Dallas Mavericks     </td> <td>2   </td> <td>2   </td> <td>4   </td> <td>1   </td> <td>2   </td>\n",
       "        </tr>\n",
       "        <tr>\n",
       "            <td>Denver Nuggets       </td> <td>4   </td> <td>2   </td> <td>2   </td> <td>4   </td> <td>2   </td>\n",
       "        </tr>\n",
       "        <tr>\n",
       "            <td>Detroit Pistons      </td> <td>3   </td> <td>0   </td> <td>1   </td> <td>4   </td> <td>2   </td>\n",
       "        </tr>\n",
       "        <tr>\n",
       "            <td>Golden State Warriors</td> <td>3   </td> <td>3   </td> <td>2   </td> <td>4   </td> <td>2   </td>\n",
       "        </tr>\n",
       "    </tbody>\n",
       "</table>\n",
       "<p>... (20 rows omitted)</p>"
      ],
      "text/plain": [
       "TEAM                  | C    | PF   | PG   | SF   | SG\n",
       "Atlanta Hawks         | 3    | 2    | 2    | 2    | 5\n",
       "Boston Celtics        | 3    | 2    | 4    | 2    | 4\n",
       "Brooklyn Nets         | 1    | 3    | 2    | 2    | 5\n",
       "Charlotte Hornets     | 3    | 3    | 4    | 2    | 6\n",
       "Chicago Bulls         | 2    | 2    | 2    | 2    | 4\n",
       "Cleveland Cavaliers   | 4    | 1    | 3    | 1    | 1\n",
       "Dallas Mavericks      | 2    | 2    | 4    | 1    | 2\n",
       "Denver Nuggets        | 4    | 2    | 2    | 4    | 2\n",
       "Detroit Pistons       | 3    | 0    | 1    | 4    | 2\n",
       "Golden State Warriors | 3    | 3    | 2    | 4    | 2\n",
       "... (20 rows omitted)"
      ]
     },
     "execution_count": 95,
     "metadata": {},
     "output_type": "execute_result"
    }
   ],
   "source": [
    "team_position_salaries.pivot('POSITION','TEAM')"
   ]
  },
  {
   "cell_type": "code",
   "execution_count": 93,
   "metadata": {},
   "outputs": [
    {
     "data": {
      "text/html": [
       "<table border=\"1\" class=\"dataframe\">\n",
       "    <thead>\n",
       "        <tr>\n",
       "            <th>TEAM</th> <th>C</th> <th>PF</th> <th>PG</th> <th>SF</th> <th>SG</th>\n",
       "        </tr>\n",
       "    </thead>\n",
       "    <tbody>\n",
       "        <tr>\n",
       "            <td>Atlanta Hawks        </td> <td>22.7563</td> <td>22.005 </td> <td>9.7634 </td> <td>6      </td> <td>9.04846</td>\n",
       "        </tr>\n",
       "        <tr>\n",
       "            <td>Boston Celtics       </td> <td>7.3514 </td> <td>6.17096</td> <td>19.8986</td> <td>8.83432</td> <td>8.03022</td>\n",
       "        </tr>\n",
       "        <tr>\n",
       "            <td>Brooklyn Nets        </td> <td>1.3629 </td> <td>13.3575</td> <td>7.8    </td> <td>26.0806</td> <td>8.70589</td>\n",
       "        </tr>\n",
       "        <tr>\n",
       "            <td>Charlotte Hornets    </td> <td>20.3167</td> <td>14.0573</td> <td>17.9412</td> <td>7.53284</td> <td>24.2543</td>\n",
       "        </tr>\n",
       "        <tr>\n",
       "            <td>Chicago Bulls        </td> <td>20.8488</td> <td>6.93489</td> <td>22.3431</td> <td>3.91632</td> <td>24.7779</td>\n",
       "        </tr>\n",
       "        <tr>\n",
       "            <td>Cleveland Cavaliers  </td> <td>31.0094</td> <td>19.689 </td> <td>19.6548</td> <td>22.9705</td> <td>8.98876</td>\n",
       "        </tr>\n",
       "        <tr>\n",
       "            <td>Dallas Mavericks     </td> <td>6.47096</td> <td>23.827 </td> <td>17.6727</td> <td>15.3615</td> <td>2.43035</td>\n",
       "        </tr>\n",
       "        <tr>\n",
       "            <td>Denver Nuggets       </td> <td>10.4652</td> <td>14.05  </td> <td>7.44724</td> <td>28.7831</td> <td>1.6839 </td>\n",
       "        </tr>\n",
       "        <tr>\n",
       "            <td>Detroit Pistons      </td> <td>12.2721</td> <td>0      </td> <td>13.913 </td> <td>6.86486</td> <td>9.16176</td>\n",
       "        </tr>\n",
       "        <tr>\n",
       "            <td>Golden State Warriors</td> <td>19.6237</td> <td>21.5591</td> <td>16.9145</td> <td>17.9868</td> <td>18.001 </td>\n",
       "        </tr>\n",
       "    </tbody>\n",
       "</table>\n",
       "<p>... (20 rows omitted)</p>"
      ],
      "text/plain": [
       "TEAM                  | C       | PF      | PG      | SF      | SG\n",
       "Atlanta Hawks         | 22.7563 | 22.005  | 9.7634  | 6       | 9.04846\n",
       "Boston Celtics        | 7.3514  | 6.17096 | 19.8986 | 8.83432 | 8.03022\n",
       "Brooklyn Nets         | 1.3629  | 13.3575 | 7.8     | 26.0806 | 8.70589\n",
       "Charlotte Hornets     | 20.3167 | 14.0573 | 17.9412 | 7.53284 | 24.2543\n",
       "Chicago Bulls         | 20.8488 | 6.93489 | 22.3431 | 3.91632 | 24.7779\n",
       "Cleveland Cavaliers   | 31.0094 | 19.689  | 19.6548 | 22.9705 | 8.98876\n",
       "Dallas Mavericks      | 6.47096 | 23.827  | 17.6727 | 15.3615 | 2.43035\n",
       "Denver Nuggets        | 10.4652 | 14.05   | 7.44724 | 28.7831 | 1.6839\n",
       "Detroit Pistons       | 12.2721 | 0       | 13.913  | 6.86486 | 9.16176\n",
       "Golden State Warriors | 19.6237 | 21.5591 | 16.9145 | 17.9868 | 18.001\n",
       "... (20 rows omitted)"
      ]
     },
     "execution_count": 93,
     "metadata": {},
     "output_type": "execute_result"
    }
   ],
   "source": [
    "team_position_salaries.pivot('POSITION','TEAM',values='SALARY',collect=sum)"
   ]
  },
  {
   "cell_type": "code",
   "execution_count": 94,
   "metadata": {},
   "outputs": [
    {
     "data": {
      "text/html": [
       "<table border=\"1\" class=\"dataframe\">\n",
       "    <thead>\n",
       "        <tr>\n",
       "            <th>TEAM</th> <th>POSITION</th> <th>SALARY sum</th>\n",
       "        </tr>\n",
       "    </thead>\n",
       "    <tbody>\n",
       "        <tr>\n",
       "            <td>Atlanta Hawks </td> <td>C       </td> <td>22.7563   </td>\n",
       "        </tr>\n",
       "        <tr>\n",
       "            <td>Atlanta Hawks </td> <td>PF      </td> <td>22.005    </td>\n",
       "        </tr>\n",
       "        <tr>\n",
       "            <td>Atlanta Hawks </td> <td>PG      </td> <td>9.7634    </td>\n",
       "        </tr>\n",
       "        <tr>\n",
       "            <td>Atlanta Hawks </td> <td>SF      </td> <td>6         </td>\n",
       "        </tr>\n",
       "        <tr>\n",
       "            <td>Atlanta Hawks </td> <td>SG      </td> <td>9.04846   </td>\n",
       "        </tr>\n",
       "        <tr>\n",
       "            <td>Boston Celtics</td> <td>C       </td> <td>7.3514    </td>\n",
       "        </tr>\n",
       "        <tr>\n",
       "            <td>Boston Celtics</td> <td>PF      </td> <td>6.17096   </td>\n",
       "        </tr>\n",
       "        <tr>\n",
       "            <td>Boston Celtics</td> <td>PG      </td> <td>19.8986   </td>\n",
       "        </tr>\n",
       "        <tr>\n",
       "            <td>Boston Celtics</td> <td>SF      </td> <td>8.83432   </td>\n",
       "        </tr>\n",
       "        <tr>\n",
       "            <td>Boston Celtics</td> <td>SG      </td> <td>8.03022   </td>\n",
       "        </tr>\n",
       "    </tbody>\n",
       "</table>\n",
       "<p>... (137 rows omitted)</p>"
      ],
      "text/plain": [
       "TEAM           | POSITION | SALARY sum\n",
       "Atlanta Hawks  | C        | 22.7563\n",
       "Atlanta Hawks  | PF       | 22.005\n",
       "Atlanta Hawks  | PG       | 9.7634\n",
       "Atlanta Hawks  | SF       | 6\n",
       "Atlanta Hawks  | SG       | 9.04846\n",
       "Boston Celtics | C        | 7.3514\n",
       "Boston Celtics | PF       | 6.17096\n",
       "Boston Celtics | PG       | 19.8986\n",
       "Boston Celtics | SF       | 8.83432\n",
       "Boston Celtics | SG       | 8.03022\n",
       "... (137 rows omitted)"
      ]
     },
     "execution_count": 94,
     "metadata": {},
     "output_type": "execute_result"
    }
   ],
   "source": [
    "nba.select('TEAM','POSITION','SALARY').group(make_array('TEAM','POSITION'), sum)"
   ]
  },
  {
   "cell_type": "markdown",
   "metadata": {},
   "source": [
    "# Prediction"
   ]
  },
  {
   "cell_type": "code",
   "execution_count": 2,
   "metadata": {},
   "outputs": [
    {
     "data": {
      "text/html": [
       "<table border=\"1\" class=\"dataframe\">\n",
       "    <thead>\n",
       "        <tr>\n",
       "            <th>family</th> <th>father</th> <th>mother</th> <th>midparentHeight</th> <th>children</th> <th>childNum</th> <th>gender</th> <th>childHeight</th>\n",
       "        </tr>\n",
       "    </thead>\n",
       "    <tbody>\n",
       "        <tr>\n",
       "            <td>1     </td> <td>78.5  </td> <td>67    </td> <td>75.43          </td> <td>4       </td> <td>1       </td> <td>male  </td> <td>73.2       </td>\n",
       "        </tr>\n",
       "        <tr>\n",
       "            <td>1     </td> <td>78.5  </td> <td>67    </td> <td>75.43          </td> <td>4       </td> <td>2       </td> <td>female</td> <td>69.2       </td>\n",
       "        </tr>\n",
       "        <tr>\n",
       "            <td>1     </td> <td>78.5  </td> <td>67    </td> <td>75.43          </td> <td>4       </td> <td>3       </td> <td>female</td> <td>69         </td>\n",
       "        </tr>\n",
       "        <tr>\n",
       "            <td>1     </td> <td>78.5  </td> <td>67    </td> <td>75.43          </td> <td>4       </td> <td>4       </td> <td>female</td> <td>69         </td>\n",
       "        </tr>\n",
       "        <tr>\n",
       "            <td>2     </td> <td>75.5  </td> <td>66.5  </td> <td>73.66          </td> <td>4       </td> <td>1       </td> <td>male  </td> <td>73.5       </td>\n",
       "        </tr>\n",
       "        <tr>\n",
       "            <td>2     </td> <td>75.5  </td> <td>66.5  </td> <td>73.66          </td> <td>4       </td> <td>2       </td> <td>male  </td> <td>72.5       </td>\n",
       "        </tr>\n",
       "        <tr>\n",
       "            <td>2     </td> <td>75.5  </td> <td>66.5  </td> <td>73.66          </td> <td>4       </td> <td>3       </td> <td>female</td> <td>65.5       </td>\n",
       "        </tr>\n",
       "        <tr>\n",
       "            <td>2     </td> <td>75.5  </td> <td>66.5  </td> <td>73.66          </td> <td>4       </td> <td>4       </td> <td>female</td> <td>65.5       </td>\n",
       "        </tr>\n",
       "        <tr>\n",
       "            <td>3     </td> <td>75    </td> <td>64    </td> <td>72.06          </td> <td>2       </td> <td>1       </td> <td>male  </td> <td>71         </td>\n",
       "        </tr>\n",
       "        <tr>\n",
       "            <td>3     </td> <td>75    </td> <td>64    </td> <td>72.06          </td> <td>2       </td> <td>2       </td> <td>female</td> <td>68         </td>\n",
       "        </tr>\n",
       "    </tbody>\n",
       "</table>\n",
       "<p>... (924 rows omitted)</p>"
      ],
      "text/plain": [
       "family | father | mother | midparentHeight | children | childNum | gender | childHeight\n",
       "1      | 78.5   | 67     | 75.43           | 4        | 1        | male   | 73.2\n",
       "1      | 78.5   | 67     | 75.43           | 4        | 2        | female | 69.2\n",
       "1      | 78.5   | 67     | 75.43           | 4        | 3        | female | 69\n",
       "1      | 78.5   | 67     | 75.43           | 4        | 4        | female | 69\n",
       "2      | 75.5   | 66.5   | 73.66           | 4        | 1        | male   | 73.5\n",
       "2      | 75.5   | 66.5   | 73.66           | 4        | 2        | male   | 72.5\n",
       "2      | 75.5   | 66.5   | 73.66           | 4        | 3        | female | 65.5\n",
       "2      | 75.5   | 66.5   | 73.66           | 4        | 4        | female | 65.5\n",
       "3      | 75     | 64     | 72.06           | 2        | 1        | male   | 71\n",
       "3      | 75     | 64     | 72.06           | 2        | 2        | female | 68\n",
       "... (924 rows omitted)"
      ]
     },
     "execution_count": 2,
     "metadata": {},
     "output_type": "execute_result"
    }
   ],
   "source": [
    "galton = Table.read_table('galton.csv')\n",
    "galton"
   ]
  },
  {
   "cell_type": "code",
   "execution_count": 6,
   "metadata": {},
   "outputs": [
    {
     "data": {
      "image/png": "[encoded data removed]",
      "text/plain": [
       "<Figure size 432x288 with 1 Axes>"
      ]
     },
     "metadata": {
      "needs_background": "light"
     },
     "output_type": "display_data"
    }
   ],
   "source": [
    "# Given that a father is 78.5\" tall, and mother is 67\" tall\n",
    "# how tall will the children be?\n",
    "galton.select(1,2,7).hist()"
   ]
  },
  {
   "cell_type": "code",
   "execution_count": null,
   "metadata": {},
   "outputs": [],
   "source": [
    "# why are the father and mother bars taller?\n",
    "# adults --> more dense; children --> more spread out\n",
    "# genders are mixed together"
   ]
  },
  {
   "cell_type": "code",
   "execution_count": 7,
   "metadata": {},
   "outputs": [],
   "source": [
    "# galton said: 'i think avg of parents height --> child height'\n",
    "heights = galton.select(3,7).relabeled(0,'MidParent').relabeled(1,'Child')"
   ]
  },
  {
   "cell_type": "code",
   "execution_count": 8,
   "metadata": {},
   "outputs": [
    {
     "data": {
      "image/png": "[encoded data removed]",
      "text/plain": [
       "<Figure size 360x360 with 1 Axes>"
      ]
     },
     "metadata": {
      "needs_background": "light"
     },
     "output_type": "display_data"
    }
   ],
   "source": [
    "heights.scatter(0)"
   ]
  },
  {
   "cell_type": "code",
   "execution_count": 9,
   "metadata": {},
   "outputs": [
    {
     "data": {
      "text/html": [
       "<table border=\"1\" class=\"dataframe\">\n",
       "    <thead>\n",
       "        <tr>\n",
       "            <th>MidParent</th> <th>Child</th>\n",
       "        </tr>\n",
       "    </thead>\n",
       "    <tbody>\n",
       "        <tr>\n",
       "            <td>68.44    </td> <td>62   </td>\n",
       "        </tr>\n",
       "        <tr>\n",
       "            <td>67.94    </td> <td>71.2 </td>\n",
       "        </tr>\n",
       "        <tr>\n",
       "            <td>67.94    </td> <td>67   </td>\n",
       "        </tr>\n",
       "        <tr>\n",
       "            <td>68.33    </td> <td>62.5 </td>\n",
       "        </tr>\n",
       "        <tr>\n",
       "            <td>68.23    </td> <td>73   </td>\n",
       "        </tr>\n",
       "        <tr>\n",
       "            <td>68.23    </td> <td>72   </td>\n",
       "        </tr>\n",
       "        <tr>\n",
       "            <td>68.23    </td> <td>69   </td>\n",
       "        </tr>\n",
       "        <tr>\n",
       "            <td>67.98    </td> <td>73   </td>\n",
       "        </tr>\n",
       "        <tr>\n",
       "            <td>67.98    </td> <td>71   </td>\n",
       "        </tr>\n",
       "        <tr>\n",
       "            <td>67.98    </td> <td>71   </td>\n",
       "        </tr>\n",
       "    </tbody>\n",
       "</table>\n",
       "<p>... (121 rows omitted)</p>"
      ],
      "text/plain": [
       "MidParent | Child\n",
       "68.44     | 62\n",
       "67.94     | 71.2\n",
       "67.94     | 67\n",
       "68.33     | 62.5\n",
       "68.23     | 73\n",
       "68.23     | 72\n",
       "68.23     | 69\n",
       "67.98     | 73\n",
       "67.98     | 71\n",
       "67.98     | 71\n",
       "... (121 rows omitted)"
      ]
     },
     "execution_count": 9,
     "metadata": {},
     "output_type": "execute_result"
    }
   ],
   "source": [
    "# what will my child height be if midparent height is 68?\n",
    "# something a bit simpler than regression\n",
    "\n",
    "close_to_68 = heights.where('MidParent',are.between(67.5,68.5))\n",
    "close_to_68"
   ]
  },
  {
   "cell_type": "code",
   "execution_count": 10,
   "metadata": {},
   "outputs": [
    {
     "data": {
      "text/plain": [
       "66.24045801526718"
      ]
     },
     "execution_count": 10,
     "metadata": {},
     "output_type": "execute_result"
    }
   ],
   "source": [
    "close_to_68.column(1).mean()"
   ]
  },
  {
   "cell_type": "code",
   "execution_count": 11,
   "metadata": {},
   "outputs": [],
   "source": [
    "def predict_child(mp):\n",
    "    close_points = heights.where('MidParent', are.between(mp-0.5, mp+0.5))\n",
    "    return close_points.column('Child').mean()"
   ]
  },
  {
   "cell_type": "code",
   "execution_count": 12,
   "metadata": {},
   "outputs": [
    {
     "data": {
      "text/plain": [
       "67.27285067873302"
      ]
     },
     "execution_count": 12,
     "metadata": {},
     "output_type": "execute_result"
    }
   ],
   "source": [
    "predict_child(70)"
   ]
  },
  {
   "cell_type": "code",
   "execution_count": 13,
   "metadata": {},
   "outputs": [],
   "source": [
    "preds = heights.apply(predict_child,'MidParent')"
   ]
  },
  {
   "cell_type": "code",
   "execution_count": 14,
   "metadata": {},
   "outputs": [],
   "source": [
    "heights_with_predictions = heights.with_columns(\n",
    "    'Prediction',preds\n",
    ")"
   ]
  },
  {
   "cell_type": "code",
   "execution_count": 15,
   "metadata": {},
   "outputs": [
    {
     "data": {
      "image/png": "[encoded data removed]",
      "text/plain": [
       "<Figure size 360x360 with 1 Axes>"
      ]
     },
     "metadata": {
      "needs_background": "light"
     },
     "output_type": "display_data"
    }
   ],
   "source": [
    "heights_with_predictions.scatter('MidParent')"
   ]
  },
  {
   "cell_type": "markdown",
   "metadata": {},
   "source": [
    "# Combining Everything We Know"
   ]
  },
  {
   "cell_type": "markdown",
   "metadata": {},
   "source": [
    "Is there a relationship between how much a team wins and how much they're paying players?\n",
    "\n",
    "There's a CSV nba_win_loss.csv that has the wins and losses for each team.\n",
    "\n",
    "Use that and the data analysis and visualization skills you've learned in class to determine whether $ paid corresponds to win success. What about amount paid per position? Are there positions it seems more useful to pay people more?"
   ]
  }
 ],
 "metadata": {
  "kernelspec": {
   "display_name": "Python 3",
   "language": "python",
   "name": "python3"
  },
  "language_info": {
   "codemirror_mode": {
    "name": "ipython",
    "version": 3
   },
   "file_extension": ".py",
   "mimetype": "text/x-python",
   "name": "python",
   "nbconvert_exporter": "python",
   "pygments_lexer": "ipython3",
   "version": "3.7.3"
  }
 },
 "nbformat": 4,
 "nbformat_minor": 2
}

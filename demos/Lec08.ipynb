{
 "cells": [
  {
   "cell_type": "code",
   "execution_count": 3,
   "metadata": {},
   "outputs": [],
   "source": [
    "from datascience import *\n",
    "import numpy as np\n",
    "\n",
    "%matplotlib inline\n",
    "import matplotlib.pyplot as plots\n",
    "plots.style.use('fivethirtyeight')"
   ]
  },
  {
   "cell_type": "markdown",
   "metadata": {},
   "source": [
    "# Functions"
   ]
  },
  {
   "cell_type": "code",
   "execution_count": 4,
   "metadata": {},
   "outputs": [
    {
     "data": {
      "text/plain": [
       "2"
      ]
     },
     "execution_count": 4,
     "metadata": {},
     "output_type": "execute_result"
    }
   ],
   "source": [
    "abs(-2)"
   ]
  },
  {
   "cell_type": "code",
   "execution_count": 5,
   "metadata": {},
   "outputs": [
    {
     "data": {
      "text/plain": [
       "3"
      ]
     },
     "execution_count": 5,
     "metadata": {},
     "output_type": "execute_result"
    }
   ],
   "source": [
    "max(1,2,3)"
   ]
  },
  {
   "cell_type": "code",
   "execution_count": 6,
   "metadata": {},
   "outputs": [
    {
     "data": {
      "text/plain": [
       "212.0"
      ]
     },
     "execution_count": 6,
     "metadata": {},
     "output_type": "execute_result"
    }
   ],
   "source": [
    "100 * (9/5) + 32"
   ]
  },
  {
   "cell_type": "code",
   "execution_count": 7,
   "metadata": {},
   "outputs": [
    {
     "data": {
      "text/plain": [
       "32.0"
      ]
     },
     "execution_count": 7,
     "metadata": {},
     "output_type": "execute_result"
    }
   ],
   "source": [
    "0 * (9/5) + 32"
   ]
  },
  {
   "cell_type": "code",
   "execution_count": 8,
   "metadata": {},
   "outputs": [
    {
     "data": {
      "text/plain": [
       "69.80000000000001"
      ]
     },
     "execution_count": 8,
     "metadata": {},
     "output_type": "execute_result"
    }
   ],
   "source": [
    "21 * (9/5) + 32"
   ]
  },
  {
   "cell_type": "code",
   "execution_count": 9,
   "metadata": {},
   "outputs": [],
   "source": [
    "# what was I doing?\n",
    "# converting from celsius to fahrenheit\n",
    "# when you find yourself repeating the same code over and over\n",
    "# better to do a function"
   ]
  },
  {
   "cell_type": "code",
   "execution_count": 10,
   "metadata": {},
   "outputs": [],
   "source": [
    "def fahrenheit(x):\n",
    "    return x * (9/5) + 32"
   ]
  },
  {
   "cell_type": "code",
   "execution_count": 11,
   "metadata": {},
   "outputs": [
    {
     "data": {
      "text/plain": [
       "212.0"
      ]
     },
     "execution_count": 11,
     "metadata": {},
     "output_type": "execute_result"
    }
   ],
   "source": [
    "fahrenheit(100)"
   ]
  },
  {
   "cell_type": "code",
   "execution_count": 12,
   "metadata": {},
   "outputs": [
    {
     "data": {
      "text/plain": [
       "32.0"
      ]
     },
     "execution_count": 12,
     "metadata": {},
     "output_type": "execute_result"
    }
   ],
   "source": [
    "fahrenheit(0)"
   ]
  },
  {
   "cell_type": "code",
   "execution_count": 13,
   "metadata": {},
   "outputs": [
    {
     "data": {
      "text/plain": [
       "77.0"
      ]
     },
     "execution_count": 13,
     "metadata": {},
     "output_type": "execute_result"
    }
   ],
   "source": [
    "y = 100\n",
    "fahrenheit(y/4)"
   ]
  },
  {
   "cell_type": "code",
   "execution_count": 14,
   "metadata": {},
   "outputs": [
    {
     "ename": "NameError",
     "evalue": "name 'x' is not defined",
     "output_type": "error",
     "traceback": [
      "\u001b[0;31m---------------------------------------------------------------------------\u001b[0m",
      "\u001b[0;31mNameError\u001b[0m                                 Traceback (most recent call last)",
      "\u001b[0;32m<ipython-input-14-6fcf9dfbd479>\u001b[0m in \u001b[0;36m<module>\u001b[0;34m\u001b[0m\n\u001b[0;32m----> 1\u001b[0;31m \u001b[0mx\u001b[0m\u001b[0;34m\u001b[0m\u001b[0;34m\u001b[0m\u001b[0m\n\u001b[0m",
      "\u001b[0;31mNameError\u001b[0m: name 'x' is not defined"
     ]
    }
   ],
   "source": [
    "# what happens when I run this?\n",
    "x\n",
    "# arguments are only available inside of the function"
   ]
  },
  {
   "cell_type": "code",
   "execution_count": 15,
   "metadata": {},
   "outputs": [
    {
     "data": {
      "text/plain": [
       "77.0"
      ]
     },
     "execution_count": 15,
     "metadata": {},
     "output_type": "execute_result"
    }
   ],
   "source": [
    "x = 25\n",
    "fahrenheit(x) # what if i add x = 10 in the fahrenheit function?"
   ]
  },
  {
   "cell_type": "code",
   "execution_count": null,
   "metadata": {},
   "outputs": [],
   "source": [
    "# back to slides"
   ]
  },
  {
   "cell_type": "code",
   "execution_count": 16,
   "metadata": {},
   "outputs": [
    {
     "data": {
      "text/plain": [
       "array([16.67, 33.33, 50.  ])"
      ]
     },
     "execution_count": 16,
     "metadata": {},
     "output_type": "execute_result"
    }
   ],
   "source": [
    "counts = make_array(1,2,3)\n",
    "total = counts.sum()\n",
    "np.round(counts / total * 100, 2)"
   ]
  },
  {
   "cell_type": "code",
   "execution_count": 17,
   "metadata": {},
   "outputs": [],
   "source": [
    "def percents(counts):\n",
    "    \"\"\" Converts counts to percents out of the total \"\"\"\n",
    "    total = counts.sum()\n",
    "    np.round(counts / total * 100, 2)"
   ]
  },
  {
   "cell_type": "code",
   "execution_count": 18,
   "metadata": {},
   "outputs": [],
   "source": [
    "percents(counts)\n",
    "# what happened?"
   ]
  },
  {
   "cell_type": "code",
   "execution_count": 19,
   "metadata": {},
   "outputs": [],
   "source": [
    "def percents(counts):\n",
    "    \"\"\" Converts counts to percents out of the total \"\"\"\n",
    "    total = counts.sum()\n",
    "    return np.round(counts / total * 100, 2)"
   ]
  },
  {
   "cell_type": "code",
   "execution_count": 20,
   "metadata": {},
   "outputs": [
    {
     "data": {
      "text/plain": [
       "array([16.67, 33.33, 50.  ])"
      ]
     },
     "execution_count": 20,
     "metadata": {},
     "output_type": "execute_result"
    }
   ],
   "source": [
    "percents(counts)"
   ]
  },
  {
   "cell_type": "code",
   "execution_count": 21,
   "metadata": {},
   "outputs": [],
   "source": [
    "# if i want to change the number of decimal places .... (change to 1, to 3)\n",
    "# good indicatr to add another argument\n",
    "def percents(counts,decimal_places):\n",
    "    \"\"\" Converts counts to percents out of the total \"\"\"\n",
    "    total = counts.sum()\n",
    "    return np.round(counts / total * 100, decimal_places)"
   ]
  },
  {
   "cell_type": "code",
   "execution_count": 22,
   "metadata": {},
   "outputs": [
    {
     "data": {
      "text/plain": [
       "array([16.7, 33.3, 50. ])"
      ]
     },
     "execution_count": 22,
     "metadata": {},
     "output_type": "execute_result"
    }
   ],
   "source": [
    "percents(counts,1)"
   ]
  },
  {
   "cell_type": "code",
   "execution_count": 23,
   "metadata": {},
   "outputs": [
    {
     "ename": "TypeError",
     "evalue": "percents() missing 1 required positional argument: 'decimal_places'",
     "output_type": "error",
     "traceback": [
      "\u001b[0;31m---------------------------------------------------------------------------\u001b[0m",
      "\u001b[0;31mTypeError\u001b[0m                                 Traceback (most recent call last)",
      "\u001b[0;32m<ipython-input-23-860c60f25a0c>\u001b[0m in \u001b[0;36m<module>\u001b[0;34m\u001b[0m\n\u001b[1;32m      1\u001b[0m \u001b[0;31m# what if i almost always want to round to 2?\u001b[0m\u001b[0;34m\u001b[0m\u001b[0;34m\u001b[0m\u001b[0;34m\u001b[0m\u001b[0m\n\u001b[0;32m----> 2\u001b[0;31m \u001b[0mpercents\u001b[0m\u001b[0;34m(\u001b[0m\u001b[0mcounts\u001b[0m\u001b[0;34m)\u001b[0m\u001b[0;34m\u001b[0m\u001b[0;34m\u001b[0m\u001b[0m\n\u001b[0m",
      "\u001b[0;31mTypeError\u001b[0m: percents() missing 1 required positional argument: 'decimal_places'"
     ]
    }
   ],
   "source": [
    "# what if i almost always want to round to 2?\n",
    "percents(counts)"
   ]
  },
  {
   "cell_type": "code",
   "execution_count": 24,
   "metadata": {},
   "outputs": [],
   "source": [
    "def percents(counts,decimal_places=2):\n",
    "    \"\"\" Converts counts to percents out of the total \"\"\"\n",
    "    total = counts.sum()\n",
    "    return np.round(counts / total * 100, decimal_places)"
   ]
  },
  {
   "cell_type": "code",
   "execution_count": 26,
   "metadata": {},
   "outputs": [
    {
     "data": {
      "text/plain": [
       "array([16.67, 33.33, 50.  ])"
      ]
     },
     "execution_count": 26,
     "metadata": {},
     "output_type": "execute_result"
    }
   ],
   "source": [
    "percents(counts)"
   ]
  },
  {
   "cell_type": "code",
   "execution_count": 27,
   "metadata": {},
   "outputs": [
    {
     "data": {
      "text/plain": [
       "array([16.66667, 33.33333, 50.     ])"
      ]
     },
     "execution_count": 27,
     "metadata": {},
     "output_type": "execute_result"
    }
   ],
   "source": [
    "percents(counts,5)"
   ]
  },
  {
   "cell_type": "code",
   "execution_count": null,
   "metadata": {},
   "outputs": [],
   "source": [
    "# we've actually seen this before\n",
    "table.sort()\n",
    "table.sort(descending=True)"
   ]
  },
  {
   "cell_type": "code",
   "execution_count": 29,
   "metadata": {},
   "outputs": [],
   "source": [
    "# back to slides"
   ]
  },
  {
   "cell_type": "markdown",
   "metadata": {},
   "source": [
    "# Apply"
   ]
  },
  {
   "cell_type": "code",
   "execution_count": 30,
   "metadata": {},
   "outputs": [],
   "source": [
    "def cut_off_at_a_billion(x):\n",
    "    '''The smaller fo x and 1,000,000,000'''\n",
    "    return min(x,1e9)"
   ]
  },
  {
   "cell_type": "code",
   "execution_count": 32,
   "metadata": {},
   "outputs": [
    {
     "data": {
      "text/plain": [
       "1000000000.0"
      ]
     },
     "execution_count": 32,
     "metadata": {},
     "output_type": "execute_result"
    }
   ],
   "source": [
    "cut_off_at_a_billion(1e9+150)"
   ]
  },
  {
   "cell_type": "code",
   "execution_count": 40,
   "metadata": {},
   "outputs": [
    {
     "data": {
      "text/html": [
       "<table border=\"1\" class=\"dataframe\">\n",
       "    <thead>\n",
       "        <tr>\n",
       "            <th>Title</th> <th>Studio</th> <th>Gross</th> <th>Gross (Adjusted)</th> <th>Year</th>\n",
       "        </tr>\n",
       "    </thead>\n",
       "    <tbody>\n",
       "        <tr>\n",
       "            <td>Star Wars                                </td> <td>Fox   </td> <td>460998007</td> <td>1583483200      </td> <td>1977</td>\n",
       "        </tr>\n",
       "        <tr>\n",
       "            <td>The Sound of Music                       </td> <td>Fox   </td> <td>158671368</td> <td>1266072700      </td> <td>1965</td>\n",
       "        </tr>\n",
       "        <tr>\n",
       "            <td>The Empire Strikes Back                  </td> <td>Fox   </td> <td>290475067</td> <td>872825900       </td> <td>1980</td>\n",
       "        </tr>\n",
       "        <tr>\n",
       "            <td>Avatar                                   </td> <td>Fox   </td> <td>760507625</td> <td>865082100       </td> <td>2009</td>\n",
       "        </tr>\n",
       "        <tr>\n",
       "            <td>Return of the Jedi                       </td> <td>Fox   </td> <td>309306177</td> <td>836188200       </td> <td>1983</td>\n",
       "        </tr>\n",
       "        <tr>\n",
       "            <td>Star Wars: Episode I - The Phantom Menace</td> <td>Fox   </td> <td>474544677</td> <td>802874300       </td> <td>1999</td>\n",
       "        </tr>\n",
       "        <tr>\n",
       "            <td>Butch Cassidy and the Sundance Kid       </td> <td>Fox   </td> <td>102308889</td> <td>627259300       </td> <td>1969</td>\n",
       "        </tr>\n",
       "        <tr>\n",
       "            <td>Independence Day                         </td> <td>Fox   </td> <td>306169268</td> <td>615800300       </td> <td>1996</td>\n",
       "        </tr>\n",
       "        <tr>\n",
       "            <td>Home Alone                               </td> <td>Fox   </td> <td>285761243</td> <td>602157000       </td> <td>1990</td>\n",
       "        </tr>\n",
       "        <tr>\n",
       "            <td>Cleopatra (1963)                         </td> <td>Fox   </td> <td>57777778 </td> <td>597261000       </td> <td>1963</td>\n",
       "        </tr>\n",
       "    </tbody>\n",
       "</table>\n",
       "<p>... (14 rows omitted)</p>"
      ],
      "text/plain": [
       "Title                                     | Studio | Gross     | Gross (Adjusted) | Year\n",
       "Star Wars                                 | Fox    | 460998007 | 1583483200       | 1977\n",
       "The Sound of Music                        | Fox    | 158671368 | 1266072700       | 1965\n",
       "The Empire Strikes Back                   | Fox    | 290475067 | 872825900        | 1980\n",
       "Avatar                                    | Fox    | 760507625 | 865082100        | 2009\n",
       "Return of the Jedi                        | Fox    | 309306177 | 836188200        | 1983\n",
       "Star Wars: Episode I - The Phantom Menace | Fox    | 474544677 | 802874300        | 1999\n",
       "Butch Cassidy and the Sundance Kid        | Fox    | 102308889 | 627259300        | 1969\n",
       "Independence Day                          | Fox    | 306169268 | 615800300        | 1996\n",
       "Home Alone                                | Fox    | 285761243 | 602157000        | 1990\n",
       "Cleopatra (1963)                          | Fox    | 57777778  | 597261000        | 1963\n",
       "... (14 rows omitted)"
      ]
     },
     "execution_count": 40,
     "metadata": {},
     "output_type": "execute_result"
    }
   ],
   "source": [
    "top = Table.read_table('top_movies_2017.csv')\n",
    "top = top.where('Studio','Fox').sort(3,descending=True)\n",
    "top"
   ]
  },
  {
   "cell_type": "code",
   "execution_count": 41,
   "metadata": {},
   "outputs": [
    {
     "data": {
      "text/plain": [
       "1000000000.0"
      ]
     },
     "execution_count": 41,
     "metadata": {},
     "output_type": "execute_result"
    }
   ],
   "source": [
    "cut_off_at_a_billion(top.column(3).item(0))"
   ]
  },
  {
   "cell_type": "code",
   "execution_count": 42,
   "metadata": {},
   "outputs": [
    {
     "ename": "ValueError",
     "evalue": "The truth value of an array with more than one element is ambiguous. Use a.any() or a.all()",
     "output_type": "error",
     "traceback": [
      "\u001b[0;31m---------------------------------------------------------------------------\u001b[0m",
      "\u001b[0;31mValueError\u001b[0m                                Traceback (most recent call last)",
      "\u001b[0;32m<ipython-input-42-472316856f12>\u001b[0m in \u001b[0;36m<module>\u001b[0;34m\u001b[0m\n\u001b[0;32m----> 1\u001b[0;31m \u001b[0mcut_off_at_a_billion\u001b[0m\u001b[0;34m(\u001b[0m\u001b[0mtop\u001b[0m\u001b[0;34m.\u001b[0m\u001b[0mcolumn\u001b[0m\u001b[0;34m(\u001b[0m\u001b[0;36m3\u001b[0m\u001b[0;34m)\u001b[0m\u001b[0;34m)\u001b[0m\u001b[0;34m\u001b[0m\u001b[0;34m\u001b[0m\u001b[0m\n\u001b[0m",
      "\u001b[0;32m<ipython-input-30-c8904df0719a>\u001b[0m in \u001b[0;36mcut_off_at_a_billion\u001b[0;34m(x)\u001b[0m\n\u001b[1;32m      1\u001b[0m \u001b[0;32mdef\u001b[0m \u001b[0mcut_off_at_a_billion\u001b[0m\u001b[0;34m(\u001b[0m\u001b[0mx\u001b[0m\u001b[0;34m)\u001b[0m\u001b[0;34m:\u001b[0m\u001b[0;34m\u001b[0m\u001b[0;34m\u001b[0m\u001b[0m\n\u001b[1;32m      2\u001b[0m     \u001b[0;34m'''The smaller fo x and 1,000,000,000'''\u001b[0m\u001b[0;34m\u001b[0m\u001b[0;34m\u001b[0m\u001b[0m\n\u001b[0;32m----> 3\u001b[0;31m     \u001b[0;32mreturn\u001b[0m \u001b[0mmin\u001b[0m\u001b[0;34m(\u001b[0m\u001b[0mx\u001b[0m\u001b[0;34m,\u001b[0m\u001b[0;36m1e9\u001b[0m\u001b[0;34m)\u001b[0m\u001b[0;34m\u001b[0m\u001b[0;34m\u001b[0m\u001b[0m\n\u001b[0m",
      "\u001b[0;31mValueError\u001b[0m: The truth value of an array with more than one element is ambiguous. Use a.any() or a.all()"
     ]
    }
   ],
   "source": [
    "cut_off_at_a_billion(top.column(3))"
   ]
  },
  {
   "cell_type": "code",
   "execution_count": 44,
   "metadata": {},
   "outputs": [
    {
     "data": {
      "text/plain": [
       "array([1.000000e+09, 1.000000e+09, 8.728259e+08, 8.650821e+08,\n",
       "       8.361882e+08, 8.028743e+08, 6.272593e+08, 6.158003e+08,\n",
       "       6.021570e+08, 5.972610e+08, 5.818909e+08, 5.456296e+08,\n",
       "       5.273955e+08, 4.895672e+08, 4.880784e+08, 4.772526e+08,\n",
       "       4.753347e+08, 4.683642e+08, 4.058042e+08, 3.759846e+08,\n",
       "       3.724394e+08, 3.720429e+08, 3.541648e+08, 3.413578e+08])"
      ]
     },
     "execution_count": 44,
     "metadata": {},
     "output_type": "execute_result"
    }
   ],
   "source": [
    "cut_off = top.apply(cut_off_at_a_billion, 'Gross (Adjusted)')\n",
    "cut_off"
   ]
  },
  {
   "cell_type": "code",
   "execution_count": 45,
   "metadata": {},
   "outputs": [
    {
     "data": {
      "text/html": [
       "<table border=\"1\" class=\"dataframe\">\n",
       "    <thead>\n",
       "        <tr>\n",
       "            <th>Title</th> <th>Studio</th> <th>Gross</th> <th>Gross (Adjusted)</th> <th>Year</th> <th>Cut Off</th>\n",
       "        </tr>\n",
       "    </thead>\n",
       "    <tbody>\n",
       "        <tr>\n",
       "            <td>Star Wars                                </td> <td>Fox   </td> <td>460998007</td> <td>1583483200      </td> <td>1977</td> <td>1e+09      </td>\n",
       "        </tr>\n",
       "        <tr>\n",
       "            <td>The Sound of Music                       </td> <td>Fox   </td> <td>158671368</td> <td>1266072700      </td> <td>1965</td> <td>1e+09      </td>\n",
       "        </tr>\n",
       "        <tr>\n",
       "            <td>The Empire Strikes Back                  </td> <td>Fox   </td> <td>290475067</td> <td>872825900       </td> <td>1980</td> <td>8.72826e+08</td>\n",
       "        </tr>\n",
       "        <tr>\n",
       "            <td>Avatar                                   </td> <td>Fox   </td> <td>760507625</td> <td>865082100       </td> <td>2009</td> <td>8.65082e+08</td>\n",
       "        </tr>\n",
       "        <tr>\n",
       "            <td>Return of the Jedi                       </td> <td>Fox   </td> <td>309306177</td> <td>836188200       </td> <td>1983</td> <td>8.36188e+08</td>\n",
       "        </tr>\n",
       "        <tr>\n",
       "            <td>Star Wars: Episode I - The Phantom Menace</td> <td>Fox   </td> <td>474544677</td> <td>802874300       </td> <td>1999</td> <td>8.02874e+08</td>\n",
       "        </tr>\n",
       "        <tr>\n",
       "            <td>Butch Cassidy and the Sundance Kid       </td> <td>Fox   </td> <td>102308889</td> <td>627259300       </td> <td>1969</td> <td>6.27259e+08</td>\n",
       "        </tr>\n",
       "        <tr>\n",
       "            <td>Independence Day                         </td> <td>Fox   </td> <td>306169268</td> <td>615800300       </td> <td>1996</td> <td>6.158e+08  </td>\n",
       "        </tr>\n",
       "        <tr>\n",
       "            <td>Home Alone                               </td> <td>Fox   </td> <td>285761243</td> <td>602157000       </td> <td>1990</td> <td>6.02157e+08</td>\n",
       "        </tr>\n",
       "        <tr>\n",
       "            <td>Cleopatra (1963)                         </td> <td>Fox   </td> <td>57777778 </td> <td>597261000       </td> <td>1963</td> <td>5.97261e+08</td>\n",
       "        </tr>\n",
       "    </tbody>\n",
       "</table>\n",
       "<p>... (14 rows omitted)</p>"
      ],
      "text/plain": [
       "Title                                     | Studio | Gross     | Gross (Adjusted) | Year | Cut Off\n",
       "Star Wars                                 | Fox    | 460998007 | 1583483200       | 1977 | 1e+09\n",
       "The Sound of Music                        | Fox    | 158671368 | 1266072700       | 1965 | 1e+09\n",
       "The Empire Strikes Back                   | Fox    | 290475067 | 872825900        | 1980 | 8.72826e+08\n",
       "Avatar                                    | Fox    | 760507625 | 865082100        | 2009 | 8.65082e+08\n",
       "Return of the Jedi                        | Fox    | 309306177 | 836188200        | 1983 | 8.36188e+08\n",
       "Star Wars: Episode I - The Phantom Menace | Fox    | 474544677 | 802874300        | 1999 | 8.02874e+08\n",
       "Butch Cassidy and the Sundance Kid        | Fox    | 102308889 | 627259300        | 1969 | 6.27259e+08\n",
       "Independence Day                          | Fox    | 306169268 | 615800300        | 1996 | 6.158e+08\n",
       "Home Alone                                | Fox    | 285761243 | 602157000        | 1990 | 6.02157e+08\n",
       "Cleopatra (1963)                          | Fox    | 57777778  | 597261000        | 1963 | 5.97261e+08\n",
       "... (14 rows omitted)"
      ]
     },
     "execution_count": 45,
     "metadata": {},
     "output_type": "execute_result"
    }
   ],
   "source": [
    "top.with_column('Cut Off',cut_off)"
   ]
  },
  {
   "cell_type": "code",
   "execution_count": 46,
   "metadata": {},
   "outputs": [
    {
     "data": {
      "text/plain": [
       "<function __main__.cut_off_at_a_billion(x)>"
      ]
     },
     "execution_count": 46,
     "metadata": {},
     "output_type": "execute_result"
    }
   ],
   "source": [
    "cut_off_at_a_billion"
   ]
  },
  {
   "cell_type": "code",
   "execution_count": 47,
   "metadata": {},
   "outputs": [
    {
     "data": {
      "text/plain": [
       "function"
      ]
     },
     "execution_count": 47,
     "metadata": {},
     "output_type": "execute_result"
    }
   ],
   "source": [
    "type(cut_off_at_a_billion)"
   ]
  },
  {
   "cell_type": "code",
   "execution_count": 48,
   "metadata": {},
   "outputs": [],
   "source": [
    "cut_off_at_a_billion?"
   ]
  },
  {
   "cell_type": "markdown",
   "metadata": {},
   "source": [
    "# Predictions"
   ]
  },
  {
   "cell_type": "code",
   "execution_count": 50,
   "metadata": {},
   "outputs": [
    {
     "data": {
      "text/html": [
       "<table border=\"1\" class=\"dataframe\">\n",
       "    <thead>\n",
       "        <tr>\n",
       "            <th>family</th> <th>father</th> <th>mother</th> <th>midparentHeight</th> <th>children</th> <th>childNum</th> <th>gender</th> <th>childHeight</th>\n",
       "        </tr>\n",
       "    </thead>\n",
       "    <tbody>\n",
       "        <tr>\n",
       "            <td>1     </td> <td>78.5  </td> <td>67    </td> <td>75.43          </td> <td>4       </td> <td>1       </td> <td>male  </td> <td>73.2       </td>\n",
       "        </tr>\n",
       "        <tr>\n",
       "            <td>1     </td> <td>78.5  </td> <td>67    </td> <td>75.43          </td> <td>4       </td> <td>2       </td> <td>female</td> <td>69.2       </td>\n",
       "        </tr>\n",
       "        <tr>\n",
       "            <td>1     </td> <td>78.5  </td> <td>67    </td> <td>75.43          </td> <td>4       </td> <td>3       </td> <td>female</td> <td>69         </td>\n",
       "        </tr>\n",
       "        <tr>\n",
       "            <td>1     </td> <td>78.5  </td> <td>67    </td> <td>75.43          </td> <td>4       </td> <td>4       </td> <td>female</td> <td>69         </td>\n",
       "        </tr>\n",
       "        <tr>\n",
       "            <td>2     </td> <td>75.5  </td> <td>66.5  </td> <td>73.66          </td> <td>4       </td> <td>1       </td> <td>male  </td> <td>73.5       </td>\n",
       "        </tr>\n",
       "        <tr>\n",
       "            <td>2     </td> <td>75.5  </td> <td>66.5  </td> <td>73.66          </td> <td>4       </td> <td>2       </td> <td>male  </td> <td>72.5       </td>\n",
       "        </tr>\n",
       "        <tr>\n",
       "            <td>2     </td> <td>75.5  </td> <td>66.5  </td> <td>73.66          </td> <td>4       </td> <td>3       </td> <td>female</td> <td>65.5       </td>\n",
       "        </tr>\n",
       "        <tr>\n",
       "            <td>2     </td> <td>75.5  </td> <td>66.5  </td> <td>73.66          </td> <td>4       </td> <td>4       </td> <td>female</td> <td>65.5       </td>\n",
       "        </tr>\n",
       "        <tr>\n",
       "            <td>3     </td> <td>75    </td> <td>64    </td> <td>72.06          </td> <td>2       </td> <td>1       </td> <td>male  </td> <td>71         </td>\n",
       "        </tr>\n",
       "        <tr>\n",
       "            <td>3     </td> <td>75    </td> <td>64    </td> <td>72.06          </td> <td>2       </td> <td>2       </td> <td>female</td> <td>68         </td>\n",
       "        </tr>\n",
       "    </tbody>\n",
       "</table>\n",
       "<p>... (924 rows omitted)</p>"
      ],
      "text/plain": [
       "family | father | mother | midparentHeight | children | childNum | gender | childHeight\n",
       "1      | 78.5   | 67     | 75.43           | 4        | 1        | male   | 73.2\n",
       "1      | 78.5   | 67     | 75.43           | 4        | 2        | female | 69.2\n",
       "1      | 78.5   | 67     | 75.43           | 4        | 3        | female | 69\n",
       "1      | 78.5   | 67     | 75.43           | 4        | 4        | female | 69\n",
       "2      | 75.5   | 66.5   | 73.66           | 4        | 1        | male   | 73.5\n",
       "2      | 75.5   | 66.5   | 73.66           | 4        | 2        | male   | 72.5\n",
       "2      | 75.5   | 66.5   | 73.66           | 4        | 3        | female | 65.5\n",
       "2      | 75.5   | 66.5   | 73.66           | 4        | 4        | female | 65.5\n",
       "3      | 75     | 64     | 72.06           | 2        | 1        | male   | 71\n",
       "3      | 75     | 64     | 72.06           | 2        | 2        | female | 68\n",
       "... (924 rows omitted)"
      ]
     },
     "execution_count": 50,
     "metadata": {},
     "output_type": "execute_result"
    }
   ],
   "source": [
    "galton = Table.read_table('galton.csv')\n",
    "galton"
   ]
  },
  {
   "cell_type": "code",
   "execution_count": 51,
   "metadata": {},
   "outputs": [
    {
     "data": {
      "image/png": "[encoded data removed]",
      "text/plain": [
       "<Figure size 432x288 with 1 Axes>"
      ]
     },
     "metadata": {},
     "output_type": "display_data"
    }
   ],
   "source": [
    "# Given that a father is 78.5\" tall, and mother is 67\" tall\n",
    "# how tall will the children be?\n",
    "galton.select(1,2,7).hist()"
   ]
  },
  {
   "cell_type": "code",
   "execution_count": null,
   "metadata": {},
   "outputs": [],
   "source": [
    "# why are the father and mother bars taller?\n",
    "# adults --> more dense; children --> more spread out\n",
    "# genders are mixed together"
   ]
  },
  {
   "cell_type": "code",
   "execution_count": 54,
   "metadata": {},
   "outputs": [],
   "source": [
    "# galton said: 'i think avg of parents height --> child height'\n",
    "heights = galton.select(3,7).relabeled(0,'MidParent').relabeled(1,'Child')"
   ]
  },
  {
   "cell_type": "code",
   "execution_count": 55,
   "metadata": {},
   "outputs": [
    {
     "data": {
      "image/png": "[encoded data removed]",
      "text/plain": [
       "<Figure size 360x360 with 1 Axes>"
      ]
     },
     "metadata": {},
     "output_type": "display_data"
    }
   ],
   "source": [
    "heights.scatter(0)"
   ]
  },
  {
   "cell_type": "code",
   "execution_count": 56,
   "metadata": {},
   "outputs": [
    {
     "data": {
      "text/html": [
       "<table border=\"1\" class=\"dataframe\">\n",
       "    <thead>\n",
       "        <tr>\n",
       "            <th>MidParent</th> <th>Child</th>\n",
       "        </tr>\n",
       "    </thead>\n",
       "    <tbody>\n",
       "        <tr>\n",
       "            <td>68.44    </td> <td>62   </td>\n",
       "        </tr>\n",
       "        <tr>\n",
       "            <td>67.94    </td> <td>71.2 </td>\n",
       "        </tr>\n",
       "        <tr>\n",
       "            <td>67.94    </td> <td>67   </td>\n",
       "        </tr>\n",
       "        <tr>\n",
       "            <td>68.33    </td> <td>62.5 </td>\n",
       "        </tr>\n",
       "        <tr>\n",
       "            <td>68.23    </td> <td>73   </td>\n",
       "        </tr>\n",
       "        <tr>\n",
       "            <td>68.23    </td> <td>72   </td>\n",
       "        </tr>\n",
       "        <tr>\n",
       "            <td>68.23    </td> <td>69   </td>\n",
       "        </tr>\n",
       "        <tr>\n",
       "            <td>67.98    </td> <td>73   </td>\n",
       "        </tr>\n",
       "        <tr>\n",
       "            <td>67.98    </td> <td>71   </td>\n",
       "        </tr>\n",
       "        <tr>\n",
       "            <td>67.98    </td> <td>71   </td>\n",
       "        </tr>\n",
       "    </tbody>\n",
       "</table>\n",
       "<p>... (121 rows omitted)</p>"
      ],
      "text/plain": [
       "MidParent | Child\n",
       "68.44     | 62\n",
       "67.94     | 71.2\n",
       "67.94     | 67\n",
       "68.33     | 62.5\n",
       "68.23     | 73\n",
       "68.23     | 72\n",
       "68.23     | 69\n",
       "67.98     | 73\n",
       "67.98     | 71\n",
       "67.98     | 71\n",
       "... (121 rows omitted)"
      ]
     },
     "execution_count": 56,
     "metadata": {},
     "output_type": "execute_result"
    }
   ],
   "source": [
    "# what will my child height be if midparent height is 68?\n",
    "# something a bit simpler than regression\n",
    "\n",
    "close_to_68 = heights.where('MidParent',are.between(67.5,68.5))\n",
    "close_to_68"
   ]
  },
  {
   "cell_type": "code",
   "execution_count": 57,
   "metadata": {},
   "outputs": [
    {
     "data": {
      "text/plain": [
       "66.24045801526718"
      ]
     },
     "execution_count": 57,
     "metadata": {},
     "output_type": "execute_result"
    }
   ],
   "source": [
    "close_to_68.column(1).mean()"
   ]
  },
  {
   "cell_type": "code",
   "execution_count": 59,
   "metadata": {},
   "outputs": [],
   "source": [
    "def predict_child(mp):\n",
    "    close_points = heights.where('MidParent', are.between(mp-0.5, mp+0.5))\n",
    "    return close_points.column('Child').mean()"
   ]
  },
  {
   "cell_type": "code",
   "execution_count": 60,
   "metadata": {},
   "outputs": [
    {
     "data": {
      "text/plain": [
       "67.27285067873302"
      ]
     },
     "execution_count": 60,
     "metadata": {},
     "output_type": "execute_result"
    }
   ],
   "source": [
    "predict_child(70)"
   ]
  },
  {
   "cell_type": "code",
   "execution_count": 62,
   "metadata": {},
   "outputs": [],
   "source": [
    "preds = heights.apply(predict_child,'MidParent')"
   ]
  },
  {
   "cell_type": "code",
   "execution_count": 64,
   "metadata": {},
   "outputs": [],
   "source": [
    "heights_with_predictions = heights.with_columns(\n",
    "    'Prediction',preds\n",
    ")"
   ]
  },
  {
   "cell_type": "code",
   "execution_count": 66,
   "metadata": {},
   "outputs": [
    {
     "data": {
      "image/png": "[encoded data removed]",
      "text/plain": [
       "<Figure size 360x360 with 1 Axes>"
      ]
     },
     "metadata": {},
     "output_type": "display_data"
    }
   ],
   "source": [
    "heights_with_predictions.scatter('MidParent')"
   ]
  }
 ],
 "metadata": {
  "kernelspec": {
   "display_name": "Python 3",
   "language": "python",
   "name": "python3"
  },
  "language_info": {
   "codemirror_mode": {
    "name": "ipython",
    "version": 3
   },
   "file_extension": ".py",
   "mimetype": "text/x-python",
   "name": "python",
   "nbconvert_exporter": "python",
   "pygments_lexer": "ipython3",
   "version": "3.6.7"
  }
 },
 "nbformat": 4,
 "nbformat_minor": 2
}

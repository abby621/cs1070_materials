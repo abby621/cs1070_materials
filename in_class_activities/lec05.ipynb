{
 "cells": [
  {
   "cell_type": "markdown",
   "metadata": {},
   "source": [
    "# Working with Real World Data\n",
    "\n",
    "So you've learned a bit of Python! Now let's actually do something with it!\n",
    "\n",
    "Today you're going to work in groups of 3-4 to first find an interesting dataset, read that data in Python, and do some data science.\n",
    "\n",
    "You will have 40 minutes to work in your group, and at the end of class, one person from your group will present your Jupyter Notebook to the rest of the class. Each presentation should be about 3 minutes, briefly sharing (1) a bit of information about the dataset you selected and why you picked it, and (2) the information that you glean from the dataset.\n",
    "\n",
    "<hr>\n",
    "\n",
    "1) Pick a dataset from the [Five-Thirty-Eight data repository](https://github.com/fivethirtyeight/data) that has at least 6 columns and more than 40 rows. Pick one that seems interesting to your group!\n",
    "\n",
    "2) Figure out how to load the dataset that you select into a python Table object in your jupyter hub.\n",
    "\n",
    "3) Explore the dataset using the sorts of operations we discussed in class on Tuesday. Compute different statistics on different parts of the data (e.g., number of individuals, max of a column, min, mean, median, mode, etc.). Pick a few statistics that convey interesting information about the dataset to share with the class.\n",
    "\n",
    "_TIP: To understand what operations you can do, you may want to visit [the numpy statistics documentation](https://docs.scipy.org/doc/numpy/reference/routines.statistics.html) -- also, Google is your friend! (e.g., \"load csv to python table\", \"compute mode of list of strings in Python\" or \"compute mean of array in numpy\")_\n",
    "\n",
    "_ANOTHER TIP: I also added an extra import down below: 'import statistics'. The statistics package is documented [here](https://docs.python.org/3/library/statistics.html) -- it has some nice statistical operations implemented, but you don't need to go crazy with what you're computing._\n",
    "\n",
    "4) BONUS! If you have time, look at the 'Visualizations' section of the [Python Tables documentation](http://data8.org/datascience/tables.html). Read about the different visualization types and pick one that fits with your data (for example, if you have time series data, a 'plot' may be appropriate; if you want to compare the relationship between two variables, you'd want to use a scatter plot).\n",
    "\n",
    "<hr>"
   ]
  },
  {
   "cell_type": "code",
   "execution_count": 3,
   "metadata": {},
   "outputs": [],
   "source": [
    "# Don't delete this section, and run it before you run anything else!\n",
    "# This is a Python comment\n",
    "# Comments are lines that don't execute and are used to explain what your code is doing\n",
    "# COMMENTS ARE YOUR FRIENDS\n",
    "# USE THEM.\n",
    "from datascience import *\n",
    "import numpy as np\n",
    "import statistics # allows you to run code like statistics.mode(['a','a','b','c']) --> 'a'\n",
    "%matplotlib inline"
   ]
  }
 ],
 "metadata": {
  "kernelspec": {
   "display_name": "Python 2",
   "language": "python",
   "name": "python2"
  },
  "language_info": {
   "codemirror_mode": {
    "name": "ipython",
    "version": 2
   },
   "file_extension": ".py",
   "mimetype": "text/x-python",
   "name": "python",
   "nbconvert_exporter": "python",
   "pygments_lexer": "ipython2",
   "version": "2.7.15"
  }
 },
 "nbformat": 4,
 "nbformat_minor": 2
}
